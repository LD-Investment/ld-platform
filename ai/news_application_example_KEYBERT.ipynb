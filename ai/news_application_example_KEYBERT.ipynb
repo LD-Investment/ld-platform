{
 "cells": [
  {
   "cell_type": "markdown",
   "metadata": {},
   "source": [
    "KeyBERT를 활용해서 탑 10개의 키워드를 추출하는 예시 코드이다. "
   ]
  },
  {
   "cell_type": "code",
   "execution_count": 1,
   "metadata": {},
   "outputs": [
    {
     "name": "stderr",
     "output_type": "stream",
     "text": [
      "PyTorch version 1.7.1 available.\n",
      "TensorFlow version 2.5.0 available.\n"
     ]
    }
   ],
   "source": [
    "import numpy as np \n",
    "import pandas as pd \n",
    "import torch \n",
    "import torch.nn as nn \n",
    "from transformers import * # pip install transformers==4.3.3\n",
    "from googletrans import Translator # pip install googletrans==4.0.0-rc1  \n",
    "from keybert import KeyBERT # pip install keybert \n",
    "import time"
   ]
  },
  {
   "cell_type": "code",
   "execution_count": 2,
   "metadata": {},
   "outputs": [],
   "source": [
    "### define KeyBERT model ###\n",
    "kw_model = KeyBERT()"
   ]
  },
  {
   "cell_type": "code",
   "execution_count": 7,
   "metadata": {
    "scrolled": true
   },
   "outputs": [
    {
     "name": "stdout",
     "output_type": "stream",
     "text": [
      "Analysis \"This year's layer 1 coin rises to rise .. Difference effect\n",
      "Crypet Professional Media Doublock This is the alternative to the ETH (ETH).According to the Block Research data, DEFI TVL has increased from $ 16.1 billion to $ 16.1 billion in November 30, based on November 30, and the Dual ETH DEFI share fell to 63% from the exclusive level.This is an analysis that the user moved by a Beans Smart Cherry (BSC), Amblan (AVAX), which is a cost-effective basin (BSC), AVAX (AVAX).\n",
      "\n",
      "Top Keywords\n",
      "#tvl #eth #defi #cost #coin #billion #layer #avax #increased #crypet "
     ]
    }
   ],
   "source": [
    "### text scraped from coinness ### \n",
    "kor_text = '''\n",
    "분석 \"올해 레이어1 코인이 상승 주도.. 디파이 영향\n",
    "암호화폐 전문 미디어 더블록이 이더리움(ETH)의 대안으로 떠오른 레이어1 블록체인들이 올해 암호화폐 가격 상승을 주도했다고 전했다. 블록 리서치(Block Research) 데이터에 따르면 디파이(DeFi) TVL이 연초 161억 달러에서 11월 30일 기준 1014억 달러로 증가했으며, 이중 ETH DeFi 점유율은 독점 수준에서 63% 까지 하락했다. 이더리움 수수료가 최고치를 기록하며, 비용이 저렴한 바이낸스스마트체인(BSC), 아발란체(AVAX) 등으로 사용자가 이동했다는 분석이다.\n",
    "'''\n",
    "\n",
    "### translate text from Korean to English ### \n",
    "translator = Translator() \n",
    "eng_text = translator.translate(kor_text).text \n",
    "\n",
    "print(eng_text)\n",
    "print() \n",
    "\n",
    "### extract top 10 keywords ### \n",
    "d = kw_model.extract_keywords(eng_text, \n",
    "                              keyphrase_ngram_range = (1,1), \n",
    "                              top_n = 10) \n",
    "\n",
    "print(\"Top Keywords\")\n",
    "for i in range(len(d)):\n",
    "    phrase = d[i][0] \n",
    "    print(\"#\" + phrase + \" \", end=\"\")\n"
   ]
  },
  {
   "cell_type": "code",
   "execution_count": null,
   "metadata": {},
   "outputs": [],
   "source": []
  }
 ],
 "metadata": {
  "kernelspec": {
   "display_name": "Python 3",
   "language": "python",
   "name": "python3"
  },
  "language_info": {
   "codemirror_mode": {
    "name": "ipython",
    "version": 3
   },
   "file_extension": ".py",
   "mimetype": "text/x-python",
   "name": "python",
   "nbconvert_exporter": "python",
   "pygments_lexer": "ipython3",
   "version": "3.8.5"
  }
 },
 "nbformat": 4,
 "nbformat_minor": 4
}
