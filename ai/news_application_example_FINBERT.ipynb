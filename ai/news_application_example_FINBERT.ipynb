{
 "cells": [
  {
   "cell_type": "markdown",
   "metadata": {},
   "source": [
    "FinBERT를 활용해서 뉴스 기사의 감성 점수를 계산하는 예시를 보여준다. "
   ]
  },
  {
   "cell_type": "code",
   "execution_count": 47,
   "metadata": {},
   "outputs": [],
   "source": [
    "import numpy as np \n",
    "import pandas as pd \n",
    "from transformers import * # pip install transformers==4.3.3\n",
    "from googletrans import Translator # pip install googletrans==4.0.0-rc1 \n",
    "import torch # pip install torch==1.7.1 \n",
    "import torch.nn as nn"
   ]
  },
  {
   "cell_type": "code",
   "execution_count": 7,
   "metadata": {},
   "outputs": [
    {
     "data": {
      "application/vnd.jupyter.widget-view+json": {
       "model_id": "c28c1f9bbd74463fa44362fea980ffb4",
       "version_major": 2,
       "version_minor": 0
      },
      "text/plain": [
       "Downloading:   0%|          | 0.00/758 [00:00<?, ?B/s]"
      ]
     },
     "metadata": {},
     "output_type": "display_data"
    },
    {
     "data": {
      "application/vnd.jupyter.widget-view+json": {
       "model_id": "371a08f6b5c04194a066632438d1b12c",
       "version_major": 2,
       "version_minor": 0
      },
      "text/plain": [
       "Downloading:   0%|          | 0.00/438M [00:00<?, ?B/s]"
      ]
     },
     "metadata": {},
     "output_type": "display_data"
    },
    {
     "data": {
      "application/vnd.jupyter.widget-view+json": {
       "model_id": "e23c786feb744b15ad9f060b4e93967f",
       "version_major": 2,
       "version_minor": 0
      },
      "text/plain": [
       "Downloading:   0%|          | 0.00/232k [00:00<?, ?B/s]"
      ]
     },
     "metadata": {},
     "output_type": "display_data"
    },
    {
     "data": {
      "application/vnd.jupyter.widget-view+json": {
       "model_id": "4546fd1b20aa45b686e82834a7ea8ae3",
       "version_major": 2,
       "version_minor": 0
      },
      "text/plain": [
       "Downloading:   0%|          | 0.00/112 [00:00<?, ?B/s]"
      ]
     },
     "metadata": {},
     "output_type": "display_data"
    },
    {
     "data": {
      "application/vnd.jupyter.widget-view+json": {
       "model_id": "11e08a19ec1e408ea87ba05c6f2f55c4",
       "version_major": 2,
       "version_minor": 0
      },
      "text/plain": [
       "Downloading:   0%|          | 0.00/252 [00:00<?, ?B/s]"
      ]
     },
     "metadata": {},
     "output_type": "display_data"
    }
   ],
   "source": [
    "### define FinBERT model for sentiment classification ### \n",
    "finbert = BertForSequenceClassification.from_pretrained('ProsusAI/finbert',num_labels=3)\n",
    "tokenizer = BertTokenizer.from_pretrained('ProsusAI/finbert')"
   ]
  },
  {
   "cell_type": "code",
   "execution_count": 66,
   "metadata": {},
   "outputs": [
    {
     "name": "stdout",
     "output_type": "stream",
     "text": [
      "ETH Short-Term Drop, Temporary Refund to $3,900\n",
      "According to Coinness Market Monitoring, ETH temporarily returned $3,900, indicating a short-term downward trend. On the Binance USDT market, ETH is currently trading at $3,901.05, down 4.15%.\n",
      "\n",
      "Calculations...\n",
      "Positive sentiment: 0.783%\n",
      "Negative sentiment: 97.541%\n",
      "Neutral sentiment: 1.676%\n"
     ]
    }
   ],
   "source": [
    "### text scraped from coinness ### \n",
    "kor_text = '''\n",
    "ETH 단기 하락, 3,900 달러선 일시 반납\n",
    "코인니스 마켓 모니터링에 따르면, ETH가 단기 하락 흐름을 나타내며 3,900 달러선을 일시 반납했다. 바이낸스 USDT 마켓 기준 ETH는 현재 4.15% 내린 3,901.05 달러에 거래되고 있다.\n",
    "'''\n",
    "\n",
    "### translate text from Korean to English ### \n",
    "translator = Translator() \n",
    "eng_text = translator.translate(kor_text).text \n",
    "\n",
    "print(eng_text)\n",
    "print()\n",
    "\n",
    "### tokenize input text for model processing ### \n",
    "encoded_dict = tokenizer.encode_plus(\n",
    "        text = eng_text, \n",
    "        add_special_tokens = True, # add [CLS] and [SEP]\n",
    "        pad_to_max_length = True, \n",
    "        return_attention_mask = True, # constructing attention_masks \n",
    "        max_length = 512) \n",
    "\n",
    "input_ids = encoded_dict['input_ids']\n",
    "attention_mask = encoded_dict['attention_mask'] \n",
    "token_type_id = encoded_dict['token_type_ids'] \n",
    "\n",
    "input_ids = torch.tensor(input_ids)\n",
    "input_ids = torch.reshape(input_ids,(1,-1)) \n",
    "\n",
    "attention_mask = torch.tensor(attention_mask)\n",
    "attention_mask = torch.reshape(attention_mask, (1,-1)) \n",
    "\n",
    "token_type_id = torch.tensor(token_type_id) \n",
    "token_type_id = torch.reshape(token_type_id, (1,-1)) \n",
    "\n",
    "\n",
    "### calculate sentiment score using FinBERT ### \n",
    "finbert.eval() \n",
    "with torch.no_grad(): \n",
    "    output = finbert(input_ids, attention_mask, token_type_id)\n",
    "\n",
    "criterion = nn.Softmax(dim=1) \n",
    "scores = criterion(output['logits']) \n",
    "\n",
    "print(\"Calculations...\")\n",
    "print(\"Positive sentiment: {:.3f}%\".format(scores[0][0] * 100))\n",
    "print(\"Negative sentiment: {:.3f}%\".format(scores[0][1] * 100))\n",
    "print(\"Neutral sentiment: {:.3f}%\".format(scores[0][2] * 100)) "
   ]
  },
  {
   "cell_type": "code",
   "execution_count": null,
   "metadata": {},
   "outputs": [],
   "source": []
  },
  {
   "cell_type": "code",
   "execution_count": null,
   "metadata": {},
   "outputs": [],
   "source": []
  }
 ],
 "metadata": {
  "kernelspec": {
   "display_name": "Python 3",
   "language": "python",
   "name": "python3"
  },
  "language_info": {
   "codemirror_mode": {
    "name": "ipython",
    "version": 3
   },
   "file_extension": ".py",
   "mimetype": "text/x-python",
   "name": "python",
   "nbconvert_exporter": "python",
   "pygments_lexer": "ipython3",
   "version": "3.6.9"
  }
 },
 "nbformat": 4,
 "nbformat_minor": 4
}
