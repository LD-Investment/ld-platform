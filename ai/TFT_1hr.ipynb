{
 "cells": [
  {
   "cell_type": "code",
   "execution_count": 2,
   "metadata": {},
   "outputs": [],
   "source": [
    "import json \n",
    "import pandas as pd \n",
    "import numpy as np \n",
    "import time \n",
    "from datetime import timezone \n",
    "import os\n",
    "from mplfinance.original_flavor import candlestick_ohlc\n",
    "import pyupbit \n",
    "import ccxt\n",
    "import matplotlib.pyplot as plt\n",
    "from torch.utils.data import Dataset, DataLoader\n",
    "import torch \n",
    "import torch.nn as nn\n",
    "import torch.nn.functional as F \n",
    "from transformers import *\n",
    "import os \n",
    "import time \n",
    "import datetime \n",
    "import matplotlib.pyplot as plt\n",
    "from tqdm import tqdm \n",
    "import numpy as np\n",
    "import json\n",
    "from sklearn.model_selection import train_test_split\n",
    "import seaborn as sns"
   ]
  },
  {
   "cell_type": "code",
   "execution_count": 12,
   "metadata": {},
   "outputs": [
    {
     "data": {
      "text/plain": [
       "((8907, 7),\n",
       " (8941, 7),\n",
       " (8922, 7),\n",
       " (1080, 7),\n",
       " (8907, 7),\n",
       " (8941, 7),\n",
       " (8922, 7),\n",
       " (1080, 7))"
      ]
     },
     "execution_count": 12,
     "metadata": {},
     "output_type": "execute_result"
    }
   ],
   "source": [
    "btc_2019 = pd.read_csv(\"data_1h/2019_BTCUSDT.csv\") \n",
    "btc_2020 = pd.read_csv(\"data_1h/2020_BTCUSDT.csv\") \n",
    "btc_2021 = pd.read_csv(\"data_1h/2021_BTCUSDT.csv\") \n",
    "btc_2022 = pd.read_csv(\"data_1h/2022_BTCUSDT.csv\") \n",
    "\n",
    "eth_2019 = pd.read_csv(\"data_1h/2019_ETHUSDT.csv\") \n",
    "eth_2020 = pd.read_csv(\"data_1h/2020_ETHUSDT.csv\") \n",
    "eth_2021 = pd.read_csv(\"data_1h/2021_ETHUSDT.csv\") \n",
    "eth_2022 = pd.read_csv(\"data_1h/2022_ETHUSDT.csv\") \n",
    "\n",
    "btc_2019.shape, btc_2020.shape, btc_2021.shape, btc_2022.shape, eth_2019.shape, eth_2020.shape, eth_2021.shape, eth_2022.shape"
   ]
  },
  {
   "cell_type": "code",
   "execution_count": 13,
   "metadata": {},
   "outputs": [
    {
     "data": {
      "text/plain": [
       "((26770, 7), (26770, 7), (1080, 7), (1080, 7))"
      ]
     },
     "execution_count": 13,
     "metadata": {},
     "output_type": "execute_result"
    }
   ],
   "source": [
    "btc_train = pd.concat([btc_2019, btc_2020, btc_2021]) \n",
    "eth_train = pd.concat([eth_2019, eth_2020, eth_2021]) \n",
    "\n",
    "btc_val = btc_2022 \n",
    "eth_val = eth_2022\n",
    "\n",
    "btc_train.shape, eth_train.shape, btc_val.shape, eth_val.shape"
   ]
  },
  {
   "cell_type": "code",
   "execution_count": 14,
   "metadata": {},
   "outputs": [],
   "source": [
    "def process(df): \n",
    "    binance = ccxt.binance() \n",
    "    dates = df['Open Time'].values \n",
    "    timestamp = [] \n",
    "    for i in range(len(dates)): \n",
    "        date_string = binance.iso8601(int(dates[i])) \n",
    "        date_string = date_string[:10] + \" \" + date_string[11:-5] \n",
    "        timestamp.append(date_string) \n",
    "    df['datetime'] = timestamp \n",
    "    df = df.drop(columns={'0'})\n",
    "    return df"
   ]
  },
  {
   "cell_type": "code",
   "execution_count": 15,
   "metadata": {},
   "outputs": [],
   "source": [
    "btc_train = process(btc_train) \n",
    "eth_train = process(eth_train) \n",
    "\n",
    "btc_val = process(btc_val) \n",
    "eth_val = process(eth_val)"
   ]
  },
  {
   "cell_type": "code",
   "execution_count": 16,
   "metadata": {},
   "outputs": [
    {
     "data": {
      "text/html": [
       "<div>\n",
       "<style scoped>\n",
       "    .dataframe tbody tr th:only-of-type {\n",
       "        vertical-align: middle;\n",
       "    }\n",
       "\n",
       "    .dataframe tbody tr th {\n",
       "        vertical-align: top;\n",
       "    }\n",
       "\n",
       "    .dataframe thead th {\n",
       "        text-align: right;\n",
       "    }\n",
       "</style>\n",
       "<table border=\"1\" class=\"dataframe\">\n",
       "  <thead>\n",
       "    <tr style=\"text-align: right;\">\n",
       "      <th></th>\n",
       "      <th>BTC Open</th>\n",
       "      <th>BTC High</th>\n",
       "      <th>BTC Low</th>\n",
       "      <th>BTC Close</th>\n",
       "      <th>BTC Volume</th>\n",
       "      <th>datetime</th>\n",
       "      <th>ETH Open</th>\n",
       "      <th>ETH High</th>\n",
       "      <th>ETH Low</th>\n",
       "      <th>ETH Close</th>\n",
       "      <th>ETH Volume</th>\n",
       "    </tr>\n",
       "  </thead>\n",
       "  <tbody>\n",
       "    <tr>\n",
       "      <th>0</th>\n",
       "      <td>3701.23</td>\n",
       "      <td>3713.00</td>\n",
       "      <td>3689.88</td>\n",
       "      <td>3700.31</td>\n",
       "      <td>686.367420</td>\n",
       "      <td>2019-01-01 00:00:00</td>\n",
       "      <td>131.45</td>\n",
       "      <td>132.22</td>\n",
       "      <td>131.01</td>\n",
       "      <td>131.82</td>\n",
       "      <td>12677.96176</td>\n",
       "    </tr>\n",
       "    <tr>\n",
       "      <th>1</th>\n",
       "      <td>3700.20</td>\n",
       "      <td>3702.73</td>\n",
       "      <td>3684.22</td>\n",
       "      <td>3689.69</td>\n",
       "      <td>613.539115</td>\n",
       "      <td>2019-01-01 01:00:00</td>\n",
       "      <td>131.83</td>\n",
       "      <td>131.88</td>\n",
       "      <td>131.00</td>\n",
       "      <td>131.14</td>\n",
       "      <td>9541.84565</td>\n",
       "    </tr>\n",
       "    <tr>\n",
       "      <th>2</th>\n",
       "      <td>3689.67</td>\n",
       "      <td>3695.95</td>\n",
       "      <td>3675.04</td>\n",
       "      <td>3690.00</td>\n",
       "      <td>895.302181</td>\n",
       "      <td>2019-01-01 02:00:00</td>\n",
       "      <td>131.19</td>\n",
       "      <td>131.34</td>\n",
       "      <td>130.00</td>\n",
       "      <td>130.72</td>\n",
       "      <td>12039.04136</td>\n",
       "    </tr>\n",
       "    <tr>\n",
       "      <th>3</th>\n",
       "      <td>3690.00</td>\n",
       "      <td>3699.77</td>\n",
       "      <td>3685.78</td>\n",
       "      <td>3693.13</td>\n",
       "      <td>796.714818</td>\n",
       "      <td>2019-01-01 03:00:00</td>\n",
       "      <td>130.72</td>\n",
       "      <td>131.47</td>\n",
       "      <td>130.71</td>\n",
       "      <td>131.32</td>\n",
       "      <td>6320.30743</td>\n",
       "    </tr>\n",
       "    <tr>\n",
       "      <th>4</th>\n",
       "      <td>3692.32</td>\n",
       "      <td>3720.00</td>\n",
       "      <td>3685.94</td>\n",
       "      <td>3692.71</td>\n",
       "      <td>1317.452909</td>\n",
       "      <td>2019-01-01 04:00:00</td>\n",
       "      <td>131.31</td>\n",
       "      <td>134.00</td>\n",
       "      <td>131.30</td>\n",
       "      <td>132.35</td>\n",
       "      <td>29214.64195</td>\n",
       "    </tr>\n",
       "  </tbody>\n",
       "</table>\n",
       "</div>"
      ],
      "text/plain": [
       "   BTC Open  BTC High  BTC Low  BTC Close   BTC Volume             datetime  \\\n",
       "0   3701.23   3713.00  3689.88    3700.31   686.367420  2019-01-01 00:00:00   \n",
       "1   3700.20   3702.73  3684.22    3689.69   613.539115  2019-01-01 01:00:00   \n",
       "2   3689.67   3695.95  3675.04    3690.00   895.302181  2019-01-01 02:00:00   \n",
       "3   3690.00   3699.77  3685.78    3693.13   796.714818  2019-01-01 03:00:00   \n",
       "4   3692.32   3720.00  3685.94    3692.71  1317.452909  2019-01-01 04:00:00   \n",
       "\n",
       "   ETH Open  ETH High  ETH Low  ETH Close   ETH Volume  \n",
       "0    131.45    132.22   131.01     131.82  12677.96176  \n",
       "1    131.83    131.88   131.00     131.14   9541.84565  \n",
       "2    131.19    131.34   130.00     130.72  12039.04136  \n",
       "3    130.72    131.47   130.71     131.32   6320.30743  \n",
       "4    131.31    134.00   131.30     132.35  29214.64195  "
      ]
     },
     "execution_count": 16,
     "metadata": {},
     "output_type": "execute_result"
    }
   ],
   "source": [
    "btc_train = btc_train.rename(columns={'Open':\"BTC Open\",\n",
    "                                      'High':\"BTC High\", \n",
    "                                      'Low':\"BTC Low\",\n",
    "                                      'Close':\"BTC Close\",\n",
    "                                      'Volume':\"BTC Volume\"})\n",
    "\n",
    "eth_train = eth_train.rename(columns={'Open':\"ETH Open\",\n",
    "                                      'High':\"ETH High\", \n",
    "                                      'Low':\"ETH Low\",\n",
    "                                      'Close':\"ETH Close\",\n",
    "                                      'Volume':\"ETH Volume\"})\n",
    "\n",
    "\n",
    "btc_train = btc_train.drop(columns={'Open Time'}) \n",
    "eth_train = eth_train.drop(columns={'Open Time'})\n",
    "full_df = btc_train.join(eth_train.set_index('datetime'), on='datetime') \n",
    "\n",
    "full_df = full_df.dropna() \n",
    "full_df.head()"
   ]
  },
  {
   "cell_type": "code",
   "execution_count": 17,
   "metadata": {},
   "outputs": [
    {
     "name": "stderr",
     "output_type": "stream",
     "text": [
      "100%|██████████| 27818/27818 [00:13<00:00, 1995.41it/s]\n"
     ]
    }
   ],
   "source": [
    "minutes = [] \n",
    "hours = []\n",
    "days = [] \n",
    "months = [] \n",
    "for dt in tqdm(full_df['datetime']):\n",
    "    minute = pd.to_datetime(dt).minute\n",
    "    hour = pd.to_datetime(dt).hour \n",
    "    day = pd.to_datetime(dt).day \n",
    "    month = pd.to_datetime(dt).month \n",
    "    minutes.append(minute)\n",
    "    hours.append(hour) \n",
    "    days.append(day) \n",
    "    months.append(month)\n",
    "    \n",
    "full_df['Minutes'] = minutes\n",
    "full_df['Hours'] = hours\n",
    "full_df['Days'] = days \n",
    "full_df['Months'] = months "
   ]
  },
  {
   "cell_type": "code",
   "execution_count": 18,
   "metadata": {},
   "outputs": [
    {
     "data": {
      "text/html": [
       "<div>\n",
       "<style scoped>\n",
       "    .dataframe tbody tr th:only-of-type {\n",
       "        vertical-align: middle;\n",
       "    }\n",
       "\n",
       "    .dataframe tbody tr th {\n",
       "        vertical-align: top;\n",
       "    }\n",
       "\n",
       "    .dataframe thead th {\n",
       "        text-align: right;\n",
       "    }\n",
       "</style>\n",
       "<table border=\"1\" class=\"dataframe\">\n",
       "  <thead>\n",
       "    <tr style=\"text-align: right;\">\n",
       "      <th></th>\n",
       "      <th>BTC Open</th>\n",
       "      <th>BTC High</th>\n",
       "      <th>BTC Low</th>\n",
       "      <th>BTC Close</th>\n",
       "      <th>BTC Volume</th>\n",
       "      <th>ETH Open</th>\n",
       "      <th>ETH High</th>\n",
       "      <th>ETH Low</th>\n",
       "      <th>ETH Close</th>\n",
       "      <th>ETH Volume</th>\n",
       "      <th>Minutes</th>\n",
       "      <th>Hours</th>\n",
       "      <th>Days</th>\n",
       "      <th>Months</th>\n",
       "    </tr>\n",
       "  </thead>\n",
       "  <tbody>\n",
       "    <tr>\n",
       "      <th>0</th>\n",
       "      <td>3701.23</td>\n",
       "      <td>3713.00</td>\n",
       "      <td>3689.88</td>\n",
       "      <td>3700.31</td>\n",
       "      <td>686.367420</td>\n",
       "      <td>131.45</td>\n",
       "      <td>132.22</td>\n",
       "      <td>131.01</td>\n",
       "      <td>131.82</td>\n",
       "      <td>12677.96176</td>\n",
       "      <td>0</td>\n",
       "      <td>0</td>\n",
       "      <td>1</td>\n",
       "      <td>1</td>\n",
       "    </tr>\n",
       "    <tr>\n",
       "      <th>1</th>\n",
       "      <td>3700.20</td>\n",
       "      <td>3702.73</td>\n",
       "      <td>3684.22</td>\n",
       "      <td>3689.69</td>\n",
       "      <td>613.539115</td>\n",
       "      <td>131.83</td>\n",
       "      <td>131.88</td>\n",
       "      <td>131.00</td>\n",
       "      <td>131.14</td>\n",
       "      <td>9541.84565</td>\n",
       "      <td>0</td>\n",
       "      <td>1</td>\n",
       "      <td>1</td>\n",
       "      <td>1</td>\n",
       "    </tr>\n",
       "    <tr>\n",
       "      <th>2</th>\n",
       "      <td>3689.67</td>\n",
       "      <td>3695.95</td>\n",
       "      <td>3675.04</td>\n",
       "      <td>3690.00</td>\n",
       "      <td>895.302181</td>\n",
       "      <td>131.19</td>\n",
       "      <td>131.34</td>\n",
       "      <td>130.00</td>\n",
       "      <td>130.72</td>\n",
       "      <td>12039.04136</td>\n",
       "      <td>0</td>\n",
       "      <td>2</td>\n",
       "      <td>1</td>\n",
       "      <td>1</td>\n",
       "    </tr>\n",
       "    <tr>\n",
       "      <th>3</th>\n",
       "      <td>3690.00</td>\n",
       "      <td>3699.77</td>\n",
       "      <td>3685.78</td>\n",
       "      <td>3693.13</td>\n",
       "      <td>796.714818</td>\n",
       "      <td>130.72</td>\n",
       "      <td>131.47</td>\n",
       "      <td>130.71</td>\n",
       "      <td>131.32</td>\n",
       "      <td>6320.30743</td>\n",
       "      <td>0</td>\n",
       "      <td>3</td>\n",
       "      <td>1</td>\n",
       "      <td>1</td>\n",
       "    </tr>\n",
       "    <tr>\n",
       "      <th>4</th>\n",
       "      <td>3692.32</td>\n",
       "      <td>3720.00</td>\n",
       "      <td>3685.94</td>\n",
       "      <td>3692.71</td>\n",
       "      <td>1317.452909</td>\n",
       "      <td>131.31</td>\n",
       "      <td>134.00</td>\n",
       "      <td>131.30</td>\n",
       "      <td>132.35</td>\n",
       "      <td>29214.64195</td>\n",
       "      <td>0</td>\n",
       "      <td>4</td>\n",
       "      <td>1</td>\n",
       "      <td>1</td>\n",
       "    </tr>\n",
       "  </tbody>\n",
       "</table>\n",
       "</div>"
      ],
      "text/plain": [
       "   BTC Open  BTC High  BTC Low  BTC Close   BTC Volume  ETH Open  ETH High  \\\n",
       "0   3701.23   3713.00  3689.88    3700.31   686.367420    131.45    132.22   \n",
       "1   3700.20   3702.73  3684.22    3689.69   613.539115    131.83    131.88   \n",
       "2   3689.67   3695.95  3675.04    3690.00   895.302181    131.19    131.34   \n",
       "3   3690.00   3699.77  3685.78    3693.13   796.714818    130.72    131.47   \n",
       "4   3692.32   3720.00  3685.94    3692.71  1317.452909    131.31    134.00   \n",
       "\n",
       "   ETH Low  ETH Close   ETH Volume  Minutes  Hours  Days  Months  \n",
       "0   131.01     131.82  12677.96176        0      0     1       1  \n",
       "1   131.00     131.14   9541.84565        0      1     1       1  \n",
       "2   130.00     130.72  12039.04136        0      2     1       1  \n",
       "3   130.71     131.32   6320.30743        0      3     1       1  \n",
       "4   131.30     132.35  29214.64195        0      4     1       1  "
      ]
     },
     "execution_count": 18,
     "metadata": {},
     "output_type": "execute_result"
    }
   ],
   "source": [
    "full_df = full_df.drop(columns={'datetime'}) \n",
    "full_df.head()"
   ]
  },
  {
   "cell_type": "markdown",
   "metadata": {},
   "source": [
    "# Feature Engineering for train data + create train dataloader"
   ]
  },
  {
   "cell_type": "code",
   "execution_count": 19,
   "metadata": {},
   "outputs": [],
   "source": [
    "def differencing(df, lookback=121, epsilon=1e-10): \n",
    "    columns = [\"BTC Open\", \"BTC High\", \"BTC Low\", \"BTC Close\", \"BTC Volume\", \n",
    "               \"ETH Open\", \"ETH High\", \"ETH Low\", \"ETH Close\", \"ETH Volume\"]\n",
    "    for col in columns: \n",
    "        feature_values = df[col].values  \n",
    "        d = {} \n",
    "        for i in range(1, lookback): \n",
    "            d['{}_Differenced_{}'.format(col, i)] = []\n",
    "        for i in tqdm(range(df.shape[0]), position=0, leave=True): \n",
    "            if i < lookback: \n",
    "                for j in range(1, lookback): \n",
    "                    d['{}_Differenced_{}'.format(col, j)].append(None)\n",
    "            else: \n",
    "                for j in range(1, lookback): \n",
    "                    if col == \"BTC Volume\" or col == \"ETH Volume\": \n",
    "                        # simple differencing for volume to prevent zero division\n",
    "                        ret = feature_values[i] / (feature_values[i-j] + epsilon)\n",
    "                    else: \n",
    "                        ret = feature_values[i] / feature_values[i-j] \n",
    "                    d['{}_Differenced_{}'.format(col, j)].append(ret) \n",
    "        for key, value in d.items():\n",
    "            df[key] = value\n",
    "    return df \n",
    "\n",
    "\n",
    "def feature_engineering(df): \n",
    "    print(\"===== Feature Engineering =====\")\n",
    "    windows = [5, 10, 20, 60, 120]\n",
    "    \n",
    "    for window in windows: \n",
    "        df['BTC_Open_ma{}'.format(window)] = df['BTC Open'].rolling(window).mean() \n",
    "        df['BTC_Open_ma{}_ratio'.format(window)] = (df['BTC Open'] - df['BTC_Open_ma{}'.format(window)]) / df['BTC_Open_ma{}'.format(window)]\n",
    "\n",
    "        df['BTC_High_ma{}'.format(window)] = df['BTC High'].rolling(window).mean()\n",
    "        df['BTC_High_ma{}_ratio'.format(window)] = (df['BTC High'] - df['BTC_High_ma{}'.format(window)]) / df['BTC_High_ma{}'.format(window)]\n",
    "\n",
    "        df['BTC_Low_ma{}'.format(window)] = df['BTC Low'].rolling(window).mean() \n",
    "        df['BTC_Low_ma{}_ratio'.format(window)] = (df['BTC Low'] - df['BTC_Low_ma{}'.format(window)]) / df['BTC_Low_ma{}'.format(window)]\n",
    "        \n",
    "        df['BTC_Close_ma{}'.format(window)] = df['BTC Close'].rolling(window).mean() \n",
    "        df['BTC_Close_ma{}_ratio'.format(window)] = (df['BTC Close'] - df['BTC_Close_ma{}'.format(window)]) / df['BTC_Close_ma{}'.format(window)]\n",
    "\n",
    "        df['BTC_Volume_ma{}'.format(window)] = df['BTC Volume'].rolling(window).mean() \n",
    "        df['BTC_Volume_ma{}_ratio'.format(window)] = (df['BTC Volume'] - df['BTC_Volume_ma{}'.format(window)]) / df['BTC_Volume_ma{}'.format(window)]\n",
    "        \n",
    "        df['ETH_Open_ma{}'.format(window)] = df['ETH Open'].rolling(window).mean() \n",
    "        df['ETH_Open_ma{}_ratio'.format(window)] = (df['ETH Open'] - df['ETH_Open_ma{}'.format(window)]) / df['ETH_Open_ma{}'.format(window)] \n",
    "        \n",
    "        df['ETH_High_ma{}'.format(window)] = df['ETH High'].rolling(window).mean() \n",
    "        df['ETH_High_ma{}_ratio'.format(window)] = (df['ETH High'] - df['ETH_High_ma{}'.format(window)]) / df['ETH_High_ma{}'.format(window)] \n",
    "        \n",
    "        df['ETH_Low_ma{}'.format(window)] = df['ETH Low'].rolling(window).mean() \n",
    "        df['ETH_Low_ma{}_ratio'.format(window)] = (df['ETH Low'] - df['ETH_Low_ma{}'.format(window)]) / df['ETH_Low_ma{}'.format(window)] \n",
    "        \n",
    "        df['ETH_Close_ma{}'.format(window)] = df['ETH Close'].rolling(window).mean() \n",
    "        df['ETH_Close_ma{}_ratio'.format(window)] = (df['ETH Close'] - df['ETH_Close_ma{}'.format(window)]) / df['ETH_Close_ma{}'.format(window)]\n",
    "\n",
    "        df['ETH_Volume_ma{}'.format(window)] = df['ETH Volume'].rolling(window).mean() \n",
    "        df['ETH_Volume_ma{}_ratio'.format(window)] = (df['ETH Volume'] - df['ETH_Volume_ma{}'.format(window)]) / df['ETH_Volume_ma{}'.format(window)]\n",
    "    \n",
    "    df = differencing(df)  \n",
    "    df = df.dropna() \n",
    "    \n",
    "    print(\"===== Create Target Array =====\")\n",
    "    K = 6 # forecasting window \n",
    "    targets = []\n",
    "    open_values = df['BTC Open'].values \n",
    "    for i in tqdm(range(open_values.shape[0] - K)):\n",
    "        target = [] \n",
    "        for j in range(1,K+1): \n",
    "            ret = open_values[i+j] / open_values[i] \n",
    "            target.append(ret) \n",
    "        targets.append(target) \n",
    "\n",
    "    print(\"===== Create Future Discrete Array =====\")\n",
    "    future_discs = []\n",
    "    disc_values = df[[\"Minutes\",\"Hours\",\"Days\",\"Months\"]] \n",
    "    \n",
    "    for i in tqdm(range(disc_values.shape[0] - K)):\n",
    "        future_disc = [] \n",
    "        for j in range(1,K+1):\n",
    "            future_disc.append(disc_values.iloc[i+j,:])\n",
    "        future_discs.append(future_disc)\n",
    "    \n",
    "    print(\"===== Get rid of unnecessary columns for training or validation =====\")\n",
    "    df = df.iloc[:-K] \n",
    "    remove_cols = [\"BTC Open\",\n",
    "                   \"BTC High\",\n",
    "                   \"BTC Low\", \n",
    "                   \"BTC Close\", \n",
    "                   \"BTC Volume\", \n",
    "                   \"ETH Open\", \n",
    "                   \"ETH High\", \n",
    "                   \"ETH Low\", \n",
    "                   \"ETH Close\", \n",
    "                   \"ETH Volume\"]\n",
    "    for ticker in [\"BTC\",\"ETH\"]: \n",
    "        for chart_info in [\"Open\", \"High\", \"Low\", \"Close\", \"Volume\"]: \n",
    "            for w in [5,10,20,60,120]:\n",
    "                remove_cols.append(\"{}_{}_ma{}\".format(ticker, chart_info, w)) \n",
    "    \n",
    "    relevant_cols = [] \n",
    "    cols = df.columns \n",
    "    for col in cols: \n",
    "        if col not in remove_cols: \n",
    "            relevant_cols.append(col) \n",
    "    \n",
    "    df = df[relevant_cols] \n",
    "    print(\"Done!\")\n",
    "    return df, targets, future_discs  \n",
    "\n"
   ]
  },
  {
   "cell_type": "code",
   "execution_count": 20,
   "metadata": {},
   "outputs": [
    {
     "name": "stdout",
     "output_type": "stream",
     "text": [
      "===== Feature Engineering =====\n"
     ]
    },
    {
     "name": "stderr",
     "output_type": "stream",
     "text": [
      "100%|██████████| 27818/27818 [00:02<00:00, 10144.88it/s]\n",
      "100%|██████████| 27818/27818 [00:02<00:00, 10322.03it/s]\n",
      "100%|██████████| 27818/27818 [00:02<00:00, 10792.53it/s]\n",
      "100%|██████████| 27818/27818 [00:02<00:00, 10420.10it/s]\n",
      "100%|██████████| 27818/27818 [00:03<00:00, 8923.11it/s]\n",
      "100%|██████████| 27818/27818 [00:02<00:00, 10524.05it/s]\n",
      "100%|██████████| 27818/27818 [00:02<00:00, 10367.92it/s]\n",
      "100%|██████████| 27818/27818 [00:02<00:00, 10332.58it/s]\n",
      "100%|██████████| 27818/27818 [00:02<00:00, 9863.81it/s] \n",
      "100%|██████████| 27818/27818 [00:03<00:00, 8654.91it/s]\n"
     ]
    },
    {
     "name": "stdout",
     "output_type": "stream",
     "text": [
      "===== Create Target Array =====\n"
     ]
    },
    {
     "name": "stderr",
     "output_type": "stream",
     "text": [
      "100%|██████████| 27691/27691 [00:00<00:00, 322955.46it/s]\n"
     ]
    },
    {
     "name": "stdout",
     "output_type": "stream",
     "text": [
      "===== Create Future Discrete Array =====\n"
     ]
    },
    {
     "name": "stderr",
     "output_type": "stream",
     "text": [
      "100%|██████████| 27691/27691 [00:26<00:00, 1063.56it/s]\n"
     ]
    },
    {
     "name": "stdout",
     "output_type": "stream",
     "text": [
      "===== Get rid of unnecessary columns for training or validation =====\n",
      "Done!\n"
     ]
    }
   ],
   "source": [
    "train_df, train_targets, train_future_discs = feature_engineering(full_df)"
   ]
  },
  {
   "cell_type": "code",
   "execution_count": 21,
   "metadata": {},
   "outputs": [
    {
     "data": {
      "text/plain": [
       "(27691, 27691, 27691)"
      ]
     },
     "execution_count": 21,
     "metadata": {},
     "output_type": "execute_result"
    }
   ],
   "source": [
    "train_df.shape[0], len(train_targets), len(train_future_discs)"
   ]
  },
  {
   "cell_type": "code",
   "execution_count": 22,
   "metadata": {},
   "outputs": [
    {
     "data": {
      "text/plain": [
       "(torch.Size([27691, 1, 1250, 1]),\n",
       " torch.Size([27691, 6, 1]),\n",
       " torch.Size([27691, 1, 4]),\n",
       " torch.Size([27691, 6, 4]))"
      ]
     },
     "execution_count": 22,
     "metadata": {},
     "output_type": "execute_result"
    }
   ],
   "source": [
    "K = 6 # forecasting window \n",
    "\n",
    "disc_cols = [\"Minutes\", \"Hours\", \"Days\", \"Months\"] \n",
    "cont_cols = [] \n",
    "cols = train_df.columns \n",
    "for col in cols: \n",
    "    if col not in disc_cols: \n",
    "        cont_cols.append(col) \n",
    "        \n",
    "train_cont = train_df[cont_cols].values \n",
    "train_disc = train_df[disc_cols].values\n",
    "\n",
    "train_cont = torch.tensor(train_cont, dtype=torch.float32) \n",
    "train_disc = torch.tensor(train_disc, dtype=torch.float32) \n",
    "\n",
    "num_cont_features = len(cont_cols)\n",
    "num_disc_features = len(disc_cols)\n",
    "\n",
    "train_cont = torch.reshape(train_cont, (-1, 1, num_cont_features, 1)) \n",
    "train_disc = torch.reshape(train_disc, (-1, 1, num_disc_features)) \n",
    "\n",
    "train_targets = torch.tensor(train_targets, dtype=torch.float32) \n",
    "train_targets = torch.reshape(train_targets, (-1, K, 1))  \n",
    "\n",
    "train_future_discs = torch.tensor(train_future_discs, dtype=torch.float32) \n",
    "train_future_discs = torch.reshape(train_future_discs, (-1, K, num_disc_features)) \n",
    "\n",
    "\n",
    "train_cont.shape, train_targets.shape, train_disc.shape, train_future_discs.shape "
   ]
  },
  {
   "cell_type": "code",
   "execution_count": 23,
   "metadata": {},
   "outputs": [],
   "source": [
    "BATCH_SIZE = 128\n",
    "\n",
    "class CustomDataset(Dataset): \n",
    "    def __init__(self, past_cont, past_disc, target_seq, future_disc): \n",
    "        self.past_cont = past_cont\n",
    "        self.past_disc = past_disc \n",
    "        self.target_seq = target_seq  \n",
    "        self.future_disc = future_disc \n",
    "        \n",
    "    def __len__(self): \n",
    "        return len(self.past_cont) \n",
    "    \n",
    "    def __getitem__(self, i):  \n",
    "        return {\n",
    "            'past_cont': torch.tensor(self.past_cont[i], dtype=torch.float32), \n",
    "            'past_disc': torch.tensor(self.past_disc[i], dtype=torch.float32), \n",
    "            'target_seq': torch.tensor(self.target_seq[i], dtype=torch.float32),  \n",
    "            'future_disc': torch.tensor(self.future_disc[i], dtype=torch.float32),  \n",
    "        }\n",
    "\n",
    "train_dataset = CustomDataset(train_cont, train_disc, train_targets, train_future_discs)\n",
    "train_dataloader = torch.utils.data.DataLoader(train_dataset, batch_size = BATCH_SIZE, shuffle = True) "
   ]
  },
  {
   "cell_type": "markdown",
   "metadata": {},
   "source": [
    "# Feature Engineering for val data + Create Val DataLoader"
   ]
  },
  {
   "cell_type": "code",
   "execution_count": 25,
   "metadata": {},
   "outputs": [
    {
     "data": {
      "text/html": [
       "<div>\n",
       "<style scoped>\n",
       "    .dataframe tbody tr th:only-of-type {\n",
       "        vertical-align: middle;\n",
       "    }\n",
       "\n",
       "    .dataframe tbody tr th {\n",
       "        vertical-align: top;\n",
       "    }\n",
       "\n",
       "    .dataframe thead th {\n",
       "        text-align: right;\n",
       "    }\n",
       "</style>\n",
       "<table border=\"1\" class=\"dataframe\">\n",
       "  <thead>\n",
       "    <tr style=\"text-align: right;\">\n",
       "      <th></th>\n",
       "      <th>BTC Open</th>\n",
       "      <th>BTC High</th>\n",
       "      <th>BTC Low</th>\n",
       "      <th>BTC Close</th>\n",
       "      <th>BTC Volume</th>\n",
       "      <th>datetime</th>\n",
       "      <th>ETH Open</th>\n",
       "      <th>ETH High</th>\n",
       "      <th>ETH Low</th>\n",
       "      <th>ETH Close</th>\n",
       "      <th>ETH Volume</th>\n",
       "    </tr>\n",
       "  </thead>\n",
       "  <tbody>\n",
       "    <tr>\n",
       "      <th>0</th>\n",
       "      <td>46216.93</td>\n",
       "      <td>46731.39</td>\n",
       "      <td>46208.37</td>\n",
       "      <td>46656.13</td>\n",
       "      <td>1503.33095</td>\n",
       "      <td>2022-01-01 00:00:00</td>\n",
       "      <td>3676.22</td>\n",
       "      <td>3730.00</td>\n",
       "      <td>3676.22</td>\n",
       "      <td>3723.04</td>\n",
       "      <td>9023.3740</td>\n",
       "    </tr>\n",
       "    <tr>\n",
       "      <th>1</th>\n",
       "      <td>46656.14</td>\n",
       "      <td>46949.99</td>\n",
       "      <td>46574.06</td>\n",
       "      <td>46778.14</td>\n",
       "      <td>943.81539</td>\n",
       "      <td>2022-01-01 01:00:00</td>\n",
       "      <td>3723.04</td>\n",
       "      <td>3748.45</td>\n",
       "      <td>3714.10</td>\n",
       "      <td>3724.89</td>\n",
       "      <td>8997.7569</td>\n",
       "    </tr>\n",
       "    <tr>\n",
       "      <th>2</th>\n",
       "      <td>46778.14</td>\n",
       "      <td>46928.94</td>\n",
       "      <td>46721.96</td>\n",
       "      <td>46811.77</td>\n",
       "      <td>485.16860</td>\n",
       "      <td>2022-01-01 02:00:00</td>\n",
       "      <td>3724.88</td>\n",
       "      <td>3738.47</td>\n",
       "      <td>3722.23</td>\n",
       "      <td>3728.32</td>\n",
       "      <td>5028.4531</td>\n",
       "    </tr>\n",
       "    <tr>\n",
       "      <th>3</th>\n",
       "      <td>46811.77</td>\n",
       "      <td>46916.63</td>\n",
       "      <td>46760.12</td>\n",
       "      <td>46813.20</td>\n",
       "      <td>562.88971</td>\n",
       "      <td>2022-01-01 03:00:00</td>\n",
       "      <td>3728.41</td>\n",
       "      <td>3737.00</td>\n",
       "      <td>3721.84</td>\n",
       "      <td>3723.96</td>\n",
       "      <td>3543.1853</td>\n",
       "    </tr>\n",
       "    <tr>\n",
       "      <th>4</th>\n",
       "      <td>46813.21</td>\n",
       "      <td>46887.33</td>\n",
       "      <td>46591.23</td>\n",
       "      <td>46711.05</td>\n",
       "      <td>861.88389</td>\n",
       "      <td>2022-01-01 04:00:00</td>\n",
       "      <td>3723.96</td>\n",
       "      <td>3728.07</td>\n",
       "      <td>3707.24</td>\n",
       "      <td>3708.21</td>\n",
       "      <td>6117.2820</td>\n",
       "    </tr>\n",
       "  </tbody>\n",
       "</table>\n",
       "</div>"
      ],
      "text/plain": [
       "   BTC Open  BTC High   BTC Low  BTC Close  BTC Volume             datetime  \\\n",
       "0  46216.93  46731.39  46208.37   46656.13  1503.33095  2022-01-01 00:00:00   \n",
       "1  46656.14  46949.99  46574.06   46778.14   943.81539  2022-01-01 01:00:00   \n",
       "2  46778.14  46928.94  46721.96   46811.77   485.16860  2022-01-01 02:00:00   \n",
       "3  46811.77  46916.63  46760.12   46813.20   562.88971  2022-01-01 03:00:00   \n",
       "4  46813.21  46887.33  46591.23   46711.05   861.88389  2022-01-01 04:00:00   \n",
       "\n",
       "   ETH Open  ETH High  ETH Low  ETH Close  ETH Volume  \n",
       "0   3676.22   3730.00  3676.22    3723.04   9023.3740  \n",
       "1   3723.04   3748.45  3714.10    3724.89   8997.7569  \n",
       "2   3724.88   3738.47  3722.23    3728.32   5028.4531  \n",
       "3   3728.41   3737.00  3721.84    3723.96   3543.1853  \n",
       "4   3723.96   3728.07  3707.24    3708.21   6117.2820  "
      ]
     },
     "execution_count": 25,
     "metadata": {},
     "output_type": "execute_result"
    }
   ],
   "source": [
    "btc_val = btc_val.rename(columns={'Open':\"BTC Open\",\n",
    "                                  'High':\"BTC High\", \n",
    "                                    'Low':\"BTC Low\",\n",
    "                                    'Close':\"BTC Close\",\n",
    "                                    'Volume':\"BTC Volume\"})\n",
    "\n",
    "eth_val = eth_val.rename(columns={'Open':\"ETH Open\",\n",
    "                                  'High':\"ETH High\", \n",
    "                                  'Low':\"ETH Low\",\n",
    "                                  'Close':\"ETH Close\",\n",
    "                                  'Volume':\"ETH Volume\"})\n",
    "\n",
    "\n",
    "btc_val = btc_val.drop(columns={'Open Time'}) \n",
    "eth_val = eth_val.drop(columns={'Open Time'})\n",
    "full_val = btc_val.join(eth_val.set_index('datetime'), on='datetime') \n",
    "\n",
    "full_val = full_val.dropna() \n",
    "full_val.head()"
   ]
  },
  {
   "cell_type": "code",
   "execution_count": 26,
   "metadata": {},
   "outputs": [
    {
     "name": "stderr",
     "output_type": "stream",
     "text": [
      "100%|██████████| 1122/1122 [00:00<00:00, 2096.26it/s]\n"
     ]
    }
   ],
   "source": [
    "val_minutes = [] \n",
    "val_hours = []\n",
    "val_days = [] \n",
    "val_months = [] \n",
    "for dt in tqdm(full_val['datetime']):\n",
    "    minute = pd.to_datetime(dt).minute\n",
    "    hour = pd.to_datetime(dt).hour \n",
    "    day = pd.to_datetime(dt).day \n",
    "    month = pd.to_datetime(dt).month \n",
    "    val_minutes.append(minute)\n",
    "    val_hours.append(hour) \n",
    "    val_days.append(day) \n",
    "    val_months.append(month)\n",
    "    \n",
    "full_val['Minutes'] = val_minutes\n",
    "full_val['Hours'] = val_hours\n",
    "full_val['Days'] = val_days \n",
    "full_val['Months'] = val_months "
   ]
  },
  {
   "cell_type": "code",
   "execution_count": 27,
   "metadata": {},
   "outputs": [
    {
     "data": {
      "text/html": [
       "<div>\n",
       "<style scoped>\n",
       "    .dataframe tbody tr th:only-of-type {\n",
       "        vertical-align: middle;\n",
       "    }\n",
       "\n",
       "    .dataframe tbody tr th {\n",
       "        vertical-align: top;\n",
       "    }\n",
       "\n",
       "    .dataframe thead th {\n",
       "        text-align: right;\n",
       "    }\n",
       "</style>\n",
       "<table border=\"1\" class=\"dataframe\">\n",
       "  <thead>\n",
       "    <tr style=\"text-align: right;\">\n",
       "      <th></th>\n",
       "      <th>BTC Open</th>\n",
       "      <th>BTC High</th>\n",
       "      <th>BTC Low</th>\n",
       "      <th>BTC Close</th>\n",
       "      <th>BTC Volume</th>\n",
       "      <th>ETH Open</th>\n",
       "      <th>ETH High</th>\n",
       "      <th>ETH Low</th>\n",
       "      <th>ETH Close</th>\n",
       "      <th>ETH Volume</th>\n",
       "      <th>Minutes</th>\n",
       "      <th>Hours</th>\n",
       "      <th>Days</th>\n",
       "      <th>Months</th>\n",
       "    </tr>\n",
       "  </thead>\n",
       "  <tbody>\n",
       "    <tr>\n",
       "      <th>0</th>\n",
       "      <td>46216.93</td>\n",
       "      <td>46731.39</td>\n",
       "      <td>46208.37</td>\n",
       "      <td>46656.13</td>\n",
       "      <td>1503.33095</td>\n",
       "      <td>3676.22</td>\n",
       "      <td>3730.00</td>\n",
       "      <td>3676.22</td>\n",
       "      <td>3723.04</td>\n",
       "      <td>9023.3740</td>\n",
       "      <td>0</td>\n",
       "      <td>0</td>\n",
       "      <td>1</td>\n",
       "      <td>1</td>\n",
       "    </tr>\n",
       "    <tr>\n",
       "      <th>1</th>\n",
       "      <td>46656.14</td>\n",
       "      <td>46949.99</td>\n",
       "      <td>46574.06</td>\n",
       "      <td>46778.14</td>\n",
       "      <td>943.81539</td>\n",
       "      <td>3723.04</td>\n",
       "      <td>3748.45</td>\n",
       "      <td>3714.10</td>\n",
       "      <td>3724.89</td>\n",
       "      <td>8997.7569</td>\n",
       "      <td>0</td>\n",
       "      <td>1</td>\n",
       "      <td>1</td>\n",
       "      <td>1</td>\n",
       "    </tr>\n",
       "    <tr>\n",
       "      <th>2</th>\n",
       "      <td>46778.14</td>\n",
       "      <td>46928.94</td>\n",
       "      <td>46721.96</td>\n",
       "      <td>46811.77</td>\n",
       "      <td>485.16860</td>\n",
       "      <td>3724.88</td>\n",
       "      <td>3738.47</td>\n",
       "      <td>3722.23</td>\n",
       "      <td>3728.32</td>\n",
       "      <td>5028.4531</td>\n",
       "      <td>0</td>\n",
       "      <td>2</td>\n",
       "      <td>1</td>\n",
       "      <td>1</td>\n",
       "    </tr>\n",
       "    <tr>\n",
       "      <th>3</th>\n",
       "      <td>46811.77</td>\n",
       "      <td>46916.63</td>\n",
       "      <td>46760.12</td>\n",
       "      <td>46813.20</td>\n",
       "      <td>562.88971</td>\n",
       "      <td>3728.41</td>\n",
       "      <td>3737.00</td>\n",
       "      <td>3721.84</td>\n",
       "      <td>3723.96</td>\n",
       "      <td>3543.1853</td>\n",
       "      <td>0</td>\n",
       "      <td>3</td>\n",
       "      <td>1</td>\n",
       "      <td>1</td>\n",
       "    </tr>\n",
       "    <tr>\n",
       "      <th>4</th>\n",
       "      <td>46813.21</td>\n",
       "      <td>46887.33</td>\n",
       "      <td>46591.23</td>\n",
       "      <td>46711.05</td>\n",
       "      <td>861.88389</td>\n",
       "      <td>3723.96</td>\n",
       "      <td>3728.07</td>\n",
       "      <td>3707.24</td>\n",
       "      <td>3708.21</td>\n",
       "      <td>6117.2820</td>\n",
       "      <td>0</td>\n",
       "      <td>4</td>\n",
       "      <td>1</td>\n",
       "      <td>1</td>\n",
       "    </tr>\n",
       "  </tbody>\n",
       "</table>\n",
       "</div>"
      ],
      "text/plain": [
       "   BTC Open  BTC High   BTC Low  BTC Close  BTC Volume  ETH Open  ETH High  \\\n",
       "0  46216.93  46731.39  46208.37   46656.13  1503.33095   3676.22   3730.00   \n",
       "1  46656.14  46949.99  46574.06   46778.14   943.81539   3723.04   3748.45   \n",
       "2  46778.14  46928.94  46721.96   46811.77   485.16860   3724.88   3738.47   \n",
       "3  46811.77  46916.63  46760.12   46813.20   562.88971   3728.41   3737.00   \n",
       "4  46813.21  46887.33  46591.23   46711.05   861.88389   3723.96   3728.07   \n",
       "\n",
       "   ETH Low  ETH Close  ETH Volume  Minutes  Hours  Days  Months  \n",
       "0  3676.22    3723.04   9023.3740        0      0     1       1  \n",
       "1  3714.10    3724.89   8997.7569        0      1     1       1  \n",
       "2  3722.23    3728.32   5028.4531        0      2     1       1  \n",
       "3  3721.84    3723.96   3543.1853        0      3     1       1  \n",
       "4  3707.24    3708.21   6117.2820        0      4     1       1  "
      ]
     },
     "execution_count": 27,
     "metadata": {},
     "output_type": "execute_result"
    }
   ],
   "source": [
    "full_val = full_val.drop(columns={'datetime'}) \n",
    "full_val.head()"
   ]
  },
  {
   "cell_type": "code",
   "execution_count": 28,
   "metadata": {},
   "outputs": [
    {
     "name": "stdout",
     "output_type": "stream",
     "text": [
      "===== Feature Engineering =====\n"
     ]
    },
    {
     "name": "stderr",
     "output_type": "stream",
     "text": [
      "100%|██████████| 1122/1122 [00:00<00:00, 5843.24it/s]\n",
      "100%|██████████| 1122/1122 [00:00<00:00, 5718.79it/s]\n",
      "100%|██████████| 1122/1122 [00:00<00:00, 10509.97it/s]\n",
      "100%|██████████| 1122/1122 [00:00<00:00, 11411.83it/s]\n",
      "100%|██████████| 1122/1122 [00:00<00:00, 9243.06it/s]\n",
      "100%|██████████| 1122/1122 [00:00<00:00, 9179.45it/s]\n",
      "100%|██████████| 1122/1122 [00:00<00:00, 10540.32it/s]\n",
      "100%|██████████| 1122/1122 [00:00<00:00, 9597.77it/s]\n",
      "100%|██████████| 1122/1122 [00:00<00:00, 10897.07it/s]\n",
      "100%|██████████| 1122/1122 [00:00<00:00, 8793.02it/s]\n"
     ]
    },
    {
     "name": "stdout",
     "output_type": "stream",
     "text": [
      "===== Create Target Array =====\n"
     ]
    },
    {
     "name": "stderr",
     "output_type": "stream",
     "text": [
      "100%|██████████| 995/995 [00:00<00:00, 328505.39it/s]\n"
     ]
    },
    {
     "name": "stdout",
     "output_type": "stream",
     "text": [
      "===== Create Future Discrete Array =====\n"
     ]
    },
    {
     "name": "stderr",
     "output_type": "stream",
     "text": [
      "100%|██████████| 995/995 [00:00<00:00, 1078.96it/s]"
     ]
    },
    {
     "name": "stdout",
     "output_type": "stream",
     "text": [
      "===== Get rid of unnecessary columns for training or validation =====\n",
      "Done!\n"
     ]
    },
    {
     "name": "stderr",
     "output_type": "stream",
     "text": [
      "\n"
     ]
    }
   ],
   "source": [
    "val_df, val_targets, val_future_discs = feature_engineering(full_val) "
   ]
  },
  {
   "cell_type": "code",
   "execution_count": 29,
   "metadata": {},
   "outputs": [
    {
     "data": {
      "text/plain": [
       "(995, 995, 995)"
      ]
     },
     "execution_count": 29,
     "metadata": {},
     "output_type": "execute_result"
    }
   ],
   "source": [
    "val_df.shape[0], len(val_targets), len(val_future_discs) "
   ]
  },
  {
   "cell_type": "code",
   "execution_count": 30,
   "metadata": {},
   "outputs": [
    {
     "data": {
      "text/plain": [
       "(torch.Size([995, 1, 1250, 1]),\n",
       " torch.Size([995, 6, 1]),\n",
       " torch.Size([995, 1, 4]),\n",
       " torch.Size([995, 6, 4]))"
      ]
     },
     "execution_count": 30,
     "metadata": {},
     "output_type": "execute_result"
    }
   ],
   "source": [
    "K = 6 # forecasting window \n",
    "\n",
    "disc_cols = [\"Minutes\", \"Hours\", \"Days\", \"Months\"] \n",
    "cont_cols = [] \n",
    "cols = train_df.columns \n",
    "for col in cols: \n",
    "    if col not in disc_cols: \n",
    "        cont_cols.append(col) \n",
    "        \n",
    "val_cont = val_df[cont_cols].values \n",
    "val_disc = val_df[disc_cols].values\n",
    "\n",
    "val_cont = torch.tensor(val_cont, dtype=torch.float32) \n",
    "val_disc = torch.tensor(val_disc, dtype=torch.float32) \n",
    "\n",
    "num_cont_features = len(cont_cols) \n",
    "num_disc_features = len(disc_cols)\n",
    "\n",
    "val_cont = torch.reshape(val_cont, (-1, 1, num_cont_features, 1)) \n",
    "val_disc = torch.reshape(val_disc, (-1, 1, num_disc_features))  \n",
    "\n",
    "val_targets = torch.tensor(val_targets, dtype=torch.float32) \n",
    "val_targets = torch.reshape(val_targets, (-1, K, 1))  \n",
    "\n",
    "val_future_discs = torch.tensor(val_future_discs, dtype=torch.float32) \n",
    "val_future_discs = torch.reshape(val_future_discs, (-1, K, num_disc_features)) \n",
    "\n",
    "\n",
    "val_cont.shape, val_targets.shape, val_disc.shape, val_future_discs.shape "
   ]
  },
  {
   "cell_type": "code",
   "execution_count": 31,
   "metadata": {},
   "outputs": [],
   "source": [
    "val_dataset = CustomDataset(val_cont, val_disc, val_targets, val_future_discs)  \n",
    "val_dataloader = torch.utils.data.DataLoader(val_dataset, batch_size = BATCH_SIZE, shuffle = False) "
   ]
  },
  {
   "cell_type": "markdown",
   "metadata": {},
   "source": [
    "# Define Temporal Fusion Transformer"
   ]
  },
  {
   "cell_type": "code",
   "execution_count": 32,
   "metadata": {},
   "outputs": [],
   "source": [
    "def a_norm(Q, K): \n",
    "    m = torch.matmul(Q, K.transpose(2,1).float()) \n",
    "    m /= torch.sqrt(torch.tensor(Q.shape[-1]).float()) \n",
    "    return torch.softmax(m, -1) \n",
    "\n",
    "def attention(Q, K, V): \n",
    "    a = a_norm(Q, K) # (batch_size, dim_attn, seq_length) \n",
    "    return torch.matmul(a, V) # (batch_size, seq_length, seq_length) \n",
    "\n",
    "class AttentionBlock(torch.nn.Module): \n",
    "    def __init__(self, dim_val, dim_attn): \n",
    "        super(AttentionBlock, self).__init__()\n",
    "        self.value = Value(dim_val, dim_val) \n",
    "        self.key = Key(dim_val, dim_attn) \n",
    "        self.query = Query(dim_val, dim_attn) \n",
    "    \n",
    "    def forward(self, x, kv = None):\n",
    "        if kv is None:\n",
    "            # Attention with x connected to Q,K and V (For encoder)\n",
    "            return attention(self.query(x), self.key(x), self.value(x))\n",
    "        # Attention with x as Q, external vector kv as K and V (For decoder)\n",
    "        return attention(self.query(x), self.key(kv), self.value(kv))\n",
    "    \n",
    "class MultiHeadAttentionBlock(torch.nn.Module):\n",
    "    def __init__(self, dim_val, dim_attn, n_heads):\n",
    "        super(MultiHeadAttentionBlock, self).__init__()\n",
    "        self.heads = []\n",
    "        for i in range(n_heads):\n",
    "            self.heads.append(AttentionBlock(dim_val, dim_attn))\n",
    "        \n",
    "        self.fc = nn.Linear(n_heads * dim_val, dim_val, bias = False)\n",
    "                      \n",
    "    def forward(self, x, kv = None):\n",
    "        a = []\n",
    "        for h in self.heads:\n",
    "            a.append(h(x, kv = kv))\n",
    "            \n",
    "        a = torch.stack(a, dim = -1) #combine heads\n",
    "        a = a.flatten(start_dim = 2) #flatten all head outputs\n",
    "        \n",
    "        x = self.fc(a)\n",
    "        return x\n",
    "    \n",
    "class Value(torch.nn.Module):\n",
    "    def __init__(self, dim_input, dim_val):\n",
    "        super(Value, self).__init__()\n",
    "        self.fc1 = nn.Linear(dim_input, dim_val, bias = False).cuda()\n",
    "    \n",
    "    def forward(self, x):\n",
    "        return self.fc1(x)\n",
    "\n",
    "class Key(torch.nn.Module):\n",
    "    def __init__(self, dim_input, dim_attn):\n",
    "        super(Key, self).__init__()\n",
    "        self.fc1 = nn.Linear(dim_input, dim_attn, bias = False).cuda()\n",
    "    \n",
    "    def forward(self, x):\n",
    "        return self.fc1(x)\n",
    "\n",
    "class Query(torch.nn.Module):\n",
    "    def __init__(self, dim_input, dim_attn):\n",
    "        super(Query, self).__init__()\n",
    "        self.fc1 = nn.Linear(dim_input, dim_attn, bias = False).cuda()\n",
    "    \n",
    "    def forward(self, x):\n",
    "        return self.fc1(x)\n",
    "\n",
    "def QuantileLoss(net_out, Y, q):\n",
    "    return (q * F.relu(net_out - Y)) + ((1 - q) * F.relu(Y - net_out))"
   ]
  },
  {
   "cell_type": "code",
   "execution_count": 33,
   "metadata": {},
   "outputs": [],
   "source": [
    "class GLU(torch.nn.Module):\n",
    "    def __init__(self, dim_input):\n",
    "        super(GLU, self).__init__()\n",
    "        self.fc1 = nn.Linear(dim_input, dim_input)\n",
    "        self.fc2 = nn.Linear(dim_input, dim_input)\n",
    "    \n",
    "    def forward(self, x):\n",
    "        return torch.sigmoid(self.fc1(x)) * self.fc2(x) "
   ]
  },
  {
   "cell_type": "code",
   "execution_count": 34,
   "metadata": {},
   "outputs": [],
   "source": [
    "class GRN(torch.nn.Module): \n",
    "    def __init__(self, dim_input, dim_out=None, n_hidden=10, dropout_r=0.1):\n",
    "        super(GRN, self).__init__() \n",
    "        if dim_out != None: \n",
    "            self.skip = nn.Linear(dim_input, dim_out) \n",
    "        else:\n",
    "            self.skip = None\n",
    "            dim_out = dim_input \n",
    "        self.fc1 = nn.Linear(dim_input, n_hidden) \n",
    "        self.fc2 = nn.Linear(n_hidden, dim_out) \n",
    "        self.dropout = nn.Dropout(dropout_r) \n",
    "        self.gate = GLU(dim_out) \n",
    "        self.norm = nn.LayerNorm(dim_out) \n",
    "        \n",
    "    def forward(self, x):\n",
    "        a = F.elu(self.fc1(x))\n",
    "        a = self.dropout(self.fc2(a))\n",
    "        a = self.gate(a)\n",
    "        if self.skip != None:\n",
    "            return self.norm(self.skip(x) + a)\n",
    "        return self.norm(x + a)"
   ]
  },
  {
   "cell_type": "code",
   "execution_count": 35,
   "metadata": {},
   "outputs": [],
   "source": [
    "class VSN(torch.nn.Module): \n",
    "    def __init__(self, n_var_cont, n_var_disc, dim_model, dropout_r=0.1): \n",
    "        super(VSN, self).__init__()\n",
    "        n_var_total = n_var_cont + len(n_var_disc)\n",
    "        # linear transformation of inputs into dmodel vectors \n",
    "        self.linearise = []\n",
    "        for i in range(n_var_cont): \n",
    "            self.linearise.append(nn.Linear(1, dim_model, bias=False).cuda()) \n",
    "        \n",
    "        self.fc = nn.Linear(1, dim_model, bias=False).cuda()     \n",
    "        # entity embeddings for discrete inputs \n",
    "        self.entity_embed = [] \n",
    "        for i in n_var_disc: \n",
    "            self.entity_embed.append(nn.Linear(i, dim_model, bias=False).cuda())  \n",
    "        \n",
    "        self.input_grn = GRN(dim_model, dropout_r = dropout_r) \n",
    "        self.vs_grn = GRN(n_var_total * dim_model, dim_out=n_var_total, dropout_r = dropout_r)\n",
    "    \n",
    "    # input (batch_size, seq_len, n_variables, input_size)\n",
    "    def forward(self, x_cont, x_disc): \n",
    "        # linearise continuous inputs \n",
    "        linearised = [] \n",
    "        for idx, fc in enumerate(self.linearise): \n",
    "            linearised.append(fc(x_cont[:,:,idx])) \n",
    "        # entity embeddings for discrete inputs \n",
    "        embedded = []\n",
    "        '''\n",
    "        for idx, fc in enumerate(self.entity_embed): \n",
    "            embedded.append(fc(x_disc[:,:,idx]))\n",
    "        '''\n",
    "        for x, fc in zip(x_disc, self.entity_embed): \n",
    "            embedded.append(fc(x)) \n",
    "\n",
    "        if len(self.linearise) != 0 and len(self.entity_embed) != 0: \n",
    "            linearised = torch.stack(linearised, dim=-2) \n",
    "            embedded = torch.stack(embedded, dim=-2)    \n",
    "            vectorised_vars = torch.cat((linearised, embedded), dim=-2) # (batch_size, seq_len, dim_model, n_vars_total)\n",
    "        elif len(self.linearise) != 0 and len(self.entity_embed) == 0: \n",
    "            vectorised_vars = torch.stack(linearised, dim=-2) # (batch_size, seq_len, n_var_cont, dim_model)\n",
    "        elif len(self.entity_embed) != 0 and len(self.linearise) == 0: \n",
    "            vectorised_vars = torch.stack(embedded, dim=-2)\n",
    "        \n",
    "        # flatten everything except accross batch for variable selection weights \n",
    "        vs_weights = self.vs_grn(vectorised_vars.flatten(start_dim=2)) # (batch_size, seq_len, n_variables)\n",
    "        vs_weights = torch.softmax(vs_weights, dim=-1).unsqueeze(-1) # (batch_size, seq_len, n_variables, 1) \n",
    "        \n",
    "        # input_grn applied to every input separately \n",
    "        input_weights = self.input_grn(vectorised_vars) # (batch_size, seq_len, n_variables, dim_model)\n",
    "        \n",
    "        x = torch.sum((vs_weights * input_weights), dim = 2) \n",
    "        return x, vs_weights # returns (batch_size, seq_len, dim_model)\n",
    "        "
   ]
  },
  {
   "cell_type": "code",
   "execution_count": 36,
   "metadata": {},
   "outputs": [],
   "source": [
    "class LSTMLayer(torch.nn.Module): \n",
    "    def __init__(self, dim_model, n_layers = 1, dropout_r = 0.1):\n",
    "        super(LSTMLayer, self).__init__()\n",
    "        self.n_layers = n_layers \n",
    "        self.dim_model = dim_model \n",
    "        self.lstm = nn.LSTM(dim_model, dim_model, num_layers = n_layers, batch_first = True) \n",
    "        self.hidden = None\n",
    "        self.dropout = nn.Dropout(dropout_r) \n",
    "    \n",
    "    # takes input (batch_size, seq_len, dim_model)\n",
    "    def forward(self, x): \n",
    "        if self.hidden == None: \n",
    "            raise Exception(\"Call reset() to initialise LSTM Layer\") \n",
    "            \n",
    "        x, self.hidden = self.lstm(x, self.hidden) \n",
    "        x = self.dropout(x) \n",
    "        return x, self.hidden # returns (batch_size, seq_len, dim_model), hidden \n",
    "    \n",
    "    def reset(self, batch_size, gpu = True): \n",
    "        if not gpu: \n",
    "            dtype = torch.FloatTensor \n",
    "        else: \n",
    "            dtype = torch.cuda.FloatTensor\n",
    "        self.hidden = (torch.zeros([self.n_layers, batch_size, self.dim_model]).type(dtype),\n",
    "                       torch.zeros([self.n_layers, batch_size, self.dim_model]).type(dtype)) "
   ]
  },
  {
   "cell_type": "code",
   "execution_count": 37,
   "metadata": {},
   "outputs": [],
   "source": [
    "class TFN(torch.nn.Module): \n",
    "    def __init__(self, \n",
    "                 n_var_past_cont, \n",
    "                 n_var_future_cont,\n",
    "                 n_var_past_disc, \n",
    "                 n_var_future_disc,\n",
    "                 dim_model,\n",
    "                 n_quantiles = 1, \n",
    "                 dropout_r = 0.1,\n",
    "                 n_lstm_layers = 1,\n",
    "                 n_attention_layers = 1,\n",
    "                 n_heads = 4):\n",
    "        super(TFN, self).__init__()\n",
    "        self.vs_past = VSN(n_var_past_cont, n_var_past_disc, dim_model, dropout_r = dropout_r) \n",
    "        self.vs_future = VSN(n_var_future_cont, n_var_future_disc, dim_model, dropout_r = dropout_r)\n",
    "        \n",
    "        self.enc = LSTMLayer(dim_model, dropout_r = dropout_r, n_layers = n_lstm_layers) \n",
    "        self.dec = LSTMLayer(dim_model, dropout_r = dropout_r, n_layers = n_lstm_layers) \n",
    "        \n",
    "        self.gate1 = GLU(dim_model) \n",
    "        self.norm1 = nn.LayerNorm(dim_model) \n",
    "        \n",
    "        self.static_enrich_grn = GRN(dim_model, dropout_r = dropout_r)\n",
    "        \n",
    "        self.attention = [] \n",
    "        for i in range(n_attention_layers): \n",
    "            self.attention.append([MultiHeadAttentionBlock(dim_model, dim_model, n_heads = n_heads).cuda(),\n",
    "                                   nn.LayerNorm(dim_model).cuda()]) \n",
    "        \n",
    "        self.norm2 = nn.LayerNorm(dim_model) \n",
    "        self.positionwise_grn = GRN(dim_model, dropout_r = dropout_r) \n",
    "        self.norm3 = nn.LayerNorm(dim_model) \n",
    "        self.dropout = nn.Dropout(dropout_r) \n",
    "        self.fc_out = nn.Linear(dim_model, n_quantiles) \n",
    "        \n",
    "    # takes input (batch_size, past_seq_len, n_variables_past) \n",
    "    # and (batch_size, future_seq_len, n_variables_future) \n",
    "    def forward(self, x_past_cont, x_past_disc, x_future_cont, x_future_disc):\n",
    "        # Encoder \n",
    "        x_past, vs_weights = self.vs_past(x_past_cont, x_past_disc) \n",
    "        e, e_hidden = self.enc(x_past) \n",
    "        self.dec_hidden = e_hidden \n",
    "        e = self.dropout(e) \n",
    "        x_past = self.norm1(self.gate1(e) + x_past) \n",
    "\n",
    "        # Decoder\n",
    "        x_future, _ = self.vs_future(x_future_cont, x_future_disc) \n",
    "        d, _ = self.dec(x_future) \n",
    "        d = self.dropout(d) \n",
    "        x_future = self.norm1(self.gate1(d) + x_future) \n",
    "\n",
    "        # static enrichment\n",
    "        x = torch.cat((x_past, x_future), dim=1) # (batch_size, past_seq_len + future_seq_len, dim_model)\n",
    "        attention_res = x_future\n",
    "        x = self.static_enrich_grn(x) \n",
    "\n",
    "        # attention layer \n",
    "        a = self.attention[0][1](self.attention[0][0](x) + x) \n",
    "        for at in self.attention[1:]:\n",
    "            a = at[1](at[0](a) + a) \n",
    "        x_future = self.norm2(a[:, x_past.shape[1]:] + x_future) \n",
    "        a = self.positionwise_grn(x_future) \n",
    "        x_future = self.norm3(a + x_future + attention_res) \n",
    "        net_out = self.fc_out(x_future)  \n",
    "        return net_out, vs_weights \n",
    "\n",
    "    def reset(self, batch_size, gpu = True): \n",
    "        self.enc.reset(batch_size, gpu) \n",
    "        self.dec.reset(batch_size, gpu) "
   ]
  },
  {
   "cell_type": "code",
   "execution_count": 38,
   "metadata": {},
   "outputs": [
    {
     "data": {
      "text/plain": [
       "TFN(\n",
       "  (vs_past): VSN(\n",
       "    (fc): Linear(in_features=1, out_features=160, bias=False)\n",
       "    (input_grn): GRN(\n",
       "      (fc1): Linear(in_features=160, out_features=10, bias=True)\n",
       "      (fc2): Linear(in_features=10, out_features=160, bias=True)\n",
       "      (dropout): Dropout(p=0.1, inplace=False)\n",
       "      (gate): GLU(\n",
       "        (fc1): Linear(in_features=160, out_features=160, bias=True)\n",
       "        (fc2): Linear(in_features=160, out_features=160, bias=True)\n",
       "      )\n",
       "      (norm): LayerNorm((160,), eps=1e-05, elementwise_affine=True)\n",
       "    )\n",
       "    (vs_grn): GRN(\n",
       "      (skip): Linear(in_features=200640, out_features=1254, bias=True)\n",
       "      (fc1): Linear(in_features=200640, out_features=10, bias=True)\n",
       "      (fc2): Linear(in_features=10, out_features=1254, bias=True)\n",
       "      (dropout): Dropout(p=0.1, inplace=False)\n",
       "      (gate): GLU(\n",
       "        (fc1): Linear(in_features=1254, out_features=1254, bias=True)\n",
       "        (fc2): Linear(in_features=1254, out_features=1254, bias=True)\n",
       "      )\n",
       "      (norm): LayerNorm((1254,), eps=1e-05, elementwise_affine=True)\n",
       "    )\n",
       "  )\n",
       "  (vs_future): VSN(\n",
       "    (fc): Linear(in_features=1, out_features=160, bias=False)\n",
       "    (input_grn): GRN(\n",
       "      (fc1): Linear(in_features=160, out_features=10, bias=True)\n",
       "      (fc2): Linear(in_features=10, out_features=160, bias=True)\n",
       "      (dropout): Dropout(p=0.1, inplace=False)\n",
       "      (gate): GLU(\n",
       "        (fc1): Linear(in_features=160, out_features=160, bias=True)\n",
       "        (fc2): Linear(in_features=160, out_features=160, bias=True)\n",
       "      )\n",
       "      (norm): LayerNorm((160,), eps=1e-05, elementwise_affine=True)\n",
       "    )\n",
       "    (vs_grn): GRN(\n",
       "      (skip): Linear(in_features=640, out_features=4, bias=True)\n",
       "      (fc1): Linear(in_features=640, out_features=10, bias=True)\n",
       "      (fc2): Linear(in_features=10, out_features=4, bias=True)\n",
       "      (dropout): Dropout(p=0.1, inplace=False)\n",
       "      (gate): GLU(\n",
       "        (fc1): Linear(in_features=4, out_features=4, bias=True)\n",
       "        (fc2): Linear(in_features=4, out_features=4, bias=True)\n",
       "      )\n",
       "      (norm): LayerNorm((4,), eps=1e-05, elementwise_affine=True)\n",
       "    )\n",
       "  )\n",
       "  (enc): LSTMLayer(\n",
       "    (lstm): LSTM(160, 160, batch_first=True)\n",
       "    (dropout): Dropout(p=0.1, inplace=False)\n",
       "  )\n",
       "  (dec): LSTMLayer(\n",
       "    (lstm): LSTM(160, 160, batch_first=True)\n",
       "    (dropout): Dropout(p=0.1, inplace=False)\n",
       "  )\n",
       "  (gate1): GLU(\n",
       "    (fc1): Linear(in_features=160, out_features=160, bias=True)\n",
       "    (fc2): Linear(in_features=160, out_features=160, bias=True)\n",
       "  )\n",
       "  (norm1): LayerNorm((160,), eps=1e-05, elementwise_affine=True)\n",
       "  (static_enrich_grn): GRN(\n",
       "    (fc1): Linear(in_features=160, out_features=10, bias=True)\n",
       "    (fc2): Linear(in_features=10, out_features=160, bias=True)\n",
       "    (dropout): Dropout(p=0.1, inplace=False)\n",
       "    (gate): GLU(\n",
       "      (fc1): Linear(in_features=160, out_features=160, bias=True)\n",
       "      (fc2): Linear(in_features=160, out_features=160, bias=True)\n",
       "    )\n",
       "    (norm): LayerNorm((160,), eps=1e-05, elementwise_affine=True)\n",
       "  )\n",
       "  (norm2): LayerNorm((160,), eps=1e-05, elementwise_affine=True)\n",
       "  (positionwise_grn): GRN(\n",
       "    (fc1): Linear(in_features=160, out_features=10, bias=True)\n",
       "    (fc2): Linear(in_features=10, out_features=160, bias=True)\n",
       "    (dropout): Dropout(p=0.1, inplace=False)\n",
       "    (gate): GLU(\n",
       "      (fc1): Linear(in_features=160, out_features=160, bias=True)\n",
       "      (fc2): Linear(in_features=160, out_features=160, bias=True)\n",
       "    )\n",
       "    (norm): LayerNorm((160,), eps=1e-05, elementwise_affine=True)\n",
       "  )\n",
       "  (norm3): LayerNorm((160,), eps=1e-05, elementwise_affine=True)\n",
       "  (dropout): Dropout(p=0.1, inplace=False)\n",
       "  (fc_out): Linear(in_features=160, out_features=1, bias=True)\n",
       ")"
      ]
     },
     "execution_count": 38,
     "metadata": {},
     "output_type": "execute_result"
    }
   ],
   "source": [
    "features = train_cont.shape[2]\n",
    "\n",
    "model = TFN(n_var_past_cont = features,\n",
    "            n_var_future_cont = 0, \n",
    "            n_var_past_disc = [60, 24, 32, 13], # minutes, hours, days, months\n",
    "            n_var_future_disc = [60, 24, 32, 13],\n",
    "            dim_model = 160) \n",
    "\n",
    "model.cuda()\n"
   ]
  },
  {
   "cell_type": "code",
   "execution_count": 39,
   "metadata": {},
   "outputs": [],
   "source": [
    "device = torch.device('cuda')\n",
    "\n",
    "epochs = 50\n",
    "\n",
    "optimizer = torch.optim.Adam(model.parameters(), lr=5e-5) \n",
    "\n",
    "train_losses, val_losses = [], []  \n",
    "\n",
    "criterion = nn.MSELoss()  \n",
    "\n",
    "total_steps = len(train_dataloader) * epochs\n",
    "\n",
    "scheduler = get_linear_schedule_with_warmup(optimizer, num_warmup_steps=0, num_training_steps=total_steps)"
   ]
  },
  {
   "cell_type": "code",
   "execution_count": 40,
   "metadata": {},
   "outputs": [],
   "source": [
    "def evaluate(data_dataloader): \n",
    "    eval_loss = 0 \n",
    "    for step, batch in enumerate(tqdm(data_dataloader, desc=\"Iteration\", smoothing=0.05, position=0, leave=True)): \n",
    "        past_cont = batch['past_cont'].to(device) \n",
    "        past_disc = batch['past_disc'].to(device) \n",
    "        target_seq = batch['target_seq'].to(device) \n",
    "        future_disc = batch['future_disc'].to(device)\n",
    "        \n",
    "        past_disc = one_hot(past_disc, [60, 24, 32, 13]) \n",
    "        future_disc = one_hot(future_disc, [60, 24, 32, 13]) \n",
    "        \n",
    "        model.reset(batch_size=past_cont.shape[0], gpu=True) \n",
    "        with torch.no_grad():\n",
    "            net_out, vs_weights = model(past_cont, past_disc, None, future_disc)  \n",
    "        loss = criterion(net_out, target_seq)\n",
    "        eval_loss += loss.item() \n",
    "    avg_val_loss = eval_loss / len(data_dataloader)    \n",
    "    return avg_val_loss, net_out, vs_weights\n",
    "\n",
    "# for processing discrete features \n",
    "def one_hot(x, dims, gpu = True):\n",
    "    out = []\n",
    "    batch_size = x.shape[0]\n",
    "    seq_len = x.shape[1]\n",
    "    \n",
    "    if(not gpu):\n",
    "        dtype = torch.FloatTensor\n",
    "    else:\n",
    "        dtype = torch.cuda.FloatTensor\n",
    "    \n",
    "    # print(\"Converting to one hot vector\")\n",
    "    for i in range(0, x.shape[-1]): # get rid of tqdm for training \n",
    "        x_ = x[:,:,i].byte().cpu().long().unsqueeze(-1)\n",
    "        o = torch.zeros([batch_size, seq_len, dims[i]]).long()\n",
    "\n",
    "        o.scatter_(-1, x_,  1)\n",
    "        out.append(o.type(dtype))\n",
    "    return out"
   ]
  },
  {
   "cell_type": "code",
   "execution_count": 41,
   "metadata": {
    "scrolled": true
   },
   "outputs": [
    {
     "name": "stdout",
     "output_type": "stream",
     "text": [
      "\n",
      "======= Epoch 1 / 50 =======\n",
      "Training...\n"
     ]
    },
    {
     "name": "stderr",
     "output_type": "stream",
     "text": [
      "Iteration:   0%|          | 0/217 [00:00<?, ?it/s]/usr/local/lib/python3.6/dist-packages/ipykernel_launcher.py:15: UserWarning: To copy construct from a tensor, it is recommended to use sourceTensor.clone().detach() or sourceTensor.clone().detach().requires_grad_(True), rather than torch.tensor(sourceTensor).\n",
      "  from ipykernel import kernelapp as app\n",
      "/usr/local/lib/python3.6/dist-packages/ipykernel_launcher.py:16: UserWarning: To copy construct from a tensor, it is recommended to use sourceTensor.clone().detach() or sourceTensor.clone().detach().requires_grad_(True), rather than torch.tensor(sourceTensor).\n",
      "  app.launch_new_instance()\n",
      "/usr/local/lib/python3.6/dist-packages/ipykernel_launcher.py:17: UserWarning: To copy construct from a tensor, it is recommended to use sourceTensor.clone().detach() or sourceTensor.clone().detach().requires_grad_(True), rather than torch.tensor(sourceTensor).\n",
      "/usr/local/lib/python3.6/dist-packages/ipykernel_launcher.py:18: UserWarning: To copy construct from a tensor, it is recommended to use sourceTensor.clone().detach() or sourceTensor.clone().detach().requires_grad_(True), rather than torch.tensor(sourceTensor).\n",
      "Iteration:  46%|████▌     | 100/217 [00:40<00:36,  3.24it/s]"
     ]
    },
    {
     "name": "stdout",
     "output_type": "stream",
     "text": [
      "current average loss = 0.09386\n"
     ]
    },
    {
     "name": "stderr",
     "output_type": "stream",
     "text": [
      "Iteration:  92%|█████████▏| 200/217 [01:10<00:05,  3.35it/s]"
     ]
    },
    {
     "name": "stdout",
     "output_type": "stream",
     "text": [
      "current average loss = 0.05073\n"
     ]
    },
    {
     "name": "stderr",
     "output_type": "stream",
     "text": [
      "Iteration: 100%|██████████| 217/217 [01:16<00:00,  2.85it/s]\n"
     ]
    },
    {
     "name": "stdout",
     "output_type": "stream",
     "text": [
      "Validating...\n"
     ]
    },
    {
     "name": "stderr",
     "output_type": "stream",
     "text": [
      "Iteration: 100%|██████████| 8/8 [00:01<00:00,  6.93it/s]\n"
     ]
    },
    {
     "name": "stdout",
     "output_type": "stream",
     "text": [
      "Saving Best Checkpoint...\n",
      "\n",
      "======= Epoch 2 / 50 =======\n",
      "Training...\n"
     ]
    },
    {
     "name": "stderr",
     "output_type": "stream",
     "text": [
      "Iteration:  46%|████▌     | 100/217 [00:31<00:36,  3.21it/s]"
     ]
    },
    {
     "name": "stdout",
     "output_type": "stream",
     "text": [
      "current average loss = 0.00371\n"
     ]
    },
    {
     "name": "stderr",
     "output_type": "stream",
     "text": [
      "Iteration:  92%|█████████▏| 200/217 [01:02<00:05,  3.22it/s]"
     ]
    },
    {
     "name": "stdout",
     "output_type": "stream",
     "text": [
      "current average loss = 0.00301\n"
     ]
    },
    {
     "name": "stderr",
     "output_type": "stream",
     "text": [
      "Iteration: 100%|██████████| 217/217 [01:07<00:00,  3.22it/s]\n"
     ]
    },
    {
     "name": "stdout",
     "output_type": "stream",
     "text": [
      "Validating...\n"
     ]
    },
    {
     "name": "stderr",
     "output_type": "stream",
     "text": [
      "Iteration: 100%|██████████| 8/8 [00:01<00:00,  6.76it/s]\n"
     ]
    },
    {
     "name": "stdout",
     "output_type": "stream",
     "text": [
      "Saving Best Checkpoint...\n",
      "\n",
      "======= Epoch 3 / 50 =======\n",
      "Training...\n"
     ]
    },
    {
     "name": "stderr",
     "output_type": "stream",
     "text": [
      "Iteration:  46%|████▌     | 100/217 [00:31<00:37,  3.14it/s]"
     ]
    },
    {
     "name": "stdout",
     "output_type": "stream",
     "text": [
      "current average loss = 0.00156\n"
     ]
    },
    {
     "name": "stderr",
     "output_type": "stream",
     "text": [
      "Iteration:  92%|█████████▏| 200/217 [01:02<00:05,  3.20it/s]"
     ]
    },
    {
     "name": "stdout",
     "output_type": "stream",
     "text": [
      "current average loss = 0.00139\n"
     ]
    },
    {
     "name": "stderr",
     "output_type": "stream",
     "text": [
      "Iteration: 100%|██████████| 217/217 [01:08<00:00,  3.19it/s]\n"
     ]
    },
    {
     "name": "stdout",
     "output_type": "stream",
     "text": [
      "Validating...\n"
     ]
    },
    {
     "name": "stderr",
     "output_type": "stream",
     "text": [
      "Iteration: 100%|██████████| 8/8 [00:01<00:00,  6.74it/s]\n"
     ]
    },
    {
     "name": "stdout",
     "output_type": "stream",
     "text": [
      "Saving Best Checkpoint...\n",
      "\n",
      "======= Epoch 4 / 50 =======\n",
      "Training...\n"
     ]
    },
    {
     "name": "stderr",
     "output_type": "stream",
     "text": [
      "Iteration:  46%|████▌     | 100/217 [00:29<00:33,  3.45it/s]"
     ]
    },
    {
     "name": "stdout",
     "output_type": "stream",
     "text": [
      "current average loss = 0.00095\n"
     ]
    },
    {
     "name": "stderr",
     "output_type": "stream",
     "text": [
      "Iteration:  92%|█████████▏| 200/217 [00:58<00:04,  3.49it/s]"
     ]
    },
    {
     "name": "stdout",
     "output_type": "stream",
     "text": [
      "current average loss = 0.00088\n"
     ]
    },
    {
     "name": "stderr",
     "output_type": "stream",
     "text": [
      "Iteration: 100%|██████████| 217/217 [01:03<00:00,  3.41it/s]\n"
     ]
    },
    {
     "name": "stdout",
     "output_type": "stream",
     "text": [
      "Validating...\n"
     ]
    },
    {
     "name": "stderr",
     "output_type": "stream",
     "text": [
      "Iteration: 100%|██████████| 8/8 [00:01<00:00,  7.01it/s]\n"
     ]
    },
    {
     "name": "stdout",
     "output_type": "stream",
     "text": [
      "\n",
      "======= Epoch 5 / 50 =======\n",
      "Training...\n"
     ]
    },
    {
     "name": "stderr",
     "output_type": "stream",
     "text": [
      "Iteration:  46%|████▌     | 100/217 [00:29<00:33,  3.46it/s]"
     ]
    },
    {
     "name": "stdout",
     "output_type": "stream",
     "text": [
      "current average loss = 0.00068\n"
     ]
    },
    {
     "name": "stderr",
     "output_type": "stream",
     "text": [
      "Iteration:  92%|█████████▏| 200/217 [00:58<00:05,  3.25it/s]"
     ]
    },
    {
     "name": "stdout",
     "output_type": "stream",
     "text": [
      "current average loss = 0.00064\n"
     ]
    },
    {
     "name": "stderr",
     "output_type": "stream",
     "text": [
      "Iteration: 100%|██████████| 217/217 [01:03<00:00,  3.40it/s]\n"
     ]
    },
    {
     "name": "stdout",
     "output_type": "stream",
     "text": [
      "Validating...\n"
     ]
    },
    {
     "name": "stderr",
     "output_type": "stream",
     "text": [
      "Iteration: 100%|██████████| 8/8 [00:01<00:00,  6.94it/s]\n"
     ]
    },
    {
     "name": "stdout",
     "output_type": "stream",
     "text": [
      "Saving Best Checkpoint...\n",
      "\n",
      "======= Epoch 6 / 50 =======\n",
      "Training...\n"
     ]
    },
    {
     "name": "stderr",
     "output_type": "stream",
     "text": [
      "Iteration:  46%|████▌     | 100/217 [00:29<00:34,  3.38it/s]"
     ]
    },
    {
     "name": "stdout",
     "output_type": "stream",
     "text": [
      "current average loss = 0.00053\n"
     ]
    },
    {
     "name": "stderr",
     "output_type": "stream",
     "text": [
      "Iteration:  92%|█████████▏| 200/217 [00:59<00:05,  3.32it/s]"
     ]
    },
    {
     "name": "stdout",
     "output_type": "stream",
     "text": [
      "current average loss = 0.00051\n"
     ]
    },
    {
     "name": "stderr",
     "output_type": "stream",
     "text": [
      "Iteration: 100%|██████████| 217/217 [01:04<00:00,  3.36it/s]\n"
     ]
    },
    {
     "name": "stdout",
     "output_type": "stream",
     "text": [
      "Validating...\n"
     ]
    },
    {
     "name": "stderr",
     "output_type": "stream",
     "text": [
      "Iteration: 100%|██████████| 8/8 [00:01<00:00,  6.98it/s]\n"
     ]
    },
    {
     "name": "stdout",
     "output_type": "stream",
     "text": [
      "\n",
      "======= Epoch 7 / 50 =======\n",
      "Training...\n"
     ]
    },
    {
     "name": "stderr",
     "output_type": "stream",
     "text": [
      "Iteration:  46%|████▌     | 100/217 [00:28<00:33,  3.54it/s]"
     ]
    },
    {
     "name": "stdout",
     "output_type": "stream",
     "text": [
      "current average loss = 0.00045\n"
     ]
    },
    {
     "name": "stderr",
     "output_type": "stream",
     "text": [
      "Iteration:  92%|█████████▏| 200/217 [00:57<00:04,  3.44it/s]"
     ]
    },
    {
     "name": "stdout",
     "output_type": "stream",
     "text": [
      "current average loss = 0.00044\n"
     ]
    },
    {
     "name": "stderr",
     "output_type": "stream",
     "text": [
      "Iteration: 100%|██████████| 217/217 [01:01<00:00,  3.50it/s]\n"
     ]
    },
    {
     "name": "stdout",
     "output_type": "stream",
     "text": [
      "Validating...\n"
     ]
    },
    {
     "name": "stderr",
     "output_type": "stream",
     "text": [
      "Iteration: 100%|██████████| 8/8 [00:01<00:00,  6.77it/s]\n"
     ]
    },
    {
     "name": "stdout",
     "output_type": "stream",
     "text": [
      "Saving Best Checkpoint...\n",
      "\n",
      "======= Epoch 8 / 50 =======\n",
      "Training...\n"
     ]
    },
    {
     "name": "stderr",
     "output_type": "stream",
     "text": [
      "Iteration:  46%|████▌     | 100/217 [00:31<00:35,  3.31it/s]"
     ]
    },
    {
     "name": "stdout",
     "output_type": "stream",
     "text": [
      "current average loss = 0.00039\n"
     ]
    },
    {
     "name": "stderr",
     "output_type": "stream",
     "text": [
      "Iteration:  92%|█████████▏| 200/217 [01:01<00:04,  3.41it/s]"
     ]
    },
    {
     "name": "stdout",
     "output_type": "stream",
     "text": [
      "current average loss = 0.00039\n"
     ]
    },
    {
     "name": "stderr",
     "output_type": "stream",
     "text": [
      "Iteration: 100%|██████████| 217/217 [01:05<00:00,  3.30it/s]\n"
     ]
    },
    {
     "name": "stdout",
     "output_type": "stream",
     "text": [
      "Validating...\n"
     ]
    },
    {
     "name": "stderr",
     "output_type": "stream",
     "text": [
      "Iteration: 100%|██████████| 8/8 [00:01<00:00,  7.72it/s]\n"
     ]
    },
    {
     "name": "stdout",
     "output_type": "stream",
     "text": [
      "Saving Best Checkpoint...\n",
      "\n",
      "======= Epoch 9 / 50 =======\n",
      "Training...\n"
     ]
    },
    {
     "name": "stderr",
     "output_type": "stream",
     "text": [
      "Iteration:  46%|████▌     | 100/217 [00:29<00:33,  3.45it/s]"
     ]
    },
    {
     "name": "stdout",
     "output_type": "stream",
     "text": [
      "current average loss = 0.00036\n"
     ]
    },
    {
     "name": "stderr",
     "output_type": "stream",
     "text": [
      "Iteration:  92%|█████████▏| 200/217 [00:57<00:04,  3.49it/s]"
     ]
    },
    {
     "name": "stdout",
     "output_type": "stream",
     "text": [
      "current average loss = 0.00035\n"
     ]
    },
    {
     "name": "stderr",
     "output_type": "stream",
     "text": [
      "Iteration: 100%|██████████| 217/217 [01:02<00:00,  3.47it/s]\n"
     ]
    },
    {
     "name": "stdout",
     "output_type": "stream",
     "text": [
      "Validating...\n"
     ]
    },
    {
     "name": "stderr",
     "output_type": "stream",
     "text": [
      "Iteration: 100%|██████████| 8/8 [00:01<00:00,  7.42it/s]\n"
     ]
    },
    {
     "name": "stdout",
     "output_type": "stream",
     "text": [
      "Saving Best Checkpoint...\n",
      "\n",
      "======= Epoch 10 / 50 =======\n",
      "Training...\n"
     ]
    },
    {
     "name": "stderr",
     "output_type": "stream",
     "text": [
      "Iteration:  46%|████▌     | 100/217 [00:28<00:33,  3.50it/s]"
     ]
    },
    {
     "name": "stdout",
     "output_type": "stream",
     "text": [
      "current average loss = 0.00032\n"
     ]
    },
    {
     "name": "stderr",
     "output_type": "stream",
     "text": [
      "Iteration:  92%|█████████▏| 200/217 [00:59<00:05,  2.99it/s]"
     ]
    },
    {
     "name": "stdout",
     "output_type": "stream",
     "text": [
      "current average loss = 0.00032\n"
     ]
    },
    {
     "name": "stderr",
     "output_type": "stream",
     "text": [
      "Iteration: 100%|██████████| 217/217 [01:04<00:00,  3.35it/s]\n"
     ]
    },
    {
     "name": "stdout",
     "output_type": "stream",
     "text": [
      "Validating...\n"
     ]
    },
    {
     "name": "stderr",
     "output_type": "stream",
     "text": [
      "Iteration: 100%|██████████| 8/8 [00:01<00:00,  6.79it/s]\n"
     ]
    },
    {
     "name": "stdout",
     "output_type": "stream",
     "text": [
      "Saving Best Checkpoint...\n",
      "\n",
      "======= Epoch 11 / 50 =======\n",
      "Training...\n"
     ]
    },
    {
     "name": "stderr",
     "output_type": "stream",
     "text": [
      "Iteration:  46%|████▌     | 100/217 [00:30<00:35,  3.30it/s]"
     ]
    },
    {
     "name": "stdout",
     "output_type": "stream",
     "text": [
      "current average loss = 0.00030\n"
     ]
    },
    {
     "name": "stderr",
     "output_type": "stream",
     "text": [
      "Iteration:  92%|█████████▏| 200/217 [00:59<00:05,  3.38it/s]"
     ]
    },
    {
     "name": "stdout",
     "output_type": "stream",
     "text": [
      "current average loss = 0.00030\n"
     ]
    },
    {
     "name": "stderr",
     "output_type": "stream",
     "text": [
      "Iteration: 100%|██████████| 217/217 [01:04<00:00,  3.36it/s]\n"
     ]
    },
    {
     "name": "stdout",
     "output_type": "stream",
     "text": [
      "Validating...\n"
     ]
    },
    {
     "name": "stderr",
     "output_type": "stream",
     "text": [
      "Iteration: 100%|██████████| 8/8 [00:01<00:00,  6.60it/s]\n"
     ]
    },
    {
     "name": "stdout",
     "output_type": "stream",
     "text": [
      "\n",
      "======= Epoch 12 / 50 =======\n",
      "Training...\n"
     ]
    },
    {
     "name": "stderr",
     "output_type": "stream",
     "text": [
      "Iteration:  46%|████▌     | 100/217 [00:32<00:35,  3.31it/s]"
     ]
    },
    {
     "name": "stdout",
     "output_type": "stream",
     "text": [
      "current average loss = 0.00029\n"
     ]
    },
    {
     "name": "stderr",
     "output_type": "stream",
     "text": [
      "Iteration:  92%|█████████▏| 200/217 [01:02<00:05,  3.27it/s]"
     ]
    },
    {
     "name": "stdout",
     "output_type": "stream",
     "text": [
      "current average loss = 0.00029\n"
     ]
    },
    {
     "name": "stderr",
     "output_type": "stream",
     "text": [
      "Iteration: 100%|██████████| 217/217 [01:07<00:00,  3.20it/s]\n"
     ]
    },
    {
     "name": "stdout",
     "output_type": "stream",
     "text": [
      "Validating...\n"
     ]
    },
    {
     "name": "stderr",
     "output_type": "stream",
     "text": [
      "Iteration: 100%|██████████| 8/8 [00:01<00:00,  7.11it/s]\n"
     ]
    },
    {
     "name": "stdout",
     "output_type": "stream",
     "text": [
      "\n",
      "======= Epoch 13 / 50 =======\n",
      "Training...\n"
     ]
    },
    {
     "name": "stderr",
     "output_type": "stream",
     "text": [
      "Iteration:  46%|████▌     | 100/217 [00:29<00:34,  3.40it/s]"
     ]
    },
    {
     "name": "stdout",
     "output_type": "stream",
     "text": [
      "current average loss = 0.00027\n"
     ]
    },
    {
     "name": "stderr",
     "output_type": "stream",
     "text": [
      "Iteration:  92%|█████████▏| 200/217 [00:59<00:04,  3.51it/s]"
     ]
    },
    {
     "name": "stdout",
     "output_type": "stream",
     "text": [
      "current average loss = 0.00027\n"
     ]
    },
    {
     "name": "stderr",
     "output_type": "stream",
     "text": [
      "Iteration: 100%|██████████| 217/217 [01:04<00:00,  3.39it/s]\n"
     ]
    },
    {
     "name": "stdout",
     "output_type": "stream",
     "text": [
      "Validating...\n"
     ]
    },
    {
     "name": "stderr",
     "output_type": "stream",
     "text": [
      "Iteration: 100%|██████████| 8/8 [00:01<00:00,  7.33it/s]\n"
     ]
    },
    {
     "name": "stdout",
     "output_type": "stream",
     "text": [
      "Saving Best Checkpoint...\n",
      "\n",
      "======= Epoch 14 / 50 =======\n",
      "Training...\n"
     ]
    },
    {
     "name": "stderr",
     "output_type": "stream",
     "text": [
      "Iteration:  46%|████▌     | 100/217 [00:28<00:32,  3.59it/s]"
     ]
    },
    {
     "name": "stdout",
     "output_type": "stream",
     "text": [
      "current average loss = 0.00027\n"
     ]
    },
    {
     "name": "stderr",
     "output_type": "stream",
     "text": [
      "Iteration:  92%|█████████▏| 200/217 [00:56<00:04,  3.53it/s]"
     ]
    },
    {
     "name": "stdout",
     "output_type": "stream",
     "text": [
      "current average loss = 0.00026\n"
     ]
    },
    {
     "name": "stderr",
     "output_type": "stream",
     "text": [
      "Iteration: 100%|██████████| 217/217 [01:01<00:00,  3.53it/s]\n"
     ]
    },
    {
     "name": "stdout",
     "output_type": "stream",
     "text": [
      "Validating...\n"
     ]
    },
    {
     "name": "stderr",
     "output_type": "stream",
     "text": [
      "Iteration: 100%|██████████| 8/8 [00:01<00:00,  7.27it/s]\n"
     ]
    },
    {
     "name": "stdout",
     "output_type": "stream",
     "text": [
      "\n",
      "======= Epoch 15 / 50 =======\n",
      "Training...\n"
     ]
    },
    {
     "name": "stderr",
     "output_type": "stream",
     "text": [
      "Iteration:  46%|████▌     | 100/217 [00:29<00:33,  3.45it/s]"
     ]
    },
    {
     "name": "stdout",
     "output_type": "stream",
     "text": [
      "current average loss = 0.00027\n"
     ]
    },
    {
     "name": "stderr",
     "output_type": "stream",
     "text": [
      "Iteration:  92%|█████████▏| 200/217 [00:59<00:04,  3.41it/s]"
     ]
    },
    {
     "name": "stdout",
     "output_type": "stream",
     "text": [
      "current average loss = 0.00026\n"
     ]
    },
    {
     "name": "stderr",
     "output_type": "stream",
     "text": [
      "Iteration: 100%|██████████| 217/217 [01:04<00:00,  3.37it/s]\n"
     ]
    },
    {
     "name": "stdout",
     "output_type": "stream",
     "text": [
      "Validating...\n"
     ]
    },
    {
     "name": "stderr",
     "output_type": "stream",
     "text": [
      "Iteration: 100%|██████████| 8/8 [00:01<00:00,  7.19it/s]\n"
     ]
    },
    {
     "name": "stdout",
     "output_type": "stream",
     "text": [
      "\n",
      "======= Epoch 16 / 50 =======\n",
      "Training...\n"
     ]
    },
    {
     "name": "stderr",
     "output_type": "stream",
     "text": [
      "Iteration:  46%|████▌     | 100/217 [00:28<00:33,  3.54it/s]"
     ]
    },
    {
     "name": "stdout",
     "output_type": "stream",
     "text": [
      "current average loss = 0.00024\n"
     ]
    },
    {
     "name": "stderr",
     "output_type": "stream",
     "text": [
      "Iteration:  92%|█████████▏| 200/217 [00:57<00:05,  3.34it/s]"
     ]
    },
    {
     "name": "stdout",
     "output_type": "stream",
     "text": [
      "current average loss = 0.00025\n"
     ]
    },
    {
     "name": "stderr",
     "output_type": "stream",
     "text": [
      "Iteration: 100%|██████████| 217/217 [01:02<00:00,  3.46it/s]\n"
     ]
    },
    {
     "name": "stdout",
     "output_type": "stream",
     "text": [
      "Validating...\n"
     ]
    },
    {
     "name": "stderr",
     "output_type": "stream",
     "text": [
      "Iteration: 100%|██████████| 8/8 [00:01<00:00,  7.08it/s]\n"
     ]
    },
    {
     "name": "stdout",
     "output_type": "stream",
     "text": [
      "\n",
      "======= Epoch 17 / 50 =======\n",
      "Training...\n"
     ]
    },
    {
     "name": "stderr",
     "output_type": "stream",
     "text": [
      "Iteration:  46%|████▌     | 100/217 [00:29<00:33,  3.48it/s]"
     ]
    },
    {
     "name": "stdout",
     "output_type": "stream",
     "text": [
      "current average loss = 0.00025\n"
     ]
    },
    {
     "name": "stderr",
     "output_type": "stream",
     "text": [
      "Iteration:  92%|█████████▏| 200/217 [00:57<00:04,  3.49it/s]"
     ]
    },
    {
     "name": "stdout",
     "output_type": "stream",
     "text": [
      "current average loss = 0.00024\n"
     ]
    },
    {
     "name": "stderr",
     "output_type": "stream",
     "text": [
      "Iteration: 100%|██████████| 217/217 [01:02<00:00,  3.46it/s]\n"
     ]
    },
    {
     "name": "stdout",
     "output_type": "stream",
     "text": [
      "Validating...\n"
     ]
    },
    {
     "name": "stderr",
     "output_type": "stream",
     "text": [
      "Iteration: 100%|██████████| 8/8 [00:01<00:00,  6.62it/s]\n"
     ]
    },
    {
     "name": "stdout",
     "output_type": "stream",
     "text": [
      "Saving Best Checkpoint...\n",
      "\n",
      "======= Epoch 18 / 50 =======\n",
      "Training...\n"
     ]
    },
    {
     "name": "stderr",
     "output_type": "stream",
     "text": [
      "Iteration:  46%|████▌     | 100/217 [00:30<00:35,  3.31it/s]"
     ]
    },
    {
     "name": "stdout",
     "output_type": "stream",
     "text": [
      "current average loss = 0.00024\n"
     ]
    },
    {
     "name": "stderr",
     "output_type": "stream",
     "text": [
      "Iteration:  92%|█████████▏| 200/217 [00:59<00:05,  3.37it/s]"
     ]
    },
    {
     "name": "stdout",
     "output_type": "stream",
     "text": [
      "current average loss = 0.00024\n"
     ]
    },
    {
     "name": "stderr",
     "output_type": "stream",
     "text": [
      "Iteration: 100%|██████████| 217/217 [01:04<00:00,  3.34it/s]\n"
     ]
    },
    {
     "name": "stdout",
     "output_type": "stream",
     "text": [
      "Validating...\n"
     ]
    },
    {
     "name": "stderr",
     "output_type": "stream",
     "text": [
      "Iteration: 100%|██████████| 8/8 [00:01<00:00,  6.28it/s]\n"
     ]
    },
    {
     "name": "stdout",
     "output_type": "stream",
     "text": [
      "Saving Best Checkpoint...\n",
      "\n",
      "======= Epoch 19 / 50 =======\n",
      "Training...\n"
     ]
    },
    {
     "name": "stderr",
     "output_type": "stream",
     "text": [
      "Iteration:  46%|████▌     | 100/217 [00:28<00:32,  3.63it/s]"
     ]
    },
    {
     "name": "stdout",
     "output_type": "stream",
     "text": [
      "current average loss = 0.00023\n"
     ]
    },
    {
     "name": "stderr",
     "output_type": "stream",
     "text": [
      "Iteration:  92%|█████████▏| 200/217 [00:56<00:04,  3.49it/s]"
     ]
    },
    {
     "name": "stdout",
     "output_type": "stream",
     "text": [
      "current average loss = 0.00024\n"
     ]
    },
    {
     "name": "stderr",
     "output_type": "stream",
     "text": [
      "Iteration: 100%|██████████| 217/217 [01:01<00:00,  3.53it/s]\n"
     ]
    },
    {
     "name": "stdout",
     "output_type": "stream",
     "text": [
      "Validating...\n"
     ]
    },
    {
     "name": "stderr",
     "output_type": "stream",
     "text": [
      "Iteration: 100%|██████████| 8/8 [00:01<00:00,  7.49it/s]\n"
     ]
    },
    {
     "name": "stdout",
     "output_type": "stream",
     "text": [
      "\n",
      "======= Epoch 20 / 50 =======\n",
      "Training...\n"
     ]
    },
    {
     "name": "stderr",
     "output_type": "stream",
     "text": [
      "Iteration:  46%|████▌     | 100/217 [00:28<00:32,  3.57it/s]"
     ]
    },
    {
     "name": "stdout",
     "output_type": "stream",
     "text": [
      "current average loss = 0.00023\n"
     ]
    },
    {
     "name": "stderr",
     "output_type": "stream",
     "text": [
      "Iteration:  92%|█████████▏| 200/217 [00:56<00:04,  3.53it/s]"
     ]
    },
    {
     "name": "stdout",
     "output_type": "stream",
     "text": [
      "current average loss = 0.00023\n"
     ]
    },
    {
     "name": "stderr",
     "output_type": "stream",
     "text": [
      "Iteration: 100%|██████████| 217/217 [01:01<00:00,  3.54it/s]\n"
     ]
    },
    {
     "name": "stdout",
     "output_type": "stream",
     "text": [
      "Validating...\n"
     ]
    },
    {
     "name": "stderr",
     "output_type": "stream",
     "text": [
      "Iteration: 100%|██████████| 8/8 [00:01<00:00,  7.22it/s]\n"
     ]
    },
    {
     "name": "stdout",
     "output_type": "stream",
     "text": [
      "\n",
      "======= Epoch 21 / 50 =======\n",
      "Training...\n"
     ]
    },
    {
     "name": "stderr",
     "output_type": "stream",
     "text": [
      "Iteration:  46%|████▌     | 100/217 [00:29<00:33,  3.45it/s]"
     ]
    },
    {
     "name": "stdout",
     "output_type": "stream",
     "text": [
      "current average loss = 0.00022\n"
     ]
    },
    {
     "name": "stderr",
     "output_type": "stream",
     "text": [
      "Iteration:  92%|█████████▏| 200/217 [00:58<00:04,  3.49it/s]"
     ]
    },
    {
     "name": "stdout",
     "output_type": "stream",
     "text": [
      "current average loss = 0.00022\n"
     ]
    },
    {
     "name": "stderr",
     "output_type": "stream",
     "text": [
      "Iteration: 100%|██████████| 217/217 [01:03<00:00,  3.43it/s]\n"
     ]
    },
    {
     "name": "stdout",
     "output_type": "stream",
     "text": [
      "Validating...\n"
     ]
    },
    {
     "name": "stderr",
     "output_type": "stream",
     "text": [
      "Iteration: 100%|██████████| 8/8 [00:01<00:00,  7.85it/s]\n"
     ]
    },
    {
     "name": "stdout",
     "output_type": "stream",
     "text": [
      "Saving Best Checkpoint...\n",
      "\n",
      "======= Epoch 22 / 50 =======\n",
      "Training...\n"
     ]
    },
    {
     "name": "stderr",
     "output_type": "stream",
     "text": [
      "Iteration:  46%|████▌     | 100/217 [00:27<00:32,  3.55it/s]"
     ]
    },
    {
     "name": "stdout",
     "output_type": "stream",
     "text": [
      "current average loss = 0.00022\n"
     ]
    },
    {
     "name": "stderr",
     "output_type": "stream",
     "text": [
      "Iteration:  92%|█████████▏| 200/217 [00:56<00:04,  3.42it/s]"
     ]
    },
    {
     "name": "stdout",
     "output_type": "stream",
     "text": [
      "current average loss = 0.00022\n"
     ]
    },
    {
     "name": "stderr",
     "output_type": "stream",
     "text": [
      "Iteration: 100%|██████████| 217/217 [01:01<00:00,  3.55it/s]\n"
     ]
    },
    {
     "name": "stdout",
     "output_type": "stream",
     "text": [
      "Validating...\n"
     ]
    },
    {
     "name": "stderr",
     "output_type": "stream",
     "text": [
      "Iteration: 100%|██████████| 8/8 [00:01<00:00,  6.92it/s]\n"
     ]
    },
    {
     "name": "stdout",
     "output_type": "stream",
     "text": [
      "\n",
      "======= Epoch 23 / 50 =======\n",
      "Training...\n"
     ]
    },
    {
     "name": "stderr",
     "output_type": "stream",
     "text": [
      "Iteration:  46%|████▌     | 100/217 [00:28<00:34,  3.43it/s]"
     ]
    },
    {
     "name": "stdout",
     "output_type": "stream",
     "text": [
      "current average loss = 0.00021\n"
     ]
    },
    {
     "name": "stderr",
     "output_type": "stream",
     "text": [
      "Iteration:  92%|█████████▏| 200/217 [00:57<00:04,  3.43it/s]"
     ]
    },
    {
     "name": "stdout",
     "output_type": "stream",
     "text": [
      "current average loss = 0.00022\n"
     ]
    },
    {
     "name": "stderr",
     "output_type": "stream",
     "text": [
      "Iteration: 100%|██████████| 217/217 [01:02<00:00,  3.48it/s]\n"
     ]
    },
    {
     "name": "stdout",
     "output_type": "stream",
     "text": [
      "Validating...\n"
     ]
    },
    {
     "name": "stderr",
     "output_type": "stream",
     "text": [
      "Iteration: 100%|██████████| 8/8 [00:01<00:00,  6.98it/s]\n"
     ]
    },
    {
     "name": "stdout",
     "output_type": "stream",
     "text": [
      "Saving Best Checkpoint...\n",
      "\n",
      "======= Epoch 24 / 50 =======\n",
      "Training...\n"
     ]
    },
    {
     "name": "stderr",
     "output_type": "stream",
     "text": [
      "Iteration:  46%|████▌     | 100/217 [00:28<00:32,  3.59it/s]"
     ]
    },
    {
     "name": "stdout",
     "output_type": "stream",
     "text": [
      "current average loss = 0.00021\n"
     ]
    },
    {
     "name": "stderr",
     "output_type": "stream",
     "text": [
      "Iteration:  92%|█████████▏| 200/217 [00:58<00:05,  3.18it/s]"
     ]
    },
    {
     "name": "stdout",
     "output_type": "stream",
     "text": [
      "current average loss = 0.00021\n"
     ]
    },
    {
     "name": "stderr",
     "output_type": "stream",
     "text": [
      "Iteration: 100%|██████████| 217/217 [01:03<00:00,  3.42it/s]\n"
     ]
    },
    {
     "name": "stdout",
     "output_type": "stream",
     "text": [
      "Validating...\n"
     ]
    },
    {
     "name": "stderr",
     "output_type": "stream",
     "text": [
      "Iteration: 100%|██████████| 8/8 [00:01<00:00,  7.43it/s]\n"
     ]
    },
    {
     "name": "stdout",
     "output_type": "stream",
     "text": [
      "\n",
      "======= Epoch 25 / 50 =======\n",
      "Training...\n"
     ]
    },
    {
     "name": "stderr",
     "output_type": "stream",
     "text": [
      "Iteration:  46%|████▌     | 100/217 [00:27<00:31,  3.67it/s]"
     ]
    },
    {
     "name": "stdout",
     "output_type": "stream",
     "text": [
      "current average loss = 0.00021\n"
     ]
    },
    {
     "name": "stderr",
     "output_type": "stream",
     "text": [
      "Iteration:  92%|█████████▏| 200/217 [00:57<00:05,  3.22it/s]"
     ]
    },
    {
     "name": "stdout",
     "output_type": "stream",
     "text": [
      "current average loss = 0.00021\n"
     ]
    },
    {
     "name": "stderr",
     "output_type": "stream",
     "text": [
      "Iteration: 100%|██████████| 217/217 [01:02<00:00,  3.48it/s]\n"
     ]
    },
    {
     "name": "stdout",
     "output_type": "stream",
     "text": [
      "Validating...\n"
     ]
    },
    {
     "name": "stderr",
     "output_type": "stream",
     "text": [
      "Iteration: 100%|██████████| 8/8 [00:01<00:00,  7.41it/s]\n"
     ]
    },
    {
     "name": "stdout",
     "output_type": "stream",
     "text": [
      "\n",
      "======= Epoch 26 / 50 =======\n",
      "Training...\n"
     ]
    },
    {
     "name": "stderr",
     "output_type": "stream",
     "text": [
      "Iteration:  46%|████▌     | 100/217 [00:30<00:34,  3.37it/s]"
     ]
    },
    {
     "name": "stdout",
     "output_type": "stream",
     "text": [
      "current average loss = 0.00021\n"
     ]
    },
    {
     "name": "stderr",
     "output_type": "stream",
     "text": [
      "Iteration:  92%|█████████▏| 200/217 [00:59<00:04,  3.51it/s]"
     ]
    },
    {
     "name": "stdout",
     "output_type": "stream",
     "text": [
      "current average loss = 0.00020\n"
     ]
    },
    {
     "name": "stderr",
     "output_type": "stream",
     "text": [
      "Iteration: 100%|██████████| 217/217 [01:03<00:00,  3.39it/s]\n"
     ]
    },
    {
     "name": "stdout",
     "output_type": "stream",
     "text": [
      "Validating...\n"
     ]
    },
    {
     "name": "stderr",
     "output_type": "stream",
     "text": [
      "Iteration: 100%|██████████| 8/8 [00:01<00:00,  7.42it/s]\n"
     ]
    },
    {
     "name": "stdout",
     "output_type": "stream",
     "text": [
      "\n",
      "======= Epoch 27 / 50 =======\n",
      "Training...\n"
     ]
    },
    {
     "name": "stderr",
     "output_type": "stream",
     "text": [
      "Iteration:  46%|████▌     | 100/217 [00:28<00:33,  3.51it/s]"
     ]
    },
    {
     "name": "stdout",
     "output_type": "stream",
     "text": [
      "current average loss = 0.00020\n"
     ]
    },
    {
     "name": "stderr",
     "output_type": "stream",
     "text": [
      "Iteration:  92%|█████████▏| 200/217 [00:58<00:05,  3.30it/s]"
     ]
    },
    {
     "name": "stdout",
     "output_type": "stream",
     "text": [
      "current average loss = 0.00020\n"
     ]
    },
    {
     "name": "stderr",
     "output_type": "stream",
     "text": [
      "Iteration: 100%|██████████| 217/217 [01:04<00:00,  3.39it/s]\n"
     ]
    },
    {
     "name": "stdout",
     "output_type": "stream",
     "text": [
      "Validating...\n"
     ]
    },
    {
     "name": "stderr",
     "output_type": "stream",
     "text": [
      "Iteration: 100%|██████████| 8/8 [00:01<00:00,  5.98it/s]\n"
     ]
    },
    {
     "name": "stdout",
     "output_type": "stream",
     "text": [
      "\n",
      "======= Epoch 28 / 50 =======\n",
      "Training...\n"
     ]
    },
    {
     "name": "stderr",
     "output_type": "stream",
     "text": [
      "Iteration:  46%|████▌     | 100/217 [00:28<00:32,  3.65it/s]"
     ]
    },
    {
     "name": "stdout",
     "output_type": "stream",
     "text": [
      "current average loss = 0.00019\n"
     ]
    },
    {
     "name": "stderr",
     "output_type": "stream",
     "text": [
      "Iteration:  92%|█████████▏| 200/217 [00:56<00:04,  3.58it/s]"
     ]
    },
    {
     "name": "stdout",
     "output_type": "stream",
     "text": [
      "current average loss = 0.00020\n"
     ]
    },
    {
     "name": "stderr",
     "output_type": "stream",
     "text": [
      "Iteration: 100%|██████████| 217/217 [01:00<00:00,  3.57it/s]\n"
     ]
    },
    {
     "name": "stdout",
     "output_type": "stream",
     "text": [
      "Validating...\n"
     ]
    },
    {
     "name": "stderr",
     "output_type": "stream",
     "text": [
      "Iteration: 100%|██████████| 8/8 [00:01<00:00,  7.59it/s]\n"
     ]
    },
    {
     "name": "stdout",
     "output_type": "stream",
     "text": [
      "\n",
      "======= Epoch 29 / 50 =======\n",
      "Training...\n"
     ]
    },
    {
     "name": "stderr",
     "output_type": "stream",
     "text": [
      "Iteration:  46%|████▌     | 100/217 [00:28<00:33,  3.51it/s]"
     ]
    },
    {
     "name": "stdout",
     "output_type": "stream",
     "text": [
      "current average loss = 0.00019\n"
     ]
    },
    {
     "name": "stderr",
     "output_type": "stream",
     "text": [
      "Iteration:  92%|█████████▏| 200/217 [00:56<00:04,  3.57it/s]"
     ]
    },
    {
     "name": "stdout",
     "output_type": "stream",
     "text": [
      "current average loss = 0.00020\n"
     ]
    },
    {
     "name": "stderr",
     "output_type": "stream",
     "text": [
      "Iteration: 100%|██████████| 217/217 [01:00<00:00,  3.57it/s]\n"
     ]
    },
    {
     "name": "stdout",
     "output_type": "stream",
     "text": [
      "Validating...\n"
     ]
    },
    {
     "name": "stderr",
     "output_type": "stream",
     "text": [
      "Iteration: 100%|██████████| 8/8 [00:01<00:00,  7.78it/s]\n"
     ]
    },
    {
     "name": "stdout",
     "output_type": "stream",
     "text": [
      "\n",
      "======= Epoch 30 / 50 =======\n",
      "Training...\n"
     ]
    },
    {
     "name": "stderr",
     "output_type": "stream",
     "text": [
      "Iteration:  46%|████▌     | 100/217 [00:28<00:32,  3.55it/s]"
     ]
    },
    {
     "name": "stdout",
     "output_type": "stream",
     "text": [
      "current average loss = 0.00020\n"
     ]
    },
    {
     "name": "stderr",
     "output_type": "stream",
     "text": [
      "Iteration:  92%|█████████▏| 200/217 [00:55<00:04,  3.62it/s]"
     ]
    },
    {
     "name": "stdout",
     "output_type": "stream",
     "text": [
      "current average loss = 0.00020\n"
     ]
    },
    {
     "name": "stderr",
     "output_type": "stream",
     "text": [
      "Iteration: 100%|██████████| 217/217 [01:00<00:00,  3.58it/s]\n"
     ]
    },
    {
     "name": "stdout",
     "output_type": "stream",
     "text": [
      "Validating...\n"
     ]
    },
    {
     "name": "stderr",
     "output_type": "stream",
     "text": [
      "Iteration: 100%|██████████| 8/8 [00:01<00:00,  7.79it/s]\n"
     ]
    },
    {
     "name": "stdout",
     "output_type": "stream",
     "text": [
      "\n",
      "======= Epoch 31 / 50 =======\n",
      "Training...\n"
     ]
    },
    {
     "name": "stderr",
     "output_type": "stream",
     "text": [
      "Iteration:  46%|████▌     | 100/217 [00:27<00:33,  3.52it/s]"
     ]
    },
    {
     "name": "stdout",
     "output_type": "stream",
     "text": [
      "current average loss = 0.00019\n"
     ]
    },
    {
     "name": "stderr",
     "output_type": "stream",
     "text": [
      "Iteration:  92%|█████████▏| 200/217 [00:56<00:04,  3.56it/s]"
     ]
    },
    {
     "name": "stdout",
     "output_type": "stream",
     "text": [
      "current average loss = 0.00019\n"
     ]
    },
    {
     "name": "stderr",
     "output_type": "stream",
     "text": [
      "Iteration: 100%|██████████| 217/217 [01:01<00:00,  3.55it/s]\n"
     ]
    },
    {
     "name": "stdout",
     "output_type": "stream",
     "text": [
      "Validating...\n"
     ]
    },
    {
     "name": "stderr",
     "output_type": "stream",
     "text": [
      "Iteration: 100%|██████████| 8/8 [00:01<00:00,  7.58it/s]\n"
     ]
    },
    {
     "name": "stdout",
     "output_type": "stream",
     "text": [
      "\n",
      "======= Epoch 32 / 50 =======\n",
      "Training...\n"
     ]
    },
    {
     "name": "stderr",
     "output_type": "stream",
     "text": [
      "Iteration:  46%|████▌     | 100/217 [00:27<00:31,  3.66it/s]"
     ]
    },
    {
     "name": "stdout",
     "output_type": "stream",
     "text": [
      "current average loss = 0.00019\n"
     ]
    },
    {
     "name": "stderr",
     "output_type": "stream",
     "text": [
      "Iteration:  92%|█████████▏| 200/217 [00:55<00:04,  3.68it/s]"
     ]
    },
    {
     "name": "stdout",
     "output_type": "stream",
     "text": [
      "current average loss = 0.00019\n"
     ]
    },
    {
     "name": "stderr",
     "output_type": "stream",
     "text": [
      "Iteration: 100%|██████████| 217/217 [00:59<00:00,  3.63it/s]\n"
     ]
    },
    {
     "name": "stdout",
     "output_type": "stream",
     "text": [
      "Validating...\n"
     ]
    },
    {
     "name": "stderr",
     "output_type": "stream",
     "text": [
      "Iteration: 100%|██████████| 8/8 [00:01<00:00,  7.72it/s]\n"
     ]
    },
    {
     "name": "stdout",
     "output_type": "stream",
     "text": [
      "Saving Best Checkpoint...\n",
      "\n",
      "======= Epoch 33 / 50 =======\n",
      "Training...\n"
     ]
    },
    {
     "name": "stderr",
     "output_type": "stream",
     "text": [
      "Iteration:  46%|████▌     | 100/217 [00:27<00:31,  3.69it/s]"
     ]
    },
    {
     "name": "stdout",
     "output_type": "stream",
     "text": [
      "current average loss = 0.00020\n"
     ]
    },
    {
     "name": "stderr",
     "output_type": "stream",
     "text": [
      "Iteration:  92%|█████████▏| 200/217 [00:54<00:04,  3.70it/s]"
     ]
    },
    {
     "name": "stdout",
     "output_type": "stream",
     "text": [
      "current average loss = 0.00019\n"
     ]
    },
    {
     "name": "stderr",
     "output_type": "stream",
     "text": [
      "Iteration: 100%|██████████| 217/217 [00:58<00:00,  3.68it/s]\n"
     ]
    },
    {
     "name": "stdout",
     "output_type": "stream",
     "text": [
      "Validating...\n"
     ]
    },
    {
     "name": "stderr",
     "output_type": "stream",
     "text": [
      "Iteration: 100%|██████████| 8/8 [00:01<00:00,  7.71it/s]\n"
     ]
    },
    {
     "name": "stdout",
     "output_type": "stream",
     "text": [
      "Saving Best Checkpoint...\n",
      "\n",
      "======= Epoch 34 / 50 =======\n",
      "Training...\n"
     ]
    },
    {
     "name": "stderr",
     "output_type": "stream",
     "text": [
      "Iteration:  46%|████▌     | 100/217 [00:29<00:35,  3.27it/s]"
     ]
    },
    {
     "name": "stdout",
     "output_type": "stream",
     "text": [
      "current average loss = 0.00019\n"
     ]
    },
    {
     "name": "stderr",
     "output_type": "stream",
     "text": [
      "Iteration:  92%|█████████▏| 200/217 [00:59<00:05,  3.28it/s]"
     ]
    },
    {
     "name": "stdout",
     "output_type": "stream",
     "text": [
      "current average loss = 0.00019\n"
     ]
    },
    {
     "name": "stderr",
     "output_type": "stream",
     "text": [
      "Iteration: 100%|██████████| 217/217 [01:04<00:00,  3.34it/s]\n"
     ]
    },
    {
     "name": "stdout",
     "output_type": "stream",
     "text": [
      "Validating...\n"
     ]
    },
    {
     "name": "stderr",
     "output_type": "stream",
     "text": [
      "Iteration: 100%|██████████| 8/8 [00:01<00:00,  6.12it/s]\n"
     ]
    },
    {
     "name": "stdout",
     "output_type": "stream",
     "text": [
      "\n",
      "======= Epoch 35 / 50 =======\n",
      "Training...\n"
     ]
    },
    {
     "name": "stderr",
     "output_type": "stream",
     "text": [
      "Iteration:  46%|████▌     | 100/217 [00:31<00:36,  3.18it/s]"
     ]
    },
    {
     "name": "stdout",
     "output_type": "stream",
     "text": [
      "current average loss = 0.00018\n"
     ]
    },
    {
     "name": "stderr",
     "output_type": "stream",
     "text": [
      "Iteration:  92%|█████████▏| 200/217 [01:01<00:04,  3.41it/s]"
     ]
    },
    {
     "name": "stdout",
     "output_type": "stream",
     "text": [
      "current average loss = 0.00018\n"
     ]
    },
    {
     "name": "stderr",
     "output_type": "stream",
     "text": [
      "Iteration: 100%|██████████| 217/217 [01:06<00:00,  3.26it/s]\n"
     ]
    },
    {
     "name": "stdout",
     "output_type": "stream",
     "text": [
      "Validating...\n"
     ]
    },
    {
     "name": "stderr",
     "output_type": "stream",
     "text": [
      "Iteration: 100%|██████████| 8/8 [00:01<00:00,  7.73it/s]\n"
     ]
    },
    {
     "name": "stdout",
     "output_type": "stream",
     "text": [
      "\n",
      "======= Epoch 36 / 50 =======\n",
      "Training...\n"
     ]
    },
    {
     "name": "stderr",
     "output_type": "stream",
     "text": [
      "Iteration:  46%|████▌     | 100/217 [00:27<00:32,  3.63it/s]"
     ]
    },
    {
     "name": "stdout",
     "output_type": "stream",
     "text": [
      "current average loss = 0.00019\n"
     ]
    },
    {
     "name": "stderr",
     "output_type": "stream",
     "text": [
      "Iteration:  92%|█████████▏| 200/217 [00:56<00:04,  3.48it/s]"
     ]
    },
    {
     "name": "stdout",
     "output_type": "stream",
     "text": [
      "current average loss = 0.00018\n"
     ]
    },
    {
     "name": "stderr",
     "output_type": "stream",
     "text": [
      "Iteration: 100%|██████████| 217/217 [01:00<00:00,  3.56it/s]\n"
     ]
    },
    {
     "name": "stdout",
     "output_type": "stream",
     "text": [
      "Validating...\n"
     ]
    },
    {
     "name": "stderr",
     "output_type": "stream",
     "text": [
      "Iteration: 100%|██████████| 8/8 [00:01<00:00,  7.46it/s]\n"
     ]
    },
    {
     "name": "stdout",
     "output_type": "stream",
     "text": [
      "\n",
      "======= Epoch 37 / 50 =======\n",
      "Training...\n"
     ]
    },
    {
     "name": "stderr",
     "output_type": "stream",
     "text": [
      "Iteration:  46%|████▌     | 100/217 [00:28<00:32,  3.57it/s]"
     ]
    },
    {
     "name": "stdout",
     "output_type": "stream",
     "text": [
      "current average loss = 0.00018\n"
     ]
    },
    {
     "name": "stderr",
     "output_type": "stream",
     "text": [
      "Iteration:  92%|█████████▏| 200/217 [00:59<00:05,  3.23it/s]"
     ]
    },
    {
     "name": "stdout",
     "output_type": "stream",
     "text": [
      "current average loss = 0.00018\n"
     ]
    },
    {
     "name": "stderr",
     "output_type": "stream",
     "text": [
      "Iteration: 100%|██████████| 217/217 [01:03<00:00,  3.40it/s]\n"
     ]
    },
    {
     "name": "stdout",
     "output_type": "stream",
     "text": [
      "Validating...\n"
     ]
    },
    {
     "name": "stderr",
     "output_type": "stream",
     "text": [
      "Iteration: 100%|██████████| 8/8 [00:01<00:00,  7.51it/s]\n"
     ]
    },
    {
     "name": "stdout",
     "output_type": "stream",
     "text": [
      "\n",
      "======= Epoch 38 / 50 =======\n",
      "Training...\n"
     ]
    },
    {
     "name": "stderr",
     "output_type": "stream",
     "text": [
      "Iteration:  46%|████▌     | 100/217 [00:29<00:33,  3.53it/s]"
     ]
    },
    {
     "name": "stdout",
     "output_type": "stream",
     "text": [
      "current average loss = 0.00018\n"
     ]
    },
    {
     "name": "stderr",
     "output_type": "stream",
     "text": [
      "Iteration:  92%|█████████▏| 200/217 [00:57<00:04,  3.57it/s]"
     ]
    },
    {
     "name": "stdout",
     "output_type": "stream",
     "text": [
      "current average loss = 0.00018\n"
     ]
    },
    {
     "name": "stderr",
     "output_type": "stream",
     "text": [
      "Iteration: 100%|██████████| 217/217 [01:02<00:00,  3.49it/s]\n"
     ]
    },
    {
     "name": "stdout",
     "output_type": "stream",
     "text": [
      "Validating...\n"
     ]
    },
    {
     "name": "stderr",
     "output_type": "stream",
     "text": [
      "Iteration: 100%|██████████| 8/8 [00:01<00:00,  7.59it/s]\n"
     ]
    },
    {
     "name": "stdout",
     "output_type": "stream",
     "text": [
      "\n",
      "======= Epoch 39 / 50 =======\n",
      "Training...\n"
     ]
    },
    {
     "name": "stderr",
     "output_type": "stream",
     "text": [
      "Iteration:  46%|████▌     | 100/217 [00:27<00:32,  3.59it/s]"
     ]
    },
    {
     "name": "stdout",
     "output_type": "stream",
     "text": [
      "current average loss = 0.00017\n"
     ]
    },
    {
     "name": "stderr",
     "output_type": "stream",
     "text": [
      "Iteration:  92%|█████████▏| 200/217 [00:55<00:04,  3.69it/s]"
     ]
    },
    {
     "name": "stdout",
     "output_type": "stream",
     "text": [
      "current average loss = 0.00018\n"
     ]
    },
    {
     "name": "stderr",
     "output_type": "stream",
     "text": [
      "Iteration: 100%|██████████| 217/217 [00:59<00:00,  3.63it/s]\n"
     ]
    },
    {
     "name": "stdout",
     "output_type": "stream",
     "text": [
      "Validating...\n"
     ]
    },
    {
     "name": "stderr",
     "output_type": "stream",
     "text": [
      "Iteration: 100%|██████████| 8/8 [00:01<00:00,  7.61it/s]\n"
     ]
    },
    {
     "name": "stdout",
     "output_type": "stream",
     "text": [
      "Saving Best Checkpoint...\n",
      "\n",
      "======= Epoch 40 / 50 =======\n",
      "Training...\n"
     ]
    },
    {
     "name": "stderr",
     "output_type": "stream",
     "text": [
      "Iteration:  46%|████▌     | 100/217 [00:27<00:32,  3.63it/s]"
     ]
    },
    {
     "name": "stdout",
     "output_type": "stream",
     "text": [
      "current average loss = 0.00018\n"
     ]
    },
    {
     "name": "stderr",
     "output_type": "stream",
     "text": [
      "Iteration:  92%|█████████▏| 200/217 [00:54<00:04,  3.62it/s]"
     ]
    },
    {
     "name": "stdout",
     "output_type": "stream",
     "text": [
      "current average loss = 0.00018\n"
     ]
    },
    {
     "name": "stderr",
     "output_type": "stream",
     "text": [
      "Iteration: 100%|██████████| 217/217 [00:59<00:00,  3.65it/s]\n"
     ]
    },
    {
     "name": "stdout",
     "output_type": "stream",
     "text": [
      "Validating...\n"
     ]
    },
    {
     "name": "stderr",
     "output_type": "stream",
     "text": [
      "Iteration: 100%|██████████| 8/8 [00:01<00:00,  7.80it/s]\n"
     ]
    },
    {
     "name": "stdout",
     "output_type": "stream",
     "text": [
      "\n",
      "======= Epoch 41 / 50 =======\n",
      "Training...\n"
     ]
    },
    {
     "name": "stderr",
     "output_type": "stream",
     "text": [
      "Iteration:  46%|████▌     | 100/217 [00:27<00:31,  3.68it/s]"
     ]
    },
    {
     "name": "stdout",
     "output_type": "stream",
     "text": [
      "current average loss = 0.00017\n"
     ]
    },
    {
     "name": "stderr",
     "output_type": "stream",
     "text": [
      "Iteration:  92%|█████████▏| 200/217 [00:54<00:04,  3.71it/s]"
     ]
    },
    {
     "name": "stdout",
     "output_type": "stream",
     "text": [
      "current average loss = 0.00018\n"
     ]
    },
    {
     "name": "stderr",
     "output_type": "stream",
     "text": [
      "Iteration: 100%|██████████| 217/217 [00:59<00:00,  3.66it/s]\n"
     ]
    },
    {
     "name": "stdout",
     "output_type": "stream",
     "text": [
      "Validating...\n"
     ]
    },
    {
     "name": "stderr",
     "output_type": "stream",
     "text": [
      "Iteration: 100%|██████████| 8/8 [00:01<00:00,  7.65it/s]\n"
     ]
    },
    {
     "name": "stdout",
     "output_type": "stream",
     "text": [
      "\n",
      "======= Epoch 42 / 50 =======\n",
      "Training...\n"
     ]
    },
    {
     "name": "stderr",
     "output_type": "stream",
     "text": [
      "Iteration:  46%|████▌     | 100/217 [00:27<00:31,  3.69it/s]"
     ]
    },
    {
     "name": "stdout",
     "output_type": "stream",
     "text": [
      "current average loss = 0.00018\n"
     ]
    },
    {
     "name": "stderr",
     "output_type": "stream",
     "text": [
      "Iteration:  92%|█████████▏| 200/217 [00:54<00:04,  3.59it/s]"
     ]
    },
    {
     "name": "stdout",
     "output_type": "stream",
     "text": [
      "current average loss = 0.00018\n"
     ]
    },
    {
     "name": "stderr",
     "output_type": "stream",
     "text": [
      "Iteration: 100%|██████████| 217/217 [00:59<00:00,  3.66it/s]\n"
     ]
    },
    {
     "name": "stdout",
     "output_type": "stream",
     "text": [
      "Validating...\n"
     ]
    },
    {
     "name": "stderr",
     "output_type": "stream",
     "text": [
      "Iteration: 100%|██████████| 8/8 [00:01<00:00,  7.43it/s]\n"
     ]
    },
    {
     "name": "stdout",
     "output_type": "stream",
     "text": [
      "\n",
      "======= Epoch 43 / 50 =======\n",
      "Training...\n"
     ]
    },
    {
     "name": "stderr",
     "output_type": "stream",
     "text": [
      "Iteration:  46%|████▌     | 100/217 [00:27<00:32,  3.61it/s]"
     ]
    },
    {
     "name": "stdout",
     "output_type": "stream",
     "text": [
      "current average loss = 0.00017\n"
     ]
    },
    {
     "name": "stderr",
     "output_type": "stream",
     "text": [
      "Iteration:  92%|█████████▏| 200/217 [00:55<00:04,  3.61it/s]"
     ]
    },
    {
     "name": "stdout",
     "output_type": "stream",
     "text": [
      "current average loss = 0.00017\n"
     ]
    },
    {
     "name": "stderr",
     "output_type": "stream",
     "text": [
      "Iteration: 100%|██████████| 217/217 [01:00<00:00,  3.60it/s]\n"
     ]
    },
    {
     "name": "stdout",
     "output_type": "stream",
     "text": [
      "Validating...\n"
     ]
    },
    {
     "name": "stderr",
     "output_type": "stream",
     "text": [
      "Iteration: 100%|██████████| 8/8 [00:01<00:00,  7.26it/s]\n"
     ]
    },
    {
     "name": "stdout",
     "output_type": "stream",
     "text": [
      "\n",
      "======= Epoch 44 / 50 =======\n",
      "Training...\n"
     ]
    },
    {
     "name": "stderr",
     "output_type": "stream",
     "text": [
      "Iteration:  46%|████▌     | 100/217 [00:28<00:32,  3.59it/s]"
     ]
    },
    {
     "name": "stdout",
     "output_type": "stream",
     "text": [
      "current average loss = 0.00017\n"
     ]
    },
    {
     "name": "stderr",
     "output_type": "stream",
     "text": [
      "Iteration:  92%|█████████▏| 200/217 [00:58<00:05,  3.19it/s]"
     ]
    },
    {
     "name": "stdout",
     "output_type": "stream",
     "text": [
      "current average loss = 0.00017\n"
     ]
    },
    {
     "name": "stderr",
     "output_type": "stream",
     "text": [
      "Iteration: 100%|██████████| 217/217 [01:03<00:00,  3.42it/s]\n"
     ]
    },
    {
     "name": "stdout",
     "output_type": "stream",
     "text": [
      "Validating...\n"
     ]
    },
    {
     "name": "stderr",
     "output_type": "stream",
     "text": [
      "Iteration: 100%|██████████| 8/8 [00:01<00:00,  6.15it/s]\n"
     ]
    },
    {
     "name": "stdout",
     "output_type": "stream",
     "text": [
      "\n",
      "======= Epoch 45 / 50 =======\n",
      "Training...\n"
     ]
    },
    {
     "name": "stderr",
     "output_type": "stream",
     "text": [
      "Iteration:  46%|████▌     | 100/217 [00:29<00:32,  3.57it/s]"
     ]
    },
    {
     "name": "stdout",
     "output_type": "stream",
     "text": [
      "current average loss = 0.00017\n"
     ]
    },
    {
     "name": "stderr",
     "output_type": "stream",
     "text": [
      "Iteration:  92%|█████████▏| 200/217 [00:58<00:04,  3.45it/s]"
     ]
    },
    {
     "name": "stdout",
     "output_type": "stream",
     "text": [
      "current average loss = 0.00017\n"
     ]
    },
    {
     "name": "stderr",
     "output_type": "stream",
     "text": [
      "Iteration: 100%|██████████| 217/217 [01:02<00:00,  3.45it/s]\n"
     ]
    },
    {
     "name": "stdout",
     "output_type": "stream",
     "text": [
      "Validating...\n"
     ]
    },
    {
     "name": "stderr",
     "output_type": "stream",
     "text": [
      "Iteration: 100%|██████████| 8/8 [00:01<00:00,  7.75it/s]\n"
     ]
    },
    {
     "name": "stdout",
     "output_type": "stream",
     "text": [
      "\n",
      "======= Epoch 46 / 50 =======\n",
      "Training...\n"
     ]
    },
    {
     "name": "stderr",
     "output_type": "stream",
     "text": [
      "Iteration:  46%|████▌     | 100/217 [00:28<00:33,  3.45it/s]"
     ]
    },
    {
     "name": "stdout",
     "output_type": "stream",
     "text": [
      "current average loss = 0.00017\n"
     ]
    },
    {
     "name": "stderr",
     "output_type": "stream",
     "text": [
      "Iteration:  92%|█████████▏| 200/217 [00:57<00:04,  3.55it/s]"
     ]
    },
    {
     "name": "stdout",
     "output_type": "stream",
     "text": [
      "current average loss = 0.00017\n"
     ]
    },
    {
     "name": "stderr",
     "output_type": "stream",
     "text": [
      "Iteration: 100%|██████████| 217/217 [01:01<00:00,  3.51it/s]\n"
     ]
    },
    {
     "name": "stdout",
     "output_type": "stream",
     "text": [
      "Validating...\n"
     ]
    },
    {
     "name": "stderr",
     "output_type": "stream",
     "text": [
      "Iteration: 100%|██████████| 8/8 [00:01<00:00,  7.31it/s]\n"
     ]
    },
    {
     "name": "stdout",
     "output_type": "stream",
     "text": [
      "\n",
      "======= Epoch 47 / 50 =======\n",
      "Training...\n"
     ]
    },
    {
     "name": "stderr",
     "output_type": "stream",
     "text": [
      "Iteration:  46%|████▌     | 100/217 [00:29<00:33,  3.50it/s]"
     ]
    },
    {
     "name": "stdout",
     "output_type": "stream",
     "text": [
      "current average loss = 0.00017\n"
     ]
    },
    {
     "name": "stderr",
     "output_type": "stream",
     "text": [
      "Iteration:  92%|█████████▏| 200/217 [00:56<00:04,  3.62it/s]"
     ]
    },
    {
     "name": "stdout",
     "output_type": "stream",
     "text": [
      "current average loss = 0.00017\n"
     ]
    },
    {
     "name": "stderr",
     "output_type": "stream",
     "text": [
      "Iteration: 100%|██████████| 217/217 [01:01<00:00,  3.54it/s]\n"
     ]
    },
    {
     "name": "stdout",
     "output_type": "stream",
     "text": [
      "Validating...\n"
     ]
    },
    {
     "name": "stderr",
     "output_type": "stream",
     "text": [
      "Iteration: 100%|██████████| 8/8 [00:01<00:00,  6.99it/s]\n"
     ]
    },
    {
     "name": "stdout",
     "output_type": "stream",
     "text": [
      "Saving Best Checkpoint...\n",
      "\n",
      "======= Epoch 48 / 50 =======\n",
      "Training...\n"
     ]
    },
    {
     "name": "stderr",
     "output_type": "stream",
     "text": [
      "Iteration:  46%|████▌     | 100/217 [00:29<00:34,  3.42it/s]"
     ]
    },
    {
     "name": "stdout",
     "output_type": "stream",
     "text": [
      "current average loss = 0.00017\n"
     ]
    },
    {
     "name": "stderr",
     "output_type": "stream",
     "text": [
      "Iteration:  92%|█████████▏| 200/217 [00:57<00:04,  3.57it/s]"
     ]
    },
    {
     "name": "stdout",
     "output_type": "stream",
     "text": [
      "current average loss = 0.00017\n"
     ]
    },
    {
     "name": "stderr",
     "output_type": "stream",
     "text": [
      "Iteration: 100%|██████████| 217/217 [01:02<00:00,  3.49it/s]\n"
     ]
    },
    {
     "name": "stdout",
     "output_type": "stream",
     "text": [
      "Validating...\n"
     ]
    },
    {
     "name": "stderr",
     "output_type": "stream",
     "text": [
      "Iteration: 100%|██████████| 8/8 [00:01<00:00,  7.06it/s]\n"
     ]
    },
    {
     "name": "stdout",
     "output_type": "stream",
     "text": [
      "\n",
      "======= Epoch 49 / 50 =======\n",
      "Training...\n"
     ]
    },
    {
     "name": "stderr",
     "output_type": "stream",
     "text": [
      "Iteration:  46%|████▌     | 100/217 [00:28<00:33,  3.51it/s]"
     ]
    },
    {
     "name": "stdout",
     "output_type": "stream",
     "text": [
      "current average loss = 0.00017\n"
     ]
    },
    {
     "name": "stderr",
     "output_type": "stream",
     "text": [
      "Iteration:  92%|█████████▏| 200/217 [00:56<00:04,  3.53it/s]"
     ]
    },
    {
     "name": "stdout",
     "output_type": "stream",
     "text": [
      "current average loss = 0.00017\n"
     ]
    },
    {
     "name": "stderr",
     "output_type": "stream",
     "text": [
      "Iteration: 100%|██████████| 217/217 [01:01<00:00,  3.55it/s]\n"
     ]
    },
    {
     "name": "stdout",
     "output_type": "stream",
     "text": [
      "Validating...\n"
     ]
    },
    {
     "name": "stderr",
     "output_type": "stream",
     "text": [
      "Iteration: 100%|██████████| 8/8 [00:01<00:00,  7.66it/s]\n"
     ]
    },
    {
     "name": "stdout",
     "output_type": "stream",
     "text": [
      "\n",
      "======= Epoch 50 / 50 =======\n",
      "Training...\n"
     ]
    },
    {
     "name": "stderr",
     "output_type": "stream",
     "text": [
      "Iteration:  46%|████▌     | 100/217 [00:27<00:32,  3.61it/s]"
     ]
    },
    {
     "name": "stdout",
     "output_type": "stream",
     "text": [
      "current average loss = 0.00017\n"
     ]
    },
    {
     "name": "stderr",
     "output_type": "stream",
     "text": [
      "Iteration:  92%|█████████▏| 200/217 [00:56<00:05,  3.31it/s]"
     ]
    },
    {
     "name": "stdout",
     "output_type": "stream",
     "text": [
      "current average loss = 0.00017\n"
     ]
    },
    {
     "name": "stderr",
     "output_type": "stream",
     "text": [
      "Iteration: 100%|██████████| 217/217 [01:01<00:00,  3.54it/s]\n"
     ]
    },
    {
     "name": "stdout",
     "output_type": "stream",
     "text": [
      "Validating...\n"
     ]
    },
    {
     "name": "stderr",
     "output_type": "stream",
     "text": [
      "Iteration: 100%|██████████| 8/8 [00:01<00:00,  7.73it/s]"
     ]
    },
    {
     "name": "stdout",
     "output_type": "stream",
     "text": [
      "\n",
      "Training Complete!\n"
     ]
    },
    {
     "name": "stderr",
     "output_type": "stream",
     "text": [
      "\n"
     ]
    }
   ],
   "source": [
    "for i in range(epochs): \n",
    "    print(\"\")\n",
    "    print(\"======= Epoch {:} / {:} =======\".format(i+1, epochs))\n",
    "    print(\"Training...\") \n",
    "    total_loss = 0 \n",
    "    model.train() \n",
    "    \n",
    "    for step, batch in enumerate(tqdm(train_dataloader, desc=\"Iteration\", smoothing=0.05, position=0, leave=True)):\n",
    "        if step%100 == 0 and not step == 0:\n",
    "            print(\"current average loss = {:.5f}\".format(total_loss / step))\n",
    "                \n",
    "        past_cont = batch['past_cont'].to(device) \n",
    "        past_disc = batch['past_disc'].to(device) \n",
    "        target_seq = batch['target_seq'].to(device) \n",
    "        future_disc = batch['future_disc'].to(device) \n",
    "        model.reset(batch_size=past_cont.shape[0], gpu=True)\n",
    "        past_disc = one_hot(past_disc, [60, 24, 32, 13]) \n",
    "        future_disc = one_hot(future_disc, [60, 24, 32, 13])  \n",
    "                \n",
    "        optimizer.zero_grad() \n",
    "        net_out, vs_weights = model(past_cont, past_disc, None, future_disc) \n",
    "        \n",
    "        loss = criterion(net_out, target_seq) \n",
    "        total_loss += loss.item() \n",
    "        loss.backward() # back propagation \n",
    "        torch.nn.utils.clip_grad_norm_(model.parameters(), 1.0) # gradient clipping \n",
    "        optimizer.step() \n",
    "        scheduler.step() \n",
    "    \n",
    "    avg_train_loss = total_loss / len(train_dataloader)\n",
    "    train_losses.append(avg_train_loss)  \n",
    "    \n",
    "    print(\"Validating...\")\n",
    "    model.eval() \n",
    "    val_loss, _, _ = evaluate(val_dataloader) \n",
    "    val_losses.append(val_loss) \n",
    "    if np.min(val_losses) == val_losses[-1]: \n",
    "        print(\"Saving Best Checkpoint...\") \n",
    "        torch.save(model.state_dict(), \"TFT_feature_engineered_1hour.pt\") \n",
    "\n",
    "print(\"\") \n",
    "print(\"Training Complete!\")"
   ]
  },
  {
   "cell_type": "markdown",
   "metadata": {},
   "source": [
    "# Loss Graphs"
   ]
  },
  {
   "cell_type": "code",
   "execution_count": 42,
   "metadata": {},
   "outputs": [
    {
     "data": {
      "text/plain": [
       "<matplotlib.legend.Legend at 0x7f51a8080668>"
      ]
     },
     "execution_count": 42,
     "metadata": {},
     "output_type": "execute_result"
    },
    {
     "data": {
      "image/png": "[encoded data removed]",
      "text/plain": [
       "<Figure size 432x288 with 1 Axes>"
      ]
     },
     "metadata": {
      "needs_background": "light"
     },
     "output_type": "display_data"
    }
   ],
   "source": [
    "plt.plot(train_losses, label=\"train loss\") \n",
    "plt.legend() "
   ]
  },
  {
   "cell_type": "code",
   "execution_count": 43,
   "metadata": {},
   "outputs": [
    {
     "data": {
      "text/plain": [
       "<matplotlib.legend.Legend at 0x7f501dcb3048>"
      ]
     },
     "execution_count": 43,
     "metadata": {},
     "output_type": "execute_result"
    },
    {
     "data": {
      "image/png": "[encoded data removed]",
      "text/plain": [
       "<Figure size 432x288 with 1 Axes>"
      ]
     },
     "metadata": {
      "needs_background": "light"
     },
     "output_type": "display_data"
    }
   ],
   "source": [
    "plt.plot(val_losses, label=\"val loss\") \n",
    "plt.legend() "
   ]
  },
  {
   "cell_type": "code",
   "execution_count": 44,
   "metadata": {},
   "outputs": [
    {
     "data": {
      "text/plain": [
       "TFN(\n",
       "  (vs_past): VSN(\n",
       "    (fc): Linear(in_features=1, out_features=160, bias=False)\n",
       "    (input_grn): GRN(\n",
       "      (fc1): Linear(in_features=160, out_features=10, bias=True)\n",
       "      (fc2): Linear(in_features=10, out_features=160, bias=True)\n",
       "      (dropout): Dropout(p=0.1, inplace=False)\n",
       "      (gate): GLU(\n",
       "        (fc1): Linear(in_features=160, out_features=160, bias=True)\n",
       "        (fc2): Linear(in_features=160, out_features=160, bias=True)\n",
       "      )\n",
       "      (norm): LayerNorm((160,), eps=1e-05, elementwise_affine=True)\n",
       "    )\n",
       "    (vs_grn): GRN(\n",
       "      (skip): Linear(in_features=200640, out_features=1254, bias=True)\n",
       "      (fc1): Linear(in_features=200640, out_features=10, bias=True)\n",
       "      (fc2): Linear(in_features=10, out_features=1254, bias=True)\n",
       "      (dropout): Dropout(p=0.1, inplace=False)\n",
       "      (gate): GLU(\n",
       "        (fc1): Linear(in_features=1254, out_features=1254, bias=True)\n",
       "        (fc2): Linear(in_features=1254, out_features=1254, bias=True)\n",
       "      )\n",
       "      (norm): LayerNorm((1254,), eps=1e-05, elementwise_affine=True)\n",
       "    )\n",
       "  )\n",
       "  (vs_future): VSN(\n",
       "    (fc): Linear(in_features=1, out_features=160, bias=False)\n",
       "    (input_grn): GRN(\n",
       "      (fc1): Linear(in_features=160, out_features=10, bias=True)\n",
       "      (fc2): Linear(in_features=10, out_features=160, bias=True)\n",
       "      (dropout): Dropout(p=0.1, inplace=False)\n",
       "      (gate): GLU(\n",
       "        (fc1): Linear(in_features=160, out_features=160, bias=True)\n",
       "        (fc2): Linear(in_features=160, out_features=160, bias=True)\n",
       "      )\n",
       "      (norm): LayerNorm((160,), eps=1e-05, elementwise_affine=True)\n",
       "    )\n",
       "    (vs_grn): GRN(\n",
       "      (skip): Linear(in_features=640, out_features=4, bias=True)\n",
       "      (fc1): Linear(in_features=640, out_features=10, bias=True)\n",
       "      (fc2): Linear(in_features=10, out_features=4, bias=True)\n",
       "      (dropout): Dropout(p=0.1, inplace=False)\n",
       "      (gate): GLU(\n",
       "        (fc1): Linear(in_features=4, out_features=4, bias=True)\n",
       "        (fc2): Linear(in_features=4, out_features=4, bias=True)\n",
       "      )\n",
       "      (norm): LayerNorm((4,), eps=1e-05, elementwise_affine=True)\n",
       "    )\n",
       "  )\n",
       "  (enc): LSTMLayer(\n",
       "    (lstm): LSTM(160, 160, batch_first=True)\n",
       "    (dropout): Dropout(p=0.1, inplace=False)\n",
       "  )\n",
       "  (dec): LSTMLayer(\n",
       "    (lstm): LSTM(160, 160, batch_first=True)\n",
       "    (dropout): Dropout(p=0.1, inplace=False)\n",
       "  )\n",
       "  (gate1): GLU(\n",
       "    (fc1): Linear(in_features=160, out_features=160, bias=True)\n",
       "    (fc2): Linear(in_features=160, out_features=160, bias=True)\n",
       "  )\n",
       "  (norm1): LayerNorm((160,), eps=1e-05, elementwise_affine=True)\n",
       "  (static_enrich_grn): GRN(\n",
       "    (fc1): Linear(in_features=160, out_features=10, bias=True)\n",
       "    (fc2): Linear(in_features=10, out_features=160, bias=True)\n",
       "    (dropout): Dropout(p=0.1, inplace=False)\n",
       "    (gate): GLU(\n",
       "      (fc1): Linear(in_features=160, out_features=160, bias=True)\n",
       "      (fc2): Linear(in_features=160, out_features=160, bias=True)\n",
       "    )\n",
       "    (norm): LayerNorm((160,), eps=1e-05, elementwise_affine=True)\n",
       "  )\n",
       "  (norm2): LayerNorm((160,), eps=1e-05, elementwise_affine=True)\n",
       "  (positionwise_grn): GRN(\n",
       "    (fc1): Linear(in_features=160, out_features=10, bias=True)\n",
       "    (fc2): Linear(in_features=10, out_features=160, bias=True)\n",
       "    (dropout): Dropout(p=0.1, inplace=False)\n",
       "    (gate): GLU(\n",
       "      (fc1): Linear(in_features=160, out_features=160, bias=True)\n",
       "      (fc2): Linear(in_features=160, out_features=160, bias=True)\n",
       "    )\n",
       "    (norm): LayerNorm((160,), eps=1e-05, elementwise_affine=True)\n",
       "  )\n",
       "  (norm3): LayerNorm((160,), eps=1e-05, elementwise_affine=True)\n",
       "  (dropout): Dropout(p=0.1, inplace=False)\n",
       "  (fc_out): Linear(in_features=160, out_features=1, bias=True)\n",
       ")"
      ]
     },
     "execution_count": 44,
     "metadata": {},
     "output_type": "execute_result"
    }
   ],
   "source": [
    "# load test model \n",
    "test_model = TFN(n_var_past_cont = features,\n",
    "                 n_var_future_cont = 0, \n",
    "                 n_var_past_disc = [60, 24, 32, 13], # minutes, hours, days, months\n",
    "                 n_var_future_disc = [60, 24, 32, 13],\n",
    "                 dim_model = 160)  \n",
    "\n",
    "checkpoint = torch.load(\"TFT_feature_engineered_1hour.pt\") \n",
    "\n",
    "test_model.load_state_dict(checkpoint)\n",
    "\n",
    "test_model.eval() \n",
    "\n",
    "test_model.cuda() "
   ]
  },
  {
   "cell_type": "code",
   "execution_count": 45,
   "metadata": {},
   "outputs": [
    {
     "name": "stderr",
     "output_type": "stream",
     "text": [
      "/usr/local/lib/python3.6/dist-packages/ipykernel_launcher.py:15: UserWarning: To copy construct from a tensor, it is recommended to use sourceTensor.clone().detach() or sourceTensor.clone().detach().requires_grad_(True), rather than torch.tensor(sourceTensor).\n",
      "  from ipykernel import kernelapp as app\n",
      "/usr/local/lib/python3.6/dist-packages/ipykernel_launcher.py:16: UserWarning: To copy construct from a tensor, it is recommended to use sourceTensor.clone().detach() or sourceTensor.clone().detach().requires_grad_(True), rather than torch.tensor(sourceTensor).\n",
      "  app.launch_new_instance()\n",
      "/usr/local/lib/python3.6/dist-packages/ipykernel_launcher.py:17: UserWarning: To copy construct from a tensor, it is recommended to use sourceTensor.clone().detach() or sourceTensor.clone().detach().requires_grad_(True), rather than torch.tensor(sourceTensor).\n",
      "/usr/local/lib/python3.6/dist-packages/ipykernel_launcher.py:18: UserWarning: To copy construct from a tensor, it is recommended to use sourceTensor.clone().detach() or sourceTensor.clone().detach().requires_grad_(True), rather than torch.tensor(sourceTensor).\n"
     ]
    },
    {
     "data": {
      "image/png": "[encoded data removed]",
      "text/plain": [
       "<Figure size 432x288 with 1 Axes>"
      ]
     },
     "metadata": {
      "needs_background": "light"
     },
     "output_type": "display_data"
    },
    {
     "name": "stderr",
     "output_type": "stream",
     "text": [
      "/usr/local/lib/python3.6/dist-packages/ipykernel_launcher.py:15: UserWarning: To copy construct from a tensor, it is recommended to use sourceTensor.clone().detach() or sourceTensor.clone().detach().requires_grad_(True), rather than torch.tensor(sourceTensor).\n",
      "  from ipykernel import kernelapp as app\n",
      "/usr/local/lib/python3.6/dist-packages/ipykernel_launcher.py:16: UserWarning: To copy construct from a tensor, it is recommended to use sourceTensor.clone().detach() or sourceTensor.clone().detach().requires_grad_(True), rather than torch.tensor(sourceTensor).\n",
      "  app.launch_new_instance()\n",
      "/usr/local/lib/python3.6/dist-packages/ipykernel_launcher.py:17: UserWarning: To copy construct from a tensor, it is recommended to use sourceTensor.clone().detach() or sourceTensor.clone().detach().requires_grad_(True), rather than torch.tensor(sourceTensor).\n",
      "/usr/local/lib/python3.6/dist-packages/ipykernel_launcher.py:18: UserWarning: To copy construct from a tensor, it is recommended to use sourceTensor.clone().detach() or sourceTensor.clone().detach().requires_grad_(True), rather than torch.tensor(sourceTensor).\n"
     ]
    },
    {
     "data": {
      "image/png": "[encoded data removed]",
      "text/plain": [
       "<Figure size 432x288 with 1 Axes>"
      ]
     },
     "metadata": {
      "needs_background": "light"
     },
     "output_type": "display_data"
    },
    {
     "name": "stderr",
     "output_type": "stream",
     "text": [
      "/usr/local/lib/python3.6/dist-packages/ipykernel_launcher.py:15: UserWarning: To copy construct from a tensor, it is recommended to use sourceTensor.clone().detach() or sourceTensor.clone().detach().requires_grad_(True), rather than torch.tensor(sourceTensor).\n",
      "  from ipykernel import kernelapp as app\n",
      "/usr/local/lib/python3.6/dist-packages/ipykernel_launcher.py:16: UserWarning: To copy construct from a tensor, it is recommended to use sourceTensor.clone().detach() or sourceTensor.clone().detach().requires_grad_(True), rather than torch.tensor(sourceTensor).\n",
      "  app.launch_new_instance()\n",
      "/usr/local/lib/python3.6/dist-packages/ipykernel_launcher.py:17: UserWarning: To copy construct from a tensor, it is recommended to use sourceTensor.clone().detach() or sourceTensor.clone().detach().requires_grad_(True), rather than torch.tensor(sourceTensor).\n",
      "/usr/local/lib/python3.6/dist-packages/ipykernel_launcher.py:18: UserWarning: To copy construct from a tensor, it is recommended to use sourceTensor.clone().detach() or sourceTensor.clone().detach().requires_grad_(True), rather than torch.tensor(sourceTensor).\n"
     ]
    },
    {
     "data": {
      "image/png": "[encoded data removed]",
      "text/plain": [
       "<Figure size 432x288 with 1 Axes>"
      ]
     },
     "metadata": {
      "needs_background": "light"
     },
     "output_type": "display_data"
    },
    {
     "name": "stderr",
     "output_type": "stream",
     "text": [
      "/usr/local/lib/python3.6/dist-packages/ipykernel_launcher.py:15: UserWarning: To copy construct from a tensor, it is recommended to use sourceTensor.clone().detach() or sourceTensor.clone().detach().requires_grad_(True), rather than torch.tensor(sourceTensor).\n",
      "  from ipykernel import kernelapp as app\n",
      "/usr/local/lib/python3.6/dist-packages/ipykernel_launcher.py:16: UserWarning: To copy construct from a tensor, it is recommended to use sourceTensor.clone().detach() or sourceTensor.clone().detach().requires_grad_(True), rather than torch.tensor(sourceTensor).\n",
      "  app.launch_new_instance()\n",
      "/usr/local/lib/python3.6/dist-packages/ipykernel_launcher.py:17: UserWarning: To copy construct from a tensor, it is recommended to use sourceTensor.clone().detach() or sourceTensor.clone().detach().requires_grad_(True), rather than torch.tensor(sourceTensor).\n",
      "/usr/local/lib/python3.6/dist-packages/ipykernel_launcher.py:18: UserWarning: To copy construct from a tensor, it is recommended to use sourceTensor.clone().detach() or sourceTensor.clone().detach().requires_grad_(True), rather than torch.tensor(sourceTensor).\n"
     ]
    },
    {
     "data": {
      "image/png": "[encoded data removed]",
      "text/plain": [
       "<Figure size 432x288 with 1 Axes>"
      ]
     },
     "metadata": {
      "needs_background": "light"
     },
     "output_type": "display_data"
    },
    {
     "name": "stderr",
     "output_type": "stream",
     "text": [
      "/usr/local/lib/python3.6/dist-packages/ipykernel_launcher.py:15: UserWarning: To copy construct from a tensor, it is recommended to use sourceTensor.clone().detach() or sourceTensor.clone().detach().requires_grad_(True), rather than torch.tensor(sourceTensor).\n",
      "  from ipykernel import kernelapp as app\n",
      "/usr/local/lib/python3.6/dist-packages/ipykernel_launcher.py:16: UserWarning: To copy construct from a tensor, it is recommended to use sourceTensor.clone().detach() or sourceTensor.clone().detach().requires_grad_(True), rather than torch.tensor(sourceTensor).\n",
      "  app.launch_new_instance()\n",
      "/usr/local/lib/python3.6/dist-packages/ipykernel_launcher.py:17: UserWarning: To copy construct from a tensor, it is recommended to use sourceTensor.clone().detach() or sourceTensor.clone().detach().requires_grad_(True), rather than torch.tensor(sourceTensor).\n",
      "/usr/local/lib/python3.6/dist-packages/ipykernel_launcher.py:18: UserWarning: To copy construct from a tensor, it is recommended to use sourceTensor.clone().detach() or sourceTensor.clone().detach().requires_grad_(True), rather than torch.tensor(sourceTensor).\n"
     ]
    },
    {
     "data": {
      "image/png": "[encoded data removed]",
      "text/plain": [
       "<Figure size 432x288 with 1 Axes>"
      ]
     },
     "metadata": {
      "needs_background": "light"
     },
     "output_type": "display_data"
    },
    {
     "name": "stderr",
     "output_type": "stream",
     "text": [
      "/usr/local/lib/python3.6/dist-packages/ipykernel_launcher.py:15: UserWarning: To copy construct from a tensor, it is recommended to use sourceTensor.clone().detach() or sourceTensor.clone().detach().requires_grad_(True), rather than torch.tensor(sourceTensor).\n",
      "  from ipykernel import kernelapp as app\n",
      "/usr/local/lib/python3.6/dist-packages/ipykernel_launcher.py:16: UserWarning: To copy construct from a tensor, it is recommended to use sourceTensor.clone().detach() or sourceTensor.clone().detach().requires_grad_(True), rather than torch.tensor(sourceTensor).\n",
      "  app.launch_new_instance()\n",
      "/usr/local/lib/python3.6/dist-packages/ipykernel_launcher.py:17: UserWarning: To copy construct from a tensor, it is recommended to use sourceTensor.clone().detach() or sourceTensor.clone().detach().requires_grad_(True), rather than torch.tensor(sourceTensor).\n",
      "/usr/local/lib/python3.6/dist-packages/ipykernel_launcher.py:18: UserWarning: To copy construct from a tensor, it is recommended to use sourceTensor.clone().detach() or sourceTensor.clone().detach().requires_grad_(True), rather than torch.tensor(sourceTensor).\n"
     ]
    },
    {
     "data": {
      "image/png": "[encoded data removed]",
      "text/plain": [
       "<Figure size 432x288 with 1 Axes>"
      ]
     },
     "metadata": {
      "needs_background": "light"
     },
     "output_type": "display_data"
    },
    {
     "name": "stderr",
     "output_type": "stream",
     "text": [
      "/usr/local/lib/python3.6/dist-packages/ipykernel_launcher.py:15: UserWarning: To copy construct from a tensor, it is recommended to use sourceTensor.clone().detach() or sourceTensor.clone().detach().requires_grad_(True), rather than torch.tensor(sourceTensor).\n",
      "  from ipykernel import kernelapp as app\n",
      "/usr/local/lib/python3.6/dist-packages/ipykernel_launcher.py:16: UserWarning: To copy construct from a tensor, it is recommended to use sourceTensor.clone().detach() or sourceTensor.clone().detach().requires_grad_(True), rather than torch.tensor(sourceTensor).\n",
      "  app.launch_new_instance()\n",
      "/usr/local/lib/python3.6/dist-packages/ipykernel_launcher.py:17: UserWarning: To copy construct from a tensor, it is recommended to use sourceTensor.clone().detach() or sourceTensor.clone().detach().requires_grad_(True), rather than torch.tensor(sourceTensor).\n",
      "/usr/local/lib/python3.6/dist-packages/ipykernel_launcher.py:18: UserWarning: To copy construct from a tensor, it is recommended to use sourceTensor.clone().detach() or sourceTensor.clone().detach().requires_grad_(True), rather than torch.tensor(sourceTensor).\n"
     ]
    },
    {
     "data": {
      "image/png": "[encoded data removed]",
      "text/plain": [
       "<Figure size 432x288 with 1 Axes>"
      ]
     },
     "metadata": {
      "needs_background": "light"
     },
     "output_type": "display_data"
    },
    {
     "name": "stderr",
     "output_type": "stream",
     "text": [
      "/usr/local/lib/python3.6/dist-packages/ipykernel_launcher.py:15: UserWarning: To copy construct from a tensor, it is recommended to use sourceTensor.clone().detach() or sourceTensor.clone().detach().requires_grad_(True), rather than torch.tensor(sourceTensor).\n",
      "  from ipykernel import kernelapp as app\n",
      "/usr/local/lib/python3.6/dist-packages/ipykernel_launcher.py:16: UserWarning: To copy construct from a tensor, it is recommended to use sourceTensor.clone().detach() or sourceTensor.clone().detach().requires_grad_(True), rather than torch.tensor(sourceTensor).\n",
      "  app.launch_new_instance()\n",
      "/usr/local/lib/python3.6/dist-packages/ipykernel_launcher.py:17: UserWarning: To copy construct from a tensor, it is recommended to use sourceTensor.clone().detach() or sourceTensor.clone().detach().requires_grad_(True), rather than torch.tensor(sourceTensor).\n",
      "/usr/local/lib/python3.6/dist-packages/ipykernel_launcher.py:18: UserWarning: To copy construct from a tensor, it is recommended to use sourceTensor.clone().detach() or sourceTensor.clone().detach().requires_grad_(True), rather than torch.tensor(sourceTensor).\n"
     ]
    },
    {
     "data": {
      "image/png": "[encoded data removed]",
      "text/plain": [
       "<Figure size 432x288 with 1 Axes>"
      ]
     },
     "metadata": {
      "needs_background": "light"
     },
     "output_type": "display_data"
    }
   ],
   "source": [
    "acc = 0 \n",
    "total = 0 \n",
    "for batch in val_dataloader:\n",
    "    past_cont = batch['past_cont'].to(device) \n",
    "    past_disc = batch['past_disc'].to(device) \n",
    "    target_seq = batch['target_seq'].to(device) \n",
    "    future_disc = batch['future_disc'].to(device)\n",
    "        \n",
    "    past_disc = one_hot(past_disc, [60, 24, 32, 13]) \n",
    "    future_disc = one_hot(future_disc, [60, 24, 32, 13]) \n",
    "        \n",
    "    test_model.reset(batch_size=past_cont.shape[0], gpu=True) \n",
    "    with torch.no_grad():\n",
    "        net_out, vs_weights = test_model(past_cont, past_disc, None, future_disc)  \n",
    "    \n",
    "    predicted = net_out[10,:,:].detach().cpu().numpy() \n",
    "    actual = target_seq[10,:,:].detach().cpu().numpy() \n",
    "    \n",
    "    diff = actual[0] - predicted[0] \n",
    "    predicted += diff \n",
    "    \n",
    "    '''\n",
    "    vs_weights = torch.mean(torch.mean(vs_weights, dim=0), dim=0).squeeze() \n",
    "    vs_weights = vs_weights.detach().cpu().numpy() \n",
    "    ''' \n",
    "    \n",
    "    # calculate accuracy \n",
    "    for i in range(past_cont.shape[0]): \n",
    "        pred_seq = net_out[i,:,:].detach().cpu().numpy() \n",
    "        actual_seq = target_seq[i,:,:].detach().cpu().numpy() \n",
    "        diff = actual_seq[0] - pred_seq[0] \n",
    "        pred_seq += diff \n",
    "        for j in range(1,6): \n",
    "            actual_diff = actual_seq[j] - actual_seq[j-1] \n",
    "            pred_diff = pred_seq[j] - pred_seq[j-1] \n",
    "            if (actual_diff >= 0 and pred_diff >= 0) or (actual_diff < 0 and pred_diff < 0):\n",
    "                acc += 1\n",
    "            total += 1 \n",
    "            \n",
    "    \n",
    "    plt.plot(predicted, label=\"predicted\") \n",
    "    plt.plot(actual, label=\"target\")\n",
    "    plt.legend() \n",
    "    plt.show() \n",
    "                                    "
   ]
  },
  {
   "cell_type": "code",
   "execution_count": 46,
   "metadata": {},
   "outputs": [
    {
     "name": "stdout",
     "output_type": "stream",
     "text": [
      "Total Accuracy = 46.69%\n"
     ]
    }
   ],
   "source": [
    "print(\"Total Accuracy = {:.2f}%\".format(acc / total * 100))"
   ]
  },
  {
   "cell_type": "code",
   "execution_count": null,
   "metadata": {},
   "outputs": [],
   "source": []
  }
 ],
 "metadata": {
  "kernelspec": {
   "display_name": "Python 3",
   "language": "python",
   "name": "python3"
  },
  "language_info": {
   "codemirror_mode": {
    "name": "ipython",
    "version": 3
   },
   "file_extension": ".py",
   "mimetype": "text/x-python",
   "name": "python",
   "nbconvert_exporter": "python",
   "pygments_lexer": "ipython3",
   "version": "3.6.9"
  }
 },
 "nbformat": 4,
 "nbformat_minor": 4
}
