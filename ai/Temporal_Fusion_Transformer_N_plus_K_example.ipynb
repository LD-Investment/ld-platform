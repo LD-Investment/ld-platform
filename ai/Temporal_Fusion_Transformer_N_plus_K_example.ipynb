{
 "cells": [
  {
   "cell_type": "code",
   "execution_count": 1,
   "metadata": {},
   "outputs": [
    {
     "name": "stderr",
     "output_type": "stream",
     "text": [
      "PyTorch version 1.7.1 available.\n",
      "TensorFlow version 2.5.0 available.\n",
      "/usr/local/lib/python3.6/dist-packages/torchaudio/backend/utils.py:54: UserWarning: \"sox\" backend is being deprecated. The default backend will be changed to \"sox_io\" backend in 0.8.0 and \"sox\" backend will be removed in 0.9.0. Please migrate to \"sox_io\" backend. Please refer to https://github.com/pytorch/audio/issues/903 for the detail.\n",
      "  '\"sox\" backend is being deprecated. '\n"
     ]
    }
   ],
   "source": [
    "import json \n",
    "import pandas as pd \n",
    "import numpy as np \n",
    "import time \n",
    "from datetime import timezone \n",
    "import os\n",
    "from mplfinance.original_flavor import candlestick_ohlc\n",
    "import pyupbit \n",
    "import ccxt\n",
    "import matplotlib.pyplot as plt\n",
    "from torch.utils.data import Dataset, DataLoader\n",
    "import torch \n",
    "import torch.nn as nn\n",
    "import torch.nn.functional as F \n",
    "from transformers import *\n",
    "import os \n",
    "import time \n",
    "import datetime \n",
    "import matplotlib.pyplot as plt\n",
    "from tqdm import tqdm \n",
    "import numpy as np\n",
    "import json\n",
    "from sklearn.model_selection import train_test_split\n",
    "import seaborn as sns"
   ]
  },
  {
   "cell_type": "code",
   "execution_count": 2,
   "metadata": {},
   "outputs": [
    {
     "data": {
      "text/plain": [
       "((105291, 7),\n",
       " (105685, 7),\n",
       " (105448, 7),\n",
       " (11361, 7),\n",
       " (105291, 7),\n",
       " (105685, 7),\n",
       " (105448, 7),\n",
       " (11364, 7))"
      ]
     },
     "execution_count": 2,
     "metadata": {},
     "output_type": "execute_result"
    }
   ],
   "source": [
    "btc_2019 = pd.read_csv(\"data_5m/2019_BTCUSDT.csv\") \n",
    "btc_2020 = pd.read_csv(\"data_5m/2020_BTCUSDT.csv\") \n",
    "btc_2021 = pd.read_csv(\"data_5m/2021_BTCUSDT.csv\") \n",
    "btc_2022 = pd.read_csv(\"data_5m/2022_BTCUSDT.csv\") \n",
    "\n",
    "eth_2019 = pd.read_csv(\"data_5m/2019_ETHUSDT.csv\") \n",
    "eth_2020 = pd.read_csv(\"data_5m/2020_ETHUSDT.csv\") \n",
    "eth_2021 = pd.read_csv(\"data_5m/2021_ETHUSDT.csv\") \n",
    "eth_2022 = pd.read_csv(\"data_5m/2022_ETHUSDT.csv\") \n",
    "\n",
    "btc_2019.shape, btc_2020.shape, btc_2021.shape, btc_2022.shape, eth_2019.shape, eth_2020.shape, eth_2021.shape, eth_2022.shape"
   ]
  },
  {
   "cell_type": "code",
   "execution_count": 3,
   "metadata": {},
   "outputs": [
    {
     "data": {
      "text/plain": [
       "((316424, 7), (316424, 7), (11361, 7), (11364, 7))"
      ]
     },
     "execution_count": 3,
     "metadata": {},
     "output_type": "execute_result"
    }
   ],
   "source": [
    "btc_train = pd.concat([btc_2019, btc_2020, btc_2021]) \n",
    "eth_train = pd.concat([eth_2019, eth_2020, eth_2021]) \n",
    "\n",
    "btc_val = btc_2022 \n",
    "eth_val = eth_2022\n",
    "\n",
    "btc_train.shape, eth_train.shape, btc_val.shape, eth_val.shape"
   ]
  },
  {
   "cell_type": "code",
   "execution_count": 4,
   "metadata": {},
   "outputs": [],
   "source": [
    "def process(df): \n",
    "    binance = ccxt.binance() \n",
    "    dates = df['Open Time'].values \n",
    "    timestamp = [] \n",
    "    for i in range(len(dates)): \n",
    "        date_string = binance.iso8601(int(dates[i])) \n",
    "        date_string = date_string[:10] + \" \" + date_string[11:-5] \n",
    "        timestamp.append(date_string) \n",
    "    df['datetime'] = timestamp \n",
    "    df = df.drop(columns={'0'})\n",
    "    return df"
   ]
  },
  {
   "cell_type": "code",
   "execution_count": 5,
   "metadata": {},
   "outputs": [],
   "source": [
    "btc_train = process(btc_train) \n",
    "eth_train = process(eth_train) \n",
    "\n",
    "btc_val = process(btc_val) \n",
    "eth_val = process(eth_val)"
   ]
  },
  {
   "cell_type": "code",
   "execution_count": 6,
   "metadata": {},
   "outputs": [
    {
     "data": {
      "text/html": [
       "<div>\n",
       "<style scoped>\n",
       "    .dataframe tbody tr th:only-of-type {\n",
       "        vertical-align: middle;\n",
       "    }\n",
       "\n",
       "    .dataframe tbody tr th {\n",
       "        vertical-align: top;\n",
       "    }\n",
       "\n",
       "    .dataframe thead th {\n",
       "        text-align: right;\n",
       "    }\n",
       "</style>\n",
       "<table border=\"1\" class=\"dataframe\">\n",
       "  <thead>\n",
       "    <tr style=\"text-align: right;\">\n",
       "      <th></th>\n",
       "      <th>Open Time</th>\n",
       "      <th>BTC Open</th>\n",
       "      <th>BTC High</th>\n",
       "      <th>BTC Low</th>\n",
       "      <th>BTC Close</th>\n",
       "      <th>BTC Volume</th>\n",
       "      <th>datetime</th>\n",
       "    </tr>\n",
       "  </thead>\n",
       "  <tbody>\n",
       "    <tr>\n",
       "      <th>0</th>\n",
       "      <td>1546300800000</td>\n",
       "      <td>3701.23</td>\n",
       "      <td>3703.72</td>\n",
       "      <td>3695.00</td>\n",
       "      <td>3696.32</td>\n",
       "      <td>85.572181</td>\n",
       "      <td>2019-01-01 00:00:00</td>\n",
       "    </tr>\n",
       "    <tr>\n",
       "      <th>1</th>\n",
       "      <td>1546301100000</td>\n",
       "      <td>3696.30</td>\n",
       "      <td>3697.24</td>\n",
       "      <td>3689.88</td>\n",
       "      <td>3692.34</td>\n",
       "      <td>62.296581</td>\n",
       "      <td>2019-01-01 00:05:00</td>\n",
       "    </tr>\n",
       "    <tr>\n",
       "      <th>2</th>\n",
       "      <td>1546301400000</td>\n",
       "      <td>3692.34</td>\n",
       "      <td>3698.93</td>\n",
       "      <td>3692.34</td>\n",
       "      <td>3697.31</td>\n",
       "      <td>43.105333</td>\n",
       "      <td>2019-01-01 00:10:00</td>\n",
       "    </tr>\n",
       "    <tr>\n",
       "      <th>3</th>\n",
       "      <td>1546301700000</td>\n",
       "      <td>3697.91</td>\n",
       "      <td>3698.75</td>\n",
       "      <td>3693.00</td>\n",
       "      <td>3693.00</td>\n",
       "      <td>48.551084</td>\n",
       "      <td>2019-01-01 00:15:00</td>\n",
       "    </tr>\n",
       "    <tr>\n",
       "      <th>4</th>\n",
       "      <td>1546302000000</td>\n",
       "      <td>3693.44</td>\n",
       "      <td>3695.98</td>\n",
       "      <td>3690.92</td>\n",
       "      <td>3692.18</td>\n",
       "      <td>47.706443</td>\n",
       "      <td>2019-01-01 00:20:00</td>\n",
       "    </tr>\n",
       "  </tbody>\n",
       "</table>\n",
       "</div>"
      ],
      "text/plain": [
       "       Open Time  BTC Open  BTC High  BTC Low  BTC Close  BTC Volume  \\\n",
       "0  1546300800000   3701.23   3703.72  3695.00    3696.32   85.572181   \n",
       "1  1546301100000   3696.30   3697.24  3689.88    3692.34   62.296581   \n",
       "2  1546301400000   3692.34   3698.93  3692.34    3697.31   43.105333   \n",
       "3  1546301700000   3697.91   3698.75  3693.00    3693.00   48.551084   \n",
       "4  1546302000000   3693.44   3695.98  3690.92    3692.18   47.706443   \n",
       "\n",
       "              datetime  \n",
       "0  2019-01-01 00:00:00  \n",
       "1  2019-01-01 00:05:00  \n",
       "2  2019-01-01 00:10:00  \n",
       "3  2019-01-01 00:15:00  \n",
       "4  2019-01-01 00:20:00  "
      ]
     },
     "execution_count": 6,
     "metadata": {},
     "output_type": "execute_result"
    }
   ],
   "source": [
    "btc_train = btc_train.rename(columns={'Open':\"BTC Open\",\n",
    "                                      'High':\"BTC High\", \n",
    "                                      'Low':\"BTC Low\",\n",
    "                                      'Close':\"BTC Close\",\n",
    "                                      'Volume':\"BTC Volume\"})\n",
    "\n",
    "btc_train.head() "
   ]
  },
  {
   "cell_type": "code",
   "execution_count": 7,
   "metadata": {},
   "outputs": [
    {
     "data": {
      "text/html": [
       "<div>\n",
       "<style scoped>\n",
       "    .dataframe tbody tr th:only-of-type {\n",
       "        vertical-align: middle;\n",
       "    }\n",
       "\n",
       "    .dataframe tbody tr th {\n",
       "        vertical-align: top;\n",
       "    }\n",
       "\n",
       "    .dataframe thead th {\n",
       "        text-align: right;\n",
       "    }\n",
       "</style>\n",
       "<table border=\"1\" class=\"dataframe\">\n",
       "  <thead>\n",
       "    <tr style=\"text-align: right;\">\n",
       "      <th></th>\n",
       "      <th>Open Time</th>\n",
       "      <th>ETH Open</th>\n",
       "      <th>ETH High</th>\n",
       "      <th>ETH Low</th>\n",
       "      <th>ETH Close</th>\n",
       "      <th>ETH Volume</th>\n",
       "      <th>datetime</th>\n",
       "    </tr>\n",
       "  </thead>\n",
       "  <tbody>\n",
       "    <tr>\n",
       "      <th>0</th>\n",
       "      <td>1546300800000</td>\n",
       "      <td>131.45</td>\n",
       "      <td>131.54</td>\n",
       "      <td>131.01</td>\n",
       "      <td>131.27</td>\n",
       "      <td>1269.12705</td>\n",
       "      <td>2019-01-01 00:00:00</td>\n",
       "    </tr>\n",
       "    <tr>\n",
       "      <th>1</th>\n",
       "      <td>1546301100000</td>\n",
       "      <td>131.26</td>\n",
       "      <td>131.35</td>\n",
       "      <td>131.12</td>\n",
       "      <td>131.29</td>\n",
       "      <td>1601.91843</td>\n",
       "      <td>2019-01-01 00:05:00</td>\n",
       "    </tr>\n",
       "    <tr>\n",
       "      <th>2</th>\n",
       "      <td>1546301400000</td>\n",
       "      <td>131.27</td>\n",
       "      <td>131.36</td>\n",
       "      <td>131.19</td>\n",
       "      <td>131.31</td>\n",
       "      <td>560.54337</td>\n",
       "      <td>2019-01-01 00:10:00</td>\n",
       "    </tr>\n",
       "    <tr>\n",
       "      <th>3</th>\n",
       "      <td>1546301700000</td>\n",
       "      <td>131.30</td>\n",
       "      <td>131.36</td>\n",
       "      <td>131.25</td>\n",
       "      <td>131.30</td>\n",
       "      <td>651.89505</td>\n",
       "      <td>2019-01-01 00:15:00</td>\n",
       "    </tr>\n",
       "    <tr>\n",
       "      <th>4</th>\n",
       "      <td>1546302000000</td>\n",
       "      <td>131.26</td>\n",
       "      <td>131.44</td>\n",
       "      <td>131.25</td>\n",
       "      <td>131.28</td>\n",
       "      <td>500.58218</td>\n",
       "      <td>2019-01-01 00:20:00</td>\n",
       "    </tr>\n",
       "  </tbody>\n",
       "</table>\n",
       "</div>"
      ],
      "text/plain": [
       "       Open Time  ETH Open  ETH High  ETH Low  ETH Close  ETH Volume  \\\n",
       "0  1546300800000    131.45    131.54   131.01     131.27  1269.12705   \n",
       "1  1546301100000    131.26    131.35   131.12     131.29  1601.91843   \n",
       "2  1546301400000    131.27    131.36   131.19     131.31   560.54337   \n",
       "3  1546301700000    131.30    131.36   131.25     131.30   651.89505   \n",
       "4  1546302000000    131.26    131.44   131.25     131.28   500.58218   \n",
       "\n",
       "              datetime  \n",
       "0  2019-01-01 00:00:00  \n",
       "1  2019-01-01 00:05:00  \n",
       "2  2019-01-01 00:10:00  \n",
       "3  2019-01-01 00:15:00  \n",
       "4  2019-01-01 00:20:00  "
      ]
     },
     "execution_count": 7,
     "metadata": {},
     "output_type": "execute_result"
    }
   ],
   "source": [
    "eth_train = eth_train.rename(columns={'Open':\"ETH Open\",\n",
    "                                      'High':\"ETH High\", \n",
    "                                      'Low':\"ETH Low\",\n",
    "                                      'Close':\"ETH Close\",\n",
    "                                      'Volume':\"ETH Volume\"})\n",
    "\n",
    "eth_train.head()"
   ]
  },
  {
   "cell_type": "code",
   "execution_count": 8,
   "metadata": {},
   "outputs": [],
   "source": [
    "btc_train = btc_train.drop(columns={'Open Time'}) \n",
    "eth_train = eth_train.drop(columns={'Open Time'})\n",
    "full_df = btc_train.join(eth_train.set_index('datetime'), on='datetime') "
   ]
  },
  {
   "cell_type": "code",
   "execution_count": 9,
   "metadata": {},
   "outputs": [
    {
     "data": {
      "text/html": [
       "<div>\n",
       "<style scoped>\n",
       "    .dataframe tbody tr th:only-of-type {\n",
       "        vertical-align: middle;\n",
       "    }\n",
       "\n",
       "    .dataframe tbody tr th {\n",
       "        vertical-align: top;\n",
       "    }\n",
       "\n",
       "    .dataframe thead th {\n",
       "        text-align: right;\n",
       "    }\n",
       "</style>\n",
       "<table border=\"1\" class=\"dataframe\">\n",
       "  <thead>\n",
       "    <tr style=\"text-align: right;\">\n",
       "      <th></th>\n",
       "      <th>BTC Open</th>\n",
       "      <th>BTC High</th>\n",
       "      <th>BTC Low</th>\n",
       "      <th>BTC Close</th>\n",
       "      <th>BTC Volume</th>\n",
       "      <th>datetime</th>\n",
       "      <th>ETH Open</th>\n",
       "      <th>ETH High</th>\n",
       "      <th>ETH Low</th>\n",
       "      <th>ETH Close</th>\n",
       "      <th>ETH Volume</th>\n",
       "    </tr>\n",
       "  </thead>\n",
       "  <tbody>\n",
       "    <tr>\n",
       "      <th>0</th>\n",
       "      <td>3701.23</td>\n",
       "      <td>3703.72</td>\n",
       "      <td>3695.00</td>\n",
       "      <td>3696.32</td>\n",
       "      <td>85.572181</td>\n",
       "      <td>2019-01-01 00:00:00</td>\n",
       "      <td>131.45</td>\n",
       "      <td>131.54</td>\n",
       "      <td>131.01</td>\n",
       "      <td>131.27</td>\n",
       "      <td>1269.12705</td>\n",
       "    </tr>\n",
       "    <tr>\n",
       "      <th>1</th>\n",
       "      <td>3696.30</td>\n",
       "      <td>3697.24</td>\n",
       "      <td>3689.88</td>\n",
       "      <td>3692.34</td>\n",
       "      <td>62.296581</td>\n",
       "      <td>2019-01-01 00:05:00</td>\n",
       "      <td>131.26</td>\n",
       "      <td>131.35</td>\n",
       "      <td>131.12</td>\n",
       "      <td>131.29</td>\n",
       "      <td>1601.91843</td>\n",
       "    </tr>\n",
       "    <tr>\n",
       "      <th>2</th>\n",
       "      <td>3692.34</td>\n",
       "      <td>3698.93</td>\n",
       "      <td>3692.34</td>\n",
       "      <td>3697.31</td>\n",
       "      <td>43.105333</td>\n",
       "      <td>2019-01-01 00:10:00</td>\n",
       "      <td>131.27</td>\n",
       "      <td>131.36</td>\n",
       "      <td>131.19</td>\n",
       "      <td>131.31</td>\n",
       "      <td>560.54337</td>\n",
       "    </tr>\n",
       "    <tr>\n",
       "      <th>3</th>\n",
       "      <td>3697.91</td>\n",
       "      <td>3698.75</td>\n",
       "      <td>3693.00</td>\n",
       "      <td>3693.00</td>\n",
       "      <td>48.551084</td>\n",
       "      <td>2019-01-01 00:15:00</td>\n",
       "      <td>131.30</td>\n",
       "      <td>131.36</td>\n",
       "      <td>131.25</td>\n",
       "      <td>131.30</td>\n",
       "      <td>651.89505</td>\n",
       "    </tr>\n",
       "    <tr>\n",
       "      <th>4</th>\n",
       "      <td>3693.44</td>\n",
       "      <td>3695.98</td>\n",
       "      <td>3690.92</td>\n",
       "      <td>3692.18</td>\n",
       "      <td>47.706443</td>\n",
       "      <td>2019-01-01 00:20:00</td>\n",
       "      <td>131.26</td>\n",
       "      <td>131.44</td>\n",
       "      <td>131.25</td>\n",
       "      <td>131.28</td>\n",
       "      <td>500.58218</td>\n",
       "    </tr>\n",
       "  </tbody>\n",
       "</table>\n",
       "</div>"
      ],
      "text/plain": [
       "   BTC Open  BTC High  BTC Low  BTC Close  BTC Volume             datetime  \\\n",
       "0   3701.23   3703.72  3695.00    3696.32   85.572181  2019-01-01 00:00:00   \n",
       "1   3696.30   3697.24  3689.88    3692.34   62.296581  2019-01-01 00:05:00   \n",
       "2   3692.34   3698.93  3692.34    3697.31   43.105333  2019-01-01 00:10:00   \n",
       "3   3697.91   3698.75  3693.00    3693.00   48.551084  2019-01-01 00:15:00   \n",
       "4   3693.44   3695.98  3690.92    3692.18   47.706443  2019-01-01 00:20:00   \n",
       "\n",
       "   ETH Open  ETH High  ETH Low  ETH Close  ETH Volume  \n",
       "0    131.45    131.54   131.01     131.27  1269.12705  \n",
       "1    131.26    131.35   131.12     131.29  1601.91843  \n",
       "2    131.27    131.36   131.19     131.31   560.54337  \n",
       "3    131.30    131.36   131.25     131.30   651.89505  \n",
       "4    131.26    131.44   131.25     131.28   500.58218  "
      ]
     },
     "execution_count": 9,
     "metadata": {},
     "output_type": "execute_result"
    }
   ],
   "source": [
    "full_df = full_df.dropna() \n",
    "full_df.head()"
   ]
  },
  {
   "cell_type": "code",
   "execution_count": 10,
   "metadata": {},
   "outputs": [
    {
     "name": "stderr",
     "output_type": "stream",
     "text": [
      "100%|██████████| 319572/319572 [02:41<00:00, 1976.22it/s]\n"
     ]
    }
   ],
   "source": [
    "minutes = [] \n",
    "hours = []\n",
    "days = [] \n",
    "months = [] \n",
    "for dt in tqdm(full_df['datetime']):\n",
    "    minute = pd.to_datetime(dt).minute\n",
    "    hour = pd.to_datetime(dt).hour \n",
    "    day = pd.to_datetime(dt).day \n",
    "    month = pd.to_datetime(dt).month \n",
    "    minutes.append(minute)\n",
    "    hours.append(hour) \n",
    "    days.append(day) \n",
    "    months.append(month)\n",
    "    \n",
    "full_df['Minutes'] = minutes\n",
    "full_df['Hours'] = hours\n",
    "full_df['Days'] = days \n",
    "full_df['Months'] = months "
   ]
  },
  {
   "cell_type": "code",
   "execution_count": 11,
   "metadata": {},
   "outputs": [
    {
     "data": {
      "text/html": [
       "<div>\n",
       "<style scoped>\n",
       "    .dataframe tbody tr th:only-of-type {\n",
       "        vertical-align: middle;\n",
       "    }\n",
       "\n",
       "    .dataframe tbody tr th {\n",
       "        vertical-align: top;\n",
       "    }\n",
       "\n",
       "    .dataframe thead th {\n",
       "        text-align: right;\n",
       "    }\n",
       "</style>\n",
       "<table border=\"1\" class=\"dataframe\">\n",
       "  <thead>\n",
       "    <tr style=\"text-align: right;\">\n",
       "      <th></th>\n",
       "      <th>BTC Open</th>\n",
       "      <th>BTC High</th>\n",
       "      <th>BTC Low</th>\n",
       "      <th>BTC Close</th>\n",
       "      <th>BTC Volume</th>\n",
       "      <th>ETH Open</th>\n",
       "      <th>ETH High</th>\n",
       "      <th>ETH Low</th>\n",
       "      <th>ETH Close</th>\n",
       "      <th>ETH Volume</th>\n",
       "      <th>Minutes</th>\n",
       "      <th>Hours</th>\n",
       "      <th>Days</th>\n",
       "      <th>Months</th>\n",
       "    </tr>\n",
       "  </thead>\n",
       "  <tbody>\n",
       "    <tr>\n",
       "      <th>0</th>\n",
       "      <td>3701.23</td>\n",
       "      <td>3703.72</td>\n",
       "      <td>3695.00</td>\n",
       "      <td>3696.32</td>\n",
       "      <td>85.572181</td>\n",
       "      <td>131.45</td>\n",
       "      <td>131.54</td>\n",
       "      <td>131.01</td>\n",
       "      <td>131.27</td>\n",
       "      <td>1269.12705</td>\n",
       "      <td>0</td>\n",
       "      <td>0</td>\n",
       "      <td>1</td>\n",
       "      <td>1</td>\n",
       "    </tr>\n",
       "    <tr>\n",
       "      <th>1</th>\n",
       "      <td>3696.30</td>\n",
       "      <td>3697.24</td>\n",
       "      <td>3689.88</td>\n",
       "      <td>3692.34</td>\n",
       "      <td>62.296581</td>\n",
       "      <td>131.26</td>\n",
       "      <td>131.35</td>\n",
       "      <td>131.12</td>\n",
       "      <td>131.29</td>\n",
       "      <td>1601.91843</td>\n",
       "      <td>5</td>\n",
       "      <td>0</td>\n",
       "      <td>1</td>\n",
       "      <td>1</td>\n",
       "    </tr>\n",
       "    <tr>\n",
       "      <th>2</th>\n",
       "      <td>3692.34</td>\n",
       "      <td>3698.93</td>\n",
       "      <td>3692.34</td>\n",
       "      <td>3697.31</td>\n",
       "      <td>43.105333</td>\n",
       "      <td>131.27</td>\n",
       "      <td>131.36</td>\n",
       "      <td>131.19</td>\n",
       "      <td>131.31</td>\n",
       "      <td>560.54337</td>\n",
       "      <td>10</td>\n",
       "      <td>0</td>\n",
       "      <td>1</td>\n",
       "      <td>1</td>\n",
       "    </tr>\n",
       "    <tr>\n",
       "      <th>3</th>\n",
       "      <td>3697.91</td>\n",
       "      <td>3698.75</td>\n",
       "      <td>3693.00</td>\n",
       "      <td>3693.00</td>\n",
       "      <td>48.551084</td>\n",
       "      <td>131.30</td>\n",
       "      <td>131.36</td>\n",
       "      <td>131.25</td>\n",
       "      <td>131.30</td>\n",
       "      <td>651.89505</td>\n",
       "      <td>15</td>\n",
       "      <td>0</td>\n",
       "      <td>1</td>\n",
       "      <td>1</td>\n",
       "    </tr>\n",
       "    <tr>\n",
       "      <th>4</th>\n",
       "      <td>3693.44</td>\n",
       "      <td>3695.98</td>\n",
       "      <td>3690.92</td>\n",
       "      <td>3692.18</td>\n",
       "      <td>47.706443</td>\n",
       "      <td>131.26</td>\n",
       "      <td>131.44</td>\n",
       "      <td>131.25</td>\n",
       "      <td>131.28</td>\n",
       "      <td>500.58218</td>\n",
       "      <td>20</td>\n",
       "      <td>0</td>\n",
       "      <td>1</td>\n",
       "      <td>1</td>\n",
       "    </tr>\n",
       "  </tbody>\n",
       "</table>\n",
       "</div>"
      ],
      "text/plain": [
       "   BTC Open  BTC High  BTC Low  BTC Close  BTC Volume  ETH Open  ETH High  \\\n",
       "0   3701.23   3703.72  3695.00    3696.32   85.572181    131.45    131.54   \n",
       "1   3696.30   3697.24  3689.88    3692.34   62.296581    131.26    131.35   \n",
       "2   3692.34   3698.93  3692.34    3697.31   43.105333    131.27    131.36   \n",
       "3   3697.91   3698.75  3693.00    3693.00   48.551084    131.30    131.36   \n",
       "4   3693.44   3695.98  3690.92    3692.18   47.706443    131.26    131.44   \n",
       "\n",
       "   ETH Low  ETH Close  ETH Volume  Minutes  Hours  Days  Months  \n",
       "0   131.01     131.27  1269.12705        0      0     1       1  \n",
       "1   131.12     131.29  1601.91843        5      0     1       1  \n",
       "2   131.19     131.31   560.54337       10      0     1       1  \n",
       "3   131.25     131.30   651.89505       15      0     1       1  \n",
       "4   131.25     131.28   500.58218       20      0     1       1  "
      ]
     },
     "execution_count": 11,
     "metadata": {},
     "output_type": "execute_result"
    }
   ],
   "source": [
    "full_df = full_df.drop(columns={'datetime'}) \n",
    "full_df.head()"
   ]
  },
  {
   "cell_type": "code",
   "execution_count": 12,
   "metadata": {},
   "outputs": [],
   "source": [
    "N = 30 # lookback window \n",
    "K = 6 # future timestamp "
   ]
  },
  {
   "cell_type": "code",
   "execution_count": 13,
   "metadata": {},
   "outputs": [],
   "source": [
    "btc_val = btc_val.drop(columns={'Open Time'}) \n",
    "eth_val = eth_val.drop(columns={'Open Time'})"
   ]
  },
  {
   "cell_type": "code",
   "execution_count": 14,
   "metadata": {},
   "outputs": [],
   "source": [
    "btc_val = btc_val.rename(columns={'Open':\"BTC Open\",\n",
    "                                      'High':\"BTC High\", \n",
    "                                      'Low':\"BTC Low\",\n",
    "                                      'Close':\"BTC Close\",\n",
    "                                      'Volume':\"BTC Volume\"})\n",
    "\n",
    "eth_val = eth_val.rename(columns={'Open':\"ETH Open\",\n",
    "                                      'High':\"ETH High\", \n",
    "                                      'Low':\"ETH Low\",\n",
    "                                      'Close':\"ETH Close\",\n",
    "                                      'Volume':\"ETH Volume\"})\n",
    "\n",
    "full_val = btc_val.join(eth_val.set_index('datetime'), on='datetime')  \n"
   ]
  },
  {
   "cell_type": "code",
   "execution_count": 15,
   "metadata": {},
   "outputs": [
    {
     "name": "stderr",
     "output_type": "stream",
     "text": [
      "100%|██████████| 11473/11473 [00:05<00:00, 1981.01it/s]\n"
     ]
    }
   ],
   "source": [
    "minutes = [] \n",
    "hours = []\n",
    "days = [] \n",
    "months = [] \n",
    "for dt in tqdm(full_val['datetime']):\n",
    "    minute = pd.to_datetime(dt).minute\n",
    "    hour = pd.to_datetime(dt).hour \n",
    "    day = pd.to_datetime(dt).day \n",
    "    month = pd.to_datetime(dt).month \n",
    "    minutes.append(minute)\n",
    "    hours.append(hour) \n",
    "    days.append(day) \n",
    "    months.append(month)\n",
    "    \n",
    "full_val['Minutes'] = minutes\n",
    "full_val['Hours'] = hours\n",
    "full_val['Days'] = days \n",
    "full_val['Months'] = months "
   ]
  },
  {
   "cell_type": "code",
   "execution_count": 16,
   "metadata": {},
   "outputs": [
    {
     "data": {
      "text/html": [
       "<div>\n",
       "<style scoped>\n",
       "    .dataframe tbody tr th:only-of-type {\n",
       "        vertical-align: middle;\n",
       "    }\n",
       "\n",
       "    .dataframe tbody tr th {\n",
       "        vertical-align: top;\n",
       "    }\n",
       "\n",
       "    .dataframe thead th {\n",
       "        text-align: right;\n",
       "    }\n",
       "</style>\n",
       "<table border=\"1\" class=\"dataframe\">\n",
       "  <thead>\n",
       "    <tr style=\"text-align: right;\">\n",
       "      <th></th>\n",
       "      <th>BTC Open</th>\n",
       "      <th>BTC High</th>\n",
       "      <th>BTC Low</th>\n",
       "      <th>BTC Close</th>\n",
       "      <th>BTC Volume</th>\n",
       "      <th>ETH Open</th>\n",
       "      <th>ETH High</th>\n",
       "      <th>ETH Low</th>\n",
       "      <th>ETH Close</th>\n",
       "      <th>ETH Volume</th>\n",
       "      <th>Minutes</th>\n",
       "      <th>Hours</th>\n",
       "      <th>Days</th>\n",
       "      <th>Months</th>\n",
       "    </tr>\n",
       "  </thead>\n",
       "  <tbody>\n",
       "    <tr>\n",
       "      <th>0</th>\n",
       "      <td>46216.93</td>\n",
       "      <td>46391.49</td>\n",
       "      <td>46208.37</td>\n",
       "      <td>46321.34</td>\n",
       "      <td>185.67558</td>\n",
       "      <td>3676.22</td>\n",
       "      <td>3695.41</td>\n",
       "      <td>3676.22</td>\n",
       "      <td>3690.09</td>\n",
       "      <td>1363.4570</td>\n",
       "      <td>0</td>\n",
       "      <td>0</td>\n",
       "      <td>1</td>\n",
       "      <td>1</td>\n",
       "    </tr>\n",
       "    <tr>\n",
       "      <th>1</th>\n",
       "      <td>46321.34</td>\n",
       "      <td>46527.26</td>\n",
       "      <td>46280.00</td>\n",
       "      <td>46371.11</td>\n",
       "      <td>123.43577</td>\n",
       "      <td>3690.12</td>\n",
       "      <td>3705.90</td>\n",
       "      <td>3686.70</td>\n",
       "      <td>3696.55</td>\n",
       "      <td>862.5494</td>\n",
       "      <td>5</td>\n",
       "      <td>0</td>\n",
       "      <td>1</td>\n",
       "      <td>1</td>\n",
       "    </tr>\n",
       "    <tr>\n",
       "      <th>2</th>\n",
       "      <td>46369.79</td>\n",
       "      <td>46394.00</td>\n",
       "      <td>46276.22</td>\n",
       "      <td>46332.51</td>\n",
       "      <td>77.54574</td>\n",
       "      <td>3696.55</td>\n",
       "      <td>3699.81</td>\n",
       "      <td>3686.70</td>\n",
       "      <td>3691.90</td>\n",
       "      <td>753.5524</td>\n",
       "      <td>10</td>\n",
       "      <td>0</td>\n",
       "      <td>1</td>\n",
       "      <td>1</td>\n",
       "    </tr>\n",
       "    <tr>\n",
       "      <th>3</th>\n",
       "      <td>46332.52</td>\n",
       "      <td>46332.52</td>\n",
       "      <td>46236.27</td>\n",
       "      <td>46293.90</td>\n",
       "      <td>101.14315</td>\n",
       "      <td>3691.90</td>\n",
       "      <td>3693.35</td>\n",
       "      <td>3685.83</td>\n",
       "      <td>3689.51</td>\n",
       "      <td>438.4134</td>\n",
       "      <td>15</td>\n",
       "      <td>0</td>\n",
       "      <td>1</td>\n",
       "      <td>1</td>\n",
       "    </tr>\n",
       "    <tr>\n",
       "      <th>4</th>\n",
       "      <td>46295.42</td>\n",
       "      <td>46421.27</td>\n",
       "      <td>46286.25</td>\n",
       "      <td>46395.53</td>\n",
       "      <td>135.32479</td>\n",
       "      <td>3689.51</td>\n",
       "      <td>3699.58</td>\n",
       "      <td>3688.60</td>\n",
       "      <td>3699.45</td>\n",
       "      <td>372.5966</td>\n",
       "      <td>20</td>\n",
       "      <td>0</td>\n",
       "      <td>1</td>\n",
       "      <td>1</td>\n",
       "    </tr>\n",
       "  </tbody>\n",
       "</table>\n",
       "</div>"
      ],
      "text/plain": [
       "   BTC Open  BTC High   BTC Low  BTC Close  BTC Volume  ETH Open  ETH High  \\\n",
       "0  46216.93  46391.49  46208.37   46321.34   185.67558   3676.22   3695.41   \n",
       "1  46321.34  46527.26  46280.00   46371.11   123.43577   3690.12   3705.90   \n",
       "2  46369.79  46394.00  46276.22   46332.51    77.54574   3696.55   3699.81   \n",
       "3  46332.52  46332.52  46236.27   46293.90   101.14315   3691.90   3693.35   \n",
       "4  46295.42  46421.27  46286.25   46395.53   135.32479   3689.51   3699.58   \n",
       "\n",
       "   ETH Low  ETH Close  ETH Volume  Minutes  Hours  Days  Months  \n",
       "0  3676.22    3690.09   1363.4570        0      0     1       1  \n",
       "1  3686.70    3696.55    862.5494        5      0     1       1  \n",
       "2  3686.70    3691.90    753.5524       10      0     1       1  \n",
       "3  3685.83    3689.51    438.4134       15      0     1       1  \n",
       "4  3688.60    3699.45    372.5966       20      0     1       1  "
      ]
     },
     "execution_count": 16,
     "metadata": {},
     "output_type": "execute_result"
    }
   ],
   "source": [
    "full_val = full_val.drop(columns={'datetime'}) \n",
    "full_val.head()"
   ]
  },
  {
   "cell_type": "markdown",
   "metadata": {},
   "source": [
    "# Data Normalization"
   ]
  },
  {
   "cell_type": "code",
   "execution_count": 17,
   "metadata": {},
   "outputs": [
    {
     "data": {
      "text/html": [
       "<div>\n",
       "<style scoped>\n",
       "    .dataframe tbody tr th:only-of-type {\n",
       "        vertical-align: middle;\n",
       "    }\n",
       "\n",
       "    .dataframe tbody tr th {\n",
       "        vertical-align: top;\n",
       "    }\n",
       "\n",
       "    .dataframe thead th {\n",
       "        text-align: right;\n",
       "    }\n",
       "</style>\n",
       "<table border=\"1\" class=\"dataframe\">\n",
       "  <thead>\n",
       "    <tr style=\"text-align: right;\">\n",
       "      <th></th>\n",
       "      <th>BTC Open</th>\n",
       "      <th>BTC High</th>\n",
       "      <th>BTC Low</th>\n",
       "      <th>BTC Close</th>\n",
       "      <th>BTC Volume</th>\n",
       "      <th>ETH Open</th>\n",
       "      <th>ETH High</th>\n",
       "      <th>ETH Low</th>\n",
       "      <th>ETH Close</th>\n",
       "      <th>ETH Volume</th>\n",
       "      <th>Minutes</th>\n",
       "      <th>Hours</th>\n",
       "      <th>Days</th>\n",
       "      <th>Months</th>\n",
       "    </tr>\n",
       "  </thead>\n",
       "  <tbody>\n",
       "    <tr>\n",
       "      <th>0</th>\n",
       "      <td>-0.952481</td>\n",
       "      <td>-0.952351</td>\n",
       "      <td>-0.952807</td>\n",
       "      <td>-0.952738</td>\n",
       "      <td>-0.475917</td>\n",
       "      <td>-0.715044</td>\n",
       "      <td>-0.714977</td>\n",
       "      <td>-0.715374</td>\n",
       "      <td>-0.715179</td>\n",
       "      <td>-0.364247</td>\n",
       "      <td>0</td>\n",
       "      <td>0</td>\n",
       "      <td>1</td>\n",
       "      <td>1</td>\n",
       "    </tr>\n",
       "    <tr>\n",
       "      <th>1</th>\n",
       "      <td>-0.952739</td>\n",
       "      <td>-0.952690</td>\n",
       "      <td>-0.953075</td>\n",
       "      <td>-0.952946</td>\n",
       "      <td>-0.563707</td>\n",
       "      <td>-0.715187</td>\n",
       "      <td>-0.715119</td>\n",
       "      <td>-0.715292</td>\n",
       "      <td>-0.715164</td>\n",
       "      <td>-0.264504</td>\n",
       "      <td>5</td>\n",
       "      <td>0</td>\n",
       "      <td>1</td>\n",
       "      <td>1</td>\n",
       "    </tr>\n",
       "    <tr>\n",
       "      <th>2</th>\n",
       "      <td>-0.952946</td>\n",
       "      <td>-0.952602</td>\n",
       "      <td>-0.952946</td>\n",
       "      <td>-0.952686</td>\n",
       "      <td>-0.636092</td>\n",
       "      <td>-0.715179</td>\n",
       "      <td>-0.715112</td>\n",
       "      <td>-0.715239</td>\n",
       "      <td>-0.715149</td>\n",
       "      <td>-0.576623</td>\n",
       "      <td>10</td>\n",
       "      <td>0</td>\n",
       "      <td>1</td>\n",
       "      <td>1</td>\n",
       "    </tr>\n",
       "    <tr>\n",
       "      <th>3</th>\n",
       "      <td>-0.952655</td>\n",
       "      <td>-0.952611</td>\n",
       "      <td>-0.952912</td>\n",
       "      <td>-0.952912</td>\n",
       "      <td>-0.615552</td>\n",
       "      <td>-0.715157</td>\n",
       "      <td>-0.715112</td>\n",
       "      <td>-0.715194</td>\n",
       "      <td>-0.715157</td>\n",
       "      <td>-0.549243</td>\n",
       "      <td>15</td>\n",
       "      <td>0</td>\n",
       "      <td>1</td>\n",
       "      <td>1</td>\n",
       "    </tr>\n",
       "    <tr>\n",
       "      <th>4</th>\n",
       "      <td>-0.952889</td>\n",
       "      <td>-0.952756</td>\n",
       "      <td>-0.953020</td>\n",
       "      <td>-0.952954</td>\n",
       "      <td>-0.618737</td>\n",
       "      <td>-0.715187</td>\n",
       "      <td>-0.715052</td>\n",
       "      <td>-0.715194</td>\n",
       "      <td>-0.715172</td>\n",
       "      <td>-0.594594</td>\n",
       "      <td>20</td>\n",
       "      <td>0</td>\n",
       "      <td>1</td>\n",
       "      <td>1</td>\n",
       "    </tr>\n",
       "  </tbody>\n",
       "</table>\n",
       "</div>"
      ],
      "text/plain": [
       "   BTC Open  BTC High   BTC Low  BTC Close  BTC Volume  ETH Open  ETH High  \\\n",
       "0 -0.952481 -0.952351 -0.952807  -0.952738   -0.475917 -0.715044 -0.714977   \n",
       "1 -0.952739 -0.952690 -0.953075  -0.952946   -0.563707 -0.715187 -0.715119   \n",
       "2 -0.952946 -0.952602 -0.952946  -0.952686   -0.636092 -0.715179 -0.715112   \n",
       "3 -0.952655 -0.952611 -0.952912  -0.952912   -0.615552 -0.715157 -0.715112   \n",
       "4 -0.952889 -0.952756 -0.953020  -0.952954   -0.618737 -0.715187 -0.715052   \n",
       "\n",
       "    ETH Low  ETH Close  ETH Volume  Minutes  Hours  Days  Months  \n",
       "0 -0.715374  -0.715179   -0.364247        0      0     1       1  \n",
       "1 -0.715292  -0.715164   -0.264504        5      0     1       1  \n",
       "2 -0.715239  -0.715149   -0.576623       10      0     1       1  \n",
       "3 -0.715194  -0.715157   -0.549243       15      0     1       1  \n",
       "4 -0.715194  -0.715172   -0.594594       20      0     1       1  "
      ]
     },
     "execution_count": 17,
     "metadata": {},
     "output_type": "execute_result"
    }
   ],
   "source": [
    "BTC_OHLC_COLS = [\"BTC Open\", \"BTC High\", \"BTC Low\", \"BTC Close\"] \n",
    "BTC_VOL = [\"BTC Volume\"] \n",
    "\n",
    "ETH_OHLC_COLS = [\"ETH Open\", \"ETH High\", \"ETH Low\", \"ETH Close\"] \n",
    "ETH_VOL = [\"ETH Volume\"] \n",
    "\n",
    "BTC_OHLC_NORM = full_df[BTC_OHLC_COLS].copy() \n",
    "BTC_VOL_NORM = full_df[BTC_VOL].copy() \n",
    "\n",
    "ETH_OHLC_NORM = full_df[ETH_OHLC_COLS].copy() \n",
    "ETH_VOL_NORM = full_df[ETH_VOL].copy() \n",
    "\n",
    "full_df[BTC_OHLC_COLS] = (full_df[BTC_OHLC_COLS]-BTC_OHLC_NORM.stack().mean()) / BTC_OHLC_NORM.stack().std() \n",
    "full_df[BTC_VOL] = (full_df[BTC_VOL]-BTC_VOL_NORM.stack().mean()) / BTC_VOL_NORM.stack().std() \n",
    "\n",
    "full_df[ETH_OHLC_COLS] = (full_df[ETH_OHLC_COLS]-ETH_OHLC_NORM.stack().mean()) / ETH_OHLC_NORM.stack().std() \n",
    "full_df[ETH_VOL] = (full_df[ETH_VOL]-ETH_VOL_NORM.stack().mean()) / ETH_VOL_NORM.stack().std() \n",
    "\n",
    "\n",
    "full_df.head()"
   ]
  },
  {
   "cell_type": "code",
   "execution_count": 18,
   "metadata": {},
   "outputs": [
    {
     "data": {
      "text/html": [
       "<div>\n",
       "<style scoped>\n",
       "    .dataframe tbody tr th:only-of-type {\n",
       "        vertical-align: middle;\n",
       "    }\n",
       "\n",
       "    .dataframe tbody tr th {\n",
       "        vertical-align: top;\n",
       "    }\n",
       "\n",
       "    .dataframe thead th {\n",
       "        text-align: right;\n",
       "    }\n",
       "</style>\n",
       "<table border=\"1\" class=\"dataframe\">\n",
       "  <thead>\n",
       "    <tr style=\"text-align: right;\">\n",
       "      <th></th>\n",
       "      <th>BTC Open</th>\n",
       "      <th>BTC High</th>\n",
       "      <th>BTC Low</th>\n",
       "      <th>BTC Close</th>\n",
       "      <th>BTC Volume</th>\n",
       "      <th>ETH Open</th>\n",
       "      <th>ETH High</th>\n",
       "      <th>ETH Low</th>\n",
       "      <th>ETH Close</th>\n",
       "      <th>ETH Volume</th>\n",
       "      <th>Minutes</th>\n",
       "      <th>Hours</th>\n",
       "      <th>Days</th>\n",
       "      <th>Months</th>\n",
       "    </tr>\n",
       "  </thead>\n",
       "  <tbody>\n",
       "    <tr>\n",
       "      <th>0</th>\n",
       "      <td>1.269664</td>\n",
       "      <td>1.278787</td>\n",
       "      <td>1.269216</td>\n",
       "      <td>1.275121</td>\n",
       "      <td>-0.098350</td>\n",
       "      <td>1.941060</td>\n",
       "      <td>1.955439</td>\n",
       "      <td>1.941060</td>\n",
       "      <td>1.951453</td>\n",
       "      <td>-0.335975</td>\n",
       "      <td>0</td>\n",
       "      <td>0</td>\n",
       "      <td>1</td>\n",
       "      <td>1</td>\n",
       "    </tr>\n",
       "    <tr>\n",
       "      <th>1</th>\n",
       "      <td>1.275121</td>\n",
       "      <td>1.285883</td>\n",
       "      <td>1.272960</td>\n",
       "      <td>1.277722</td>\n",
       "      <td>-0.333104</td>\n",
       "      <td>1.951475</td>\n",
       "      <td>1.963299</td>\n",
       "      <td>1.948913</td>\n",
       "      <td>1.956293</td>\n",
       "      <td>-0.486106</td>\n",
       "      <td>5</td>\n",
       "      <td>0</td>\n",
       "      <td>1</td>\n",
       "      <td>1</td>\n",
       "    </tr>\n",
       "    <tr>\n",
       "      <th>2</th>\n",
       "      <td>1.277653</td>\n",
       "      <td>1.278918</td>\n",
       "      <td>1.272762</td>\n",
       "      <td>1.275705</td>\n",
       "      <td>-0.506191</td>\n",
       "      <td>1.956293</td>\n",
       "      <td>1.958736</td>\n",
       "      <td>1.948913</td>\n",
       "      <td>1.952809</td>\n",
       "      <td>-0.518775</td>\n",
       "      <td>10</td>\n",
       "      <td>0</td>\n",
       "      <td>1</td>\n",
       "      <td>1</td>\n",
       "    </tr>\n",
       "    <tr>\n",
       "      <th>3</th>\n",
       "      <td>1.275705</td>\n",
       "      <td>1.275705</td>\n",
       "      <td>1.270674</td>\n",
       "      <td>1.273686</td>\n",
       "      <td>-0.417187</td>\n",
       "      <td>1.952809</td>\n",
       "      <td>1.953895</td>\n",
       "      <td>1.948261</td>\n",
       "      <td>1.951018</td>\n",
       "      <td>-0.613227</td>\n",
       "      <td>15</td>\n",
       "      <td>0</td>\n",
       "      <td>1</td>\n",
       "      <td>1</td>\n",
       "    </tr>\n",
       "    <tr>\n",
       "      <th>4</th>\n",
       "      <td>1.273766</td>\n",
       "      <td>1.280344</td>\n",
       "      <td>1.273287</td>\n",
       "      <td>1.278998</td>\n",
       "      <td>-0.288262</td>\n",
       "      <td>1.951018</td>\n",
       "      <td>1.958564</td>\n",
       "      <td>1.950336</td>\n",
       "      <td>1.958466</td>\n",
       "      <td>-0.632954</td>\n",
       "      <td>20</td>\n",
       "      <td>0</td>\n",
       "      <td>1</td>\n",
       "      <td>1</td>\n",
       "    </tr>\n",
       "  </tbody>\n",
       "</table>\n",
       "</div>"
      ],
      "text/plain": [
       "   BTC Open  BTC High   BTC Low  BTC Close  BTC Volume  ETH Open  ETH High  \\\n",
       "0  1.269664  1.278787  1.269216   1.275121   -0.098350  1.941060  1.955439   \n",
       "1  1.275121  1.285883  1.272960   1.277722   -0.333104  1.951475  1.963299   \n",
       "2  1.277653  1.278918  1.272762   1.275705   -0.506191  1.956293  1.958736   \n",
       "3  1.275705  1.275705  1.270674   1.273686   -0.417187  1.952809  1.953895   \n",
       "4  1.273766  1.280344  1.273287   1.278998   -0.288262  1.951018  1.958564   \n",
       "\n",
       "    ETH Low  ETH Close  ETH Volume  Minutes  Hours  Days  Months  \n",
       "0  1.941060   1.951453   -0.335975        0      0     1       1  \n",
       "1  1.948913   1.956293   -0.486106        5      0     1       1  \n",
       "2  1.948913   1.952809   -0.518775       10      0     1       1  \n",
       "3  1.948261   1.951018   -0.613227       15      0     1       1  \n",
       "4  1.950336   1.958466   -0.632954       20      0     1       1  "
      ]
     },
     "execution_count": 18,
     "metadata": {},
     "output_type": "execute_result"
    }
   ],
   "source": [
    "full_val[BTC_OHLC_COLS] = (full_val[BTC_OHLC_COLS]-BTC_OHLC_NORM.stack().mean()) / BTC_OHLC_NORM.stack().std() \n",
    "full_val[BTC_VOL] = (full_val[BTC_VOL]-BTC_VOL_NORM.stack().mean()) / BTC_VOL_NORM.stack().std() \n",
    "\n",
    "full_val[ETH_OHLC_COLS] = (full_val[ETH_OHLC_COLS]-ETH_OHLC_NORM.stack().mean()) / ETH_OHLC_NORM.stack().std() \n",
    "full_val[ETH_VOL] = (full_val[ETH_VOL]-ETH_VOL_NORM.stack().mean()) / ETH_VOL_NORM.stack().std() \n",
    "\n",
    "full_val.head()"
   ]
  },
  {
   "cell_type": "code",
   "execution_count": 28,
   "metadata": {},
   "outputs": [
    {
     "name": "stderr",
     "output_type": "stream",
     "text": [
      "100%|██████████| 319536/319536 [00:00<00:00, 340514.96it/s]\n",
      "100%|██████████| 11437/11437 [00:00<00:00, 318417.64it/s]\n"
     ]
    },
    {
     "data": {
      "text/plain": [
       "(torch.Size([319536, 30, 10, 1]),\n",
       " torch.Size([319536, 1]),\n",
       " torch.Size([11437, 30, 10, 1]),\n",
       " torch.Size([11437, 1]))"
      ]
     },
     "execution_count": 28,
     "metadata": {},
     "output_type": "execute_result"
    }
   ],
   "source": [
    "con_cols = [\"BTC Open\", \"BTC High\", \"BTC Low\", \"BTC Close\", \"BTC Volume\",\n",
    "            \"ETH Open\", \"ETH High\", \"ETH Low\", \"ETH Close\", \"ETH Volume\"] \n",
    "disc_cols = [\"Hours\"]\n",
    "\n",
    "features = 10 \n",
    "\n",
    "train_cont = full_df[con_cols].values \n",
    "train_disc = full_df[disc_cols].values\n",
    "\n",
    "val_cont = full_val[con_cols].values \n",
    "val_disc = full_val[disc_cols].values \n",
    "\n",
    "train_in_cont, train_target_seq = [], []  \n",
    "train_in_disc, train_future_disc = [], []  \n",
    "\n",
    "for i in tqdm(range(train_cont.shape[0]-N-K), position=0, leave=True): \n",
    "    in_cont = train_cont[i:i+N,:] \n",
    "    in_disc = train_disc[i:i+N,:] \n",
    "    target = train_cont[i+N+K,3] # predict close \n",
    "    future_disc = train_disc[i+N+K,:]  \n",
    "    \n",
    "    train_in_cont.append(in_cont) \n",
    "    train_target_seq.append(target)\n",
    "    train_in_disc.append(in_disc) \n",
    "    train_future_disc.append(future_disc) \n",
    "\n",
    "\n",
    "    \n",
    "val_in_cont, val_target_seq = [], []  \n",
    "val_in_disc, val_future_disc = [], []  \n",
    "\n",
    "for i in tqdm(range(val_cont.shape[0]-N-K), position=0, leave=True): \n",
    "    in_cont = val_cont[i:i+N,:] \n",
    "    in_disc = val_disc[i:i+N,:] \n",
    "    target = val_cont[i+N+K,3] \n",
    "    future_disc = val_disc[i+N+K,:]  \n",
    "    \n",
    "    val_in_cont.append(in_cont) \n",
    "    val_target_seq.append(target)\n",
    "    val_in_disc.append(in_disc) \n",
    "    val_future_disc.append(future_disc) \n",
    "\n",
    "train_in_cont = torch.tensor(train_in_cont, dtype=torch.float32) \n",
    "train_in_cont = torch.reshape(train_in_cont, (-1,N,features,1)) \n",
    "train_target_seq = torch.tensor(train_target_seq, dtype=torch.float32) \n",
    "train_target_seq = torch.reshape(train_target_seq, (-1,1))  \n",
    "\n",
    "\n",
    "val_in_cont = torch.tensor(val_in_cont, dtype=torch.float32) \n",
    "val_in_cont = torch.reshape(val_in_cont, (-1,N,features,1))\n",
    "val_target_seq = torch.tensor(val_target_seq, dtype=torch.float32) \n",
    "val_target_seq = torch.reshape(val_target_seq, (-1,1)) \n",
    "\n",
    "train_in_cont.shape, train_target_seq.shape, val_in_cont.shape, val_target_seq.shape"
   ]
  },
  {
   "cell_type": "code",
   "execution_count": 30,
   "metadata": {},
   "outputs": [],
   "source": [
    "def one_hot(x, dims, gpu = True):\n",
    "    out = []\n",
    "    batch_size = x.shape[0]\n",
    "    seq_len = x.shape[1]\n",
    "    \n",
    "    if(not gpu):\n",
    "        dtype = torch.FloatTensor\n",
    "    else:\n",
    "        dtype = torch.cuda.FloatTensor\n",
    "        \n",
    "    for i in tqdm(range(0, x.shape[-1])):\n",
    "        x_ = x[:,:,i].byte().cpu().long().unsqueeze(-1)\n",
    "        o = torch.zeros([batch_size, seq_len, dims[i]]).long()\n",
    "\n",
    "        o.scatter_(-1, x_,  1)\n",
    "        out.append(o.type(dtype))\n",
    "    return out"
   ]
  },
  {
   "cell_type": "code",
   "execution_count": 31,
   "metadata": {},
   "outputs": [
    {
     "name": "stderr",
     "output_type": "stream",
     "text": [
      "100%|██████████| 1/1 [00:00<00:00,  2.28it/s]\n"
     ]
    },
    {
     "data": {
      "text/plain": [
       "torch.Size([319536, 30, 24])"
      ]
     },
     "execution_count": 31,
     "metadata": {},
     "output_type": "execute_result"
    }
   ],
   "source": [
    "train_in_disc = torch.tensor(train_in_disc, dtype=torch.float32)\n",
    "train_in_disc = one_hot(train_in_disc, dims=[24]) \n",
    "train_in_disc = train_in_disc[0] \n",
    "\n",
    "train_in_disc.shape"
   ]
  },
  {
   "cell_type": "code",
   "execution_count": 32,
   "metadata": {},
   "outputs": [
    {
     "name": "stderr",
     "output_type": "stream",
     "text": [
      "100%|██████████| 1/1 [00:00<00:00, 52.74it/s]\n"
     ]
    },
    {
     "data": {
      "text/plain": [
       "torch.Size([319536, 1, 24])"
      ]
     },
     "execution_count": 32,
     "metadata": {},
     "output_type": "execute_result"
    }
   ],
   "source": [
    "train_future_disc = torch.tensor(train_future_disc, dtype=torch.float32) \n",
    "train_future_disc = torch.reshape(train_future_disc, (-1,1,1))\n",
    "train_future_disc = one_hot(train_future_disc, dims=[24]) \n",
    "train_future_disc = train_future_disc[0] \n",
    "\n",
    "train_future_disc.shape "
   ]
  },
  {
   "cell_type": "code",
   "execution_count": 33,
   "metadata": {},
   "outputs": [
    {
     "name": "stderr",
     "output_type": "stream",
     "text": [
      "100%|██████████| 1/1 [00:00<00:00, 26.76it/s]\n"
     ]
    },
    {
     "data": {
      "text/plain": [
       "torch.Size([11437, 30, 24])"
      ]
     },
     "execution_count": 33,
     "metadata": {},
     "output_type": "execute_result"
    }
   ],
   "source": [
    "val_in_disc = torch.tensor(val_in_disc, dtype=torch.float32)\n",
    "val_in_disc = one_hot(val_in_disc, dims=[24]) \n",
    "val_in_disc = val_in_disc[0] \n",
    "\n",
    "val_in_disc.shape"
   ]
  },
  {
   "cell_type": "code",
   "execution_count": 34,
   "metadata": {},
   "outputs": [
    {
     "name": "stderr",
     "output_type": "stream",
     "text": [
      "100%|██████████| 1/1 [00:00<00:00, 87.86it/s]\n"
     ]
    },
    {
     "data": {
      "text/plain": [
       "torch.Size([11437, 1, 24])"
      ]
     },
     "execution_count": 34,
     "metadata": {},
     "output_type": "execute_result"
    }
   ],
   "source": [
    "val_future_disc = torch.tensor(val_future_disc, dtype=torch.float32) \n",
    "val_future_disc = torch.reshape(val_future_disc, (-1,1,1))\n",
    "val_future_disc = one_hot(val_future_disc, dims=[24]) \n",
    "val_future_disc = val_future_disc[0] \n",
    "\n",
    "val_future_disc.shape "
   ]
  },
  {
   "cell_type": "code",
   "execution_count": 35,
   "metadata": {},
   "outputs": [],
   "source": [
    "train_in_disc = torch.reshape(train_in_disc, (-1, 30, 1, 24)) \n",
    "train_future_disc = torch.reshape(train_future_disc, (-1, 1, 1, 24)) \n",
    "\n",
    "val_in_disc = torch.reshape(val_in_disc, (-1,30,1,24)) \n",
    "val_future_disc = torch.reshape(val_future_disc, (-1, 1, 1, 24))"
   ]
  },
  {
   "cell_type": "code",
   "execution_count": 36,
   "metadata": {},
   "outputs": [
    {
     "data": {
      "text/plain": [
       "torch.Size([11437, 1, 1, 24])"
      ]
     },
     "execution_count": 36,
     "metadata": {},
     "output_type": "execute_result"
    }
   ],
   "source": [
    "val_future_disc.shape"
   ]
  },
  {
   "cell_type": "markdown",
   "metadata": {},
   "source": [
    "# Define Temporal Fusion Transformer"
   ]
  },
  {
   "cell_type": "code",
   "execution_count": 37,
   "metadata": {},
   "outputs": [],
   "source": [
    "def a_norm(Q, K): \n",
    "    m = torch.matmul(Q, K.transpose(2,1).float()) \n",
    "    m /= torch.sqrt(torch.tensor(Q.shape[-1]).float()) \n",
    "    return torch.softmax(m, -1) \n",
    "\n",
    "def attention(Q, K, V): \n",
    "    a = a_norm(Q, K) # (batch_size, dim_attn, seq_length) \n",
    "    return torch.matmul(a, V) # (batch_size, seq_length, seq_length) \n",
    "\n",
    "class AttentionBlock(torch.nn.Module): \n",
    "    def __init__(self, dim_val, dim_attn): \n",
    "        super(AttentionBlock, self).__init__()\n",
    "        self.value = Value(dim_val, dim_val) \n",
    "        self.key = Key(dim_val, dim_attn) \n",
    "        self.query = Query(dim_val, dim_attn) \n",
    "    \n",
    "    def forward(self, x, kv = None):\n",
    "        if kv is None:\n",
    "            # Attention with x connected to Q,K and V (For encoder)\n",
    "            return attention(self.query(x), self.key(x), self.value(x))\n",
    "        # Attention with x as Q, external vector kv as K and V (For decoder)\n",
    "        return attention(self.query(x), self.key(kv), self.value(kv))\n",
    "    \n",
    "class MultiHeadAttentionBlock(torch.nn.Module):\n",
    "    def __init__(self, dim_val, dim_attn, n_heads):\n",
    "        super(MultiHeadAttentionBlock, self).__init__()\n",
    "        self.heads = []\n",
    "        for i in range(n_heads):\n",
    "            self.heads.append(AttentionBlock(dim_val, dim_attn))\n",
    "        \n",
    "        self.fc = nn.Linear(n_heads * dim_val, dim_val, bias = False)\n",
    "                      \n",
    "    def forward(self, x, kv = None):\n",
    "        a = []\n",
    "        for h in self.heads:\n",
    "            a.append(h(x, kv = kv))\n",
    "            \n",
    "        a = torch.stack(a, dim = -1) #combine heads\n",
    "        a = a.flatten(start_dim = 2) #flatten all head outputs\n",
    "        \n",
    "        x = self.fc(a)\n",
    "        return x\n",
    "    \n",
    "class Value(torch.nn.Module):\n",
    "    def __init__(self, dim_input, dim_val):\n",
    "        super(Value, self).__init__()\n",
    "        self.fc1 = nn.Linear(dim_input, dim_val, bias = False).cuda()\n",
    "    \n",
    "    def forward(self, x):\n",
    "        return self.fc1(x)\n",
    "\n",
    "class Key(torch.nn.Module):\n",
    "    def __init__(self, dim_input, dim_attn):\n",
    "        super(Key, self).__init__()\n",
    "        self.fc1 = nn.Linear(dim_input, dim_attn, bias = False).cuda()\n",
    "    \n",
    "    def forward(self, x):\n",
    "        return self.fc1(x)\n",
    "\n",
    "class Query(torch.nn.Module):\n",
    "    def __init__(self, dim_input, dim_attn):\n",
    "        super(Query, self).__init__()\n",
    "        self.fc1 = nn.Linear(dim_input, dim_attn, bias = False).cuda()\n",
    "    \n",
    "    def forward(self, x):\n",
    "        return self.fc1(x)\n",
    "\n",
    "def QuantileLoss(net_out, Y, q):\n",
    "    return (q * F.relu(net_out - Y)) + ((1 - q) * F.relu(Y - net_out))\n"
   ]
  },
  {
   "cell_type": "code",
   "execution_count": 38,
   "metadata": {},
   "outputs": [],
   "source": [
    "class GLU(torch.nn.Module):\n",
    "    def __init__(self, dim_input):\n",
    "        super(GLU, self).__init__()\n",
    "        self.fc1 = nn.Linear(dim_input, dim_input)\n",
    "        self.fc2 = nn.Linear(dim_input, dim_input)\n",
    "    \n",
    "    def forward(self, x):\n",
    "        return torch.sigmoid(self.fc1(x)) * self.fc2(x) "
   ]
  },
  {
   "cell_type": "code",
   "execution_count": 39,
   "metadata": {},
   "outputs": [],
   "source": [
    "class GRN(torch.nn.Module): \n",
    "    def __init__(self, dim_input, dim_out=None, n_hidden=10, dropout_r=0.1):\n",
    "        super(GRN, self).__init__() \n",
    "        if dim_out != None: \n",
    "            self.skip = nn.Linear(dim_input, dim_out) \n",
    "        else:\n",
    "            self.skip = None\n",
    "            dim_out = dim_input \n",
    "        self.fc1 = nn.Linear(dim_input, n_hidden) \n",
    "        self.fc2 = nn.Linear(n_hidden, dim_out) \n",
    "        self.dropout = nn.Dropout(dropout_r) \n",
    "        self.gate = GLU(dim_out) \n",
    "        self.norm = nn.LayerNorm(dim_out) \n",
    "        \n",
    "    def forward(self, x):\n",
    "        a = F.elu(self.fc1(x))\n",
    "        a = self.dropout(self.fc2(a))\n",
    "        a = self.gate(a)\n",
    "        if self.skip != None:\n",
    "            return self.norm(self.skip(x) + a)\n",
    "        return self.norm(x + a)"
   ]
  },
  {
   "cell_type": "code",
   "execution_count": 40,
   "metadata": {},
   "outputs": [],
   "source": [
    "class VSN(torch.nn.Module): \n",
    "    def __init__(self, n_var_cont, n_var_disc, dim_model, dropout_r=0.1): \n",
    "        super(VSN, self).__init__()\n",
    "        n_var_total = n_var_cont + len(n_var_disc)\n",
    "        # linear transformation of inputs into dmodel vectors \n",
    "        self.linearise = []\n",
    "        for i in range(n_var_cont): \n",
    "            self.linearise.append(nn.Linear(1, dim_model, bias=False).cuda()) \n",
    "        \n",
    "        self.fc = nn.Linear(1, dim_model, bias=False).cuda()     \n",
    "        # entity embeddings for discrete inputs \n",
    "        self.entity_embed = [] \n",
    "        for i in n_var_disc: \n",
    "            self.entity_embed.append(nn.Linear(i, dim_model, bias=False).cuda())  \n",
    "        \n",
    "        self.input_grn = GRN(dim_model, dropout_r = dropout_r) \n",
    "        self.vs_grn = GRN(n_var_total * dim_model, dim_out=n_var_total, dropout_r = dropout_r)\n",
    "    \n",
    "    # input (batch_size, seq_len, n_variables, input_size)\n",
    "    def forward(self, x_cont, x_disc): \n",
    "        # linearise continuous inputs \n",
    "        linearised = [] \n",
    "        for idx, fc in enumerate(self.linearise): \n",
    "            linearised.append(fc(x_cont[:,:,idx])) \n",
    "        # entity embeddings for discrete inputs \n",
    "        embedded = []\n",
    "        for idx, fc in enumerate(self.entity_embed): \n",
    "            embedded.append(fc(x_disc[:,:,idx]))\n",
    "        '''\n",
    "        for x, fc in zip(x_disc, self.entity_embed): \n",
    "            embedded.append(fc(x)) \n",
    "        '''\n",
    "        if len(self.linearise) != 0 and len(self.entity_embed) != 0: \n",
    "            linearised = torch.stack(linearised, dim=-2) \n",
    "            embedded = torch.stack(embedded, dim=-2)    \n",
    "            vectorised_vars = torch.cat((linearised, embedded), dim=-2) # (batch_size, seq_len, dim_model, n_vars_total)\n",
    "        elif len(self.linearise) != 0 and len(self.entity_embed) == 0: \n",
    "            vectorised_vars = torch.stack(linearised, dim=-2) # (batch_size, seq_len, n_var_cont, dim_model)\n",
    "        elif len(self.entity_embed) != 0 and len(self.linearise) == 0: \n",
    "            vectorised_vars = torch.stack(embedded, dim=-2)\n",
    "        \n",
    "        # flatten everything except accross batch for variable selection weights \n",
    "        vs_weights = self.vs_grn(vectorised_vars.flatten(start_dim=2)) # (batch_size, seq_len, n_variables)\n",
    "        vs_weights = torch.softmax(vs_weights, dim=-1).unsqueeze(-1) # (batch_size, seq_len, n_variables, 1) \n",
    "        \n",
    "        # input_grn applied to every input separately \n",
    "        input_weights = self.input_grn(vectorised_vars) # (batch_size, seq_len, n_variables, dim_model)\n",
    "        \n",
    "        x = torch.sum((vs_weights * input_weights), dim = 2) \n",
    "        return x, vs_weights # returns (batch_size, seq_len, dim_model)\n",
    "        "
   ]
  },
  {
   "cell_type": "code",
   "execution_count": 41,
   "metadata": {},
   "outputs": [],
   "source": [
    "class LSTMLayer(torch.nn.Module): \n",
    "    def __init__(self, dim_model, n_layers = 1, dropout_r = 0.1):\n",
    "        super(LSTMLayer, self).__init__()\n",
    "        self.n_layers = n_layers \n",
    "        self.dim_model = dim_model \n",
    "        self.lstm = nn.LSTM(dim_model, dim_model, num_layers = n_layers, batch_first = True) \n",
    "        self.hidden = None\n",
    "        self.dropout = nn.Dropout(dropout_r) \n",
    "    \n",
    "    # takes input (batch_size, seq_len, dim_model)\n",
    "    def forward(self, x): \n",
    "        if self.hidden == None: \n",
    "            raise Exception(\"Call reset() to initialise LSTM Layer\") \n",
    "            \n",
    "        x, self.hidden = self.lstm(x, self.hidden) \n",
    "        x = self.dropout(x) \n",
    "        return x, self.hidden # returns (batch_size, seq_len, dim_model), hidden \n",
    "    \n",
    "    def reset(self, batch_size, gpu = True): \n",
    "        if not gpu: \n",
    "            dtype = torch.FloatTensor \n",
    "        else: \n",
    "            dtype = torch.cuda.FloatTensor\n",
    "        self.hidden = (torch.zeros([self.n_layers, batch_size, self.dim_model]).type(dtype),\n",
    "                       torch.zeros([self.n_layers, batch_size, self.dim_model]).type(dtype)) "
   ]
  },
  {
   "cell_type": "code",
   "execution_count": 47,
   "metadata": {},
   "outputs": [],
   "source": [
    "class TFN(torch.nn.Module): \n",
    "    def __init__(self, \n",
    "                 n_var_past_cont, \n",
    "                 n_var_future_cont,\n",
    "                 n_var_past_disc, \n",
    "                 n_var_future_disc,\n",
    "                 dim_model,\n",
    "                 n_quantiles = 1, \n",
    "                 dropout_r = 0.1,\n",
    "                 n_lstm_layers = 1,\n",
    "                 n_attention_layers = 1,\n",
    "                 n_heads = 4):\n",
    "        super(TFN, self).__init__()\n",
    "        self.vs_past = VSN(n_var_past_cont, n_var_past_disc, dim_model, dropout_r = dropout_r) \n",
    "        self.vs_future = VSN(n_var_future_cont, n_var_future_disc, dim_model, dropout_r = dropout_r)\n",
    "        \n",
    "        self.enc = LSTMLayer(dim_model, dropout_r = dropout_r, n_layers = n_lstm_layers) \n",
    "        self.dec = LSTMLayer(dim_model, dropout_r = dropout_r, n_layers = n_lstm_layers) \n",
    "        \n",
    "        self.gate1 = GLU(dim_model) \n",
    "        self.norm1 = nn.LayerNorm(dim_model) \n",
    "        \n",
    "        self.static_enrich_grn = GRN(dim_model, dropout_r = dropout_r)\n",
    "        \n",
    "        self.attention = [] \n",
    "        for i in range(n_attention_layers): \n",
    "            self.attention.append([MultiHeadAttentionBlock(dim_model, dim_model, n_heads = n_heads).cuda(),\n",
    "                                   nn.LayerNorm(dim_model).cuda()]) \n",
    "        \n",
    "        self.norm2 = nn.LayerNorm(dim_model) \n",
    "        self.positionwise_grn = GRN(dim_model, dropout_r = dropout_r) \n",
    "        self.norm3 = nn.LayerNorm(dim_model) \n",
    "        self.dropout = nn.Dropout(dropout_r) \n",
    "        self.fc_out = nn.Linear(dim_model, n_quantiles) \n",
    "        \n",
    "    # takes input (batch_size, past_seq_len, n_variables_past) \n",
    "    # and (batch_size, future_seq_len, n_variables_future) \n",
    "    def forward(self, x_past_cont, x_past_disc, x_future_cont, x_future_disc):\n",
    "        # Encoder \n",
    "        x_past, vs_weights = self.vs_past(x_past_cont, x_past_disc) \n",
    "        e, e_hidden = self.enc(x_past) \n",
    "        self.dec_hidden = e_hidden \n",
    "        e = self.dropout(e) \n",
    "        x_past = self.norm1(self.gate1(e) + x_past) \n",
    "\n",
    "        # Decoder\n",
    "        x_future, _ = self.vs_future(x_future_cont, x_future_disc) \n",
    "        d, _ = self.dec(x_future) \n",
    "        d = self.dropout(d) \n",
    "        x_future = self.norm1(self.gate1(d) + x_future) \n",
    "\n",
    "        # static enrichment\n",
    "        x = torch.cat((x_past, x_future), dim=1) # (batch_size, past_seq_len + future_seq_len, dim_model)\n",
    "        attention_res = x_future\n",
    "        x = self.static_enrich_grn(x) \n",
    "\n",
    "        # attention layer \n",
    "        a = self.attention[0][1](self.attention[0][0](x) + x) \n",
    "        for at in self.attention[1:]:\n",
    "            a = at[1](at[0](a) + a) \n",
    "        x_future = self.norm2(a[:, x_past.shape[1]:] + x_future) \n",
    "        a = self.positionwise_grn(x_future) \n",
    "        x_future = self.norm3(a + x_future + attention_res) \n",
    "        net_out = self.fc_out(x_future)  \n",
    "        return net_out, vs_weights \n",
    "\n",
    "    def reset(self, batch_size, gpu = True): \n",
    "        self.enc.reset(batch_size, gpu) \n",
    "        self.dec.reset(batch_size, gpu) "
   ]
  },
  {
   "cell_type": "code",
   "execution_count": 48,
   "metadata": {},
   "outputs": [],
   "source": [
    "class CustomDataset(Dataset): \n",
    "    def __init__(self, past_cont, past_disc, target_seq, future_disc): \n",
    "        self.past_cont = past_cont\n",
    "        self.past_disc = past_disc \n",
    "        self.target_seq = target_seq  \n",
    "        self.future_disc = future_disc \n",
    "        \n",
    "    def __len__(self): \n",
    "        return len(self.past_cont) \n",
    "    \n",
    "    def __getitem__(self, i):  \n",
    "        return {\n",
    "            'past_cont': torch.tensor(self.past_cont[i], dtype=torch.float32), \n",
    "            'past_disc': torch.tensor(self.past_disc[i], dtype=torch.float32), \n",
    "            'target_seq': torch.tensor(self.target_seq[i], dtype=torch.float32),  \n",
    "            'future_disc': torch.tensor(self.future_disc[i], dtype=torch.float32),  \n",
    "        }"
   ]
  },
  {
   "cell_type": "code",
   "execution_count": 49,
   "metadata": {},
   "outputs": [],
   "source": [
    "BATCH_SIZE = 128\n",
    "\n",
    "train_dataset = CustomDataset(train_in_cont, train_in_disc, train_target_seq, train_future_disc)\n",
    "val_dataset = CustomDataset(val_in_cont, val_in_disc, val_target_seq, val_future_disc)  \n",
    "\n",
    "train_dataloader = torch.utils.data.DataLoader(train_dataset, batch_size = BATCH_SIZE, shuffle = True) \n",
    "val_dataloader = torch.utils.data.DataLoader(val_dataset, batch_size = BATCH_SIZE, shuffle = False) \n"
   ]
  },
  {
   "cell_type": "code",
   "execution_count": 50,
   "metadata": {},
   "outputs": [
    {
     "data": {
      "text/plain": [
       "TFN(\n",
       "  (vs_past): VSN(\n",
       "    (fc): Linear(in_features=1, out_features=160, bias=False)\n",
       "    (input_grn): GRN(\n",
       "      (fc1): Linear(in_features=160, out_features=10, bias=True)\n",
       "      (fc2): Linear(in_features=10, out_features=160, bias=True)\n",
       "      (dropout): Dropout(p=0.1, inplace=False)\n",
       "      (gate): GLU(\n",
       "        (fc1): Linear(in_features=160, out_features=160, bias=True)\n",
       "        (fc2): Linear(in_features=160, out_features=160, bias=True)\n",
       "      )\n",
       "      (norm): LayerNorm((160,), eps=1e-05, elementwise_affine=True)\n",
       "    )\n",
       "    (vs_grn): GRN(\n",
       "      (skip): Linear(in_features=1760, out_features=11, bias=True)\n",
       "      (fc1): Linear(in_features=1760, out_features=10, bias=True)\n",
       "      (fc2): Linear(in_features=10, out_features=11, bias=True)\n",
       "      (dropout): Dropout(p=0.1, inplace=False)\n",
       "      (gate): GLU(\n",
       "        (fc1): Linear(in_features=11, out_features=11, bias=True)\n",
       "        (fc2): Linear(in_features=11, out_features=11, bias=True)\n",
       "      )\n",
       "      (norm): LayerNorm((11,), eps=1e-05, elementwise_affine=True)\n",
       "    )\n",
       "  )\n",
       "  (vs_future): VSN(\n",
       "    (fc): Linear(in_features=1, out_features=160, bias=False)\n",
       "    (input_grn): GRN(\n",
       "      (fc1): Linear(in_features=160, out_features=10, bias=True)\n",
       "      (fc2): Linear(in_features=10, out_features=160, bias=True)\n",
       "      (dropout): Dropout(p=0.1, inplace=False)\n",
       "      (gate): GLU(\n",
       "        (fc1): Linear(in_features=160, out_features=160, bias=True)\n",
       "        (fc2): Linear(in_features=160, out_features=160, bias=True)\n",
       "      )\n",
       "      (norm): LayerNorm((160,), eps=1e-05, elementwise_affine=True)\n",
       "    )\n",
       "    (vs_grn): GRN(\n",
       "      (skip): Linear(in_features=160, out_features=1, bias=True)\n",
       "      (fc1): Linear(in_features=160, out_features=10, bias=True)\n",
       "      (fc2): Linear(in_features=10, out_features=1, bias=True)\n",
       "      (dropout): Dropout(p=0.1, inplace=False)\n",
       "      (gate): GLU(\n",
       "        (fc1): Linear(in_features=1, out_features=1, bias=True)\n",
       "        (fc2): Linear(in_features=1, out_features=1, bias=True)\n",
       "      )\n",
       "      (norm): LayerNorm((1,), eps=1e-05, elementwise_affine=True)\n",
       "    )\n",
       "  )\n",
       "  (enc): LSTMLayer(\n",
       "    (lstm): LSTM(160, 160, batch_first=True)\n",
       "    (dropout): Dropout(p=0.1, inplace=False)\n",
       "  )\n",
       "  (dec): LSTMLayer(\n",
       "    (lstm): LSTM(160, 160, batch_first=True)\n",
       "    (dropout): Dropout(p=0.1, inplace=False)\n",
       "  )\n",
       "  (gate1): GLU(\n",
       "    (fc1): Linear(in_features=160, out_features=160, bias=True)\n",
       "    (fc2): Linear(in_features=160, out_features=160, bias=True)\n",
       "  )\n",
       "  (norm1): LayerNorm((160,), eps=1e-05, elementwise_affine=True)\n",
       "  (static_enrich_grn): GRN(\n",
       "    (fc1): Linear(in_features=160, out_features=10, bias=True)\n",
       "    (fc2): Linear(in_features=10, out_features=160, bias=True)\n",
       "    (dropout): Dropout(p=0.1, inplace=False)\n",
       "    (gate): GLU(\n",
       "      (fc1): Linear(in_features=160, out_features=160, bias=True)\n",
       "      (fc2): Linear(in_features=160, out_features=160, bias=True)\n",
       "    )\n",
       "    (norm): LayerNorm((160,), eps=1e-05, elementwise_affine=True)\n",
       "  )\n",
       "  (norm2): LayerNorm((160,), eps=1e-05, elementwise_affine=True)\n",
       "  (positionwise_grn): GRN(\n",
       "    (fc1): Linear(in_features=160, out_features=10, bias=True)\n",
       "    (fc2): Linear(in_features=10, out_features=160, bias=True)\n",
       "    (dropout): Dropout(p=0.1, inplace=False)\n",
       "    (gate): GLU(\n",
       "      (fc1): Linear(in_features=160, out_features=160, bias=True)\n",
       "      (fc2): Linear(in_features=160, out_features=160, bias=True)\n",
       "    )\n",
       "    (norm): LayerNorm((160,), eps=1e-05, elementwise_affine=True)\n",
       "  )\n",
       "  (norm3): LayerNorm((160,), eps=1e-05, elementwise_affine=True)\n",
       "  (dropout): Dropout(p=0.1, inplace=False)\n",
       "  (fc_out): Linear(in_features=160, out_features=1, bias=True)\n",
       ")"
      ]
     },
     "execution_count": 50,
     "metadata": {},
     "output_type": "execute_result"
    }
   ],
   "source": [
    "model = TFN(n_var_past_cont = 10,\n",
    "            n_var_future_cont = 0, \n",
    "            n_var_past_disc = [24],\n",
    "            n_var_future_disc = [24],\n",
    "            dim_model = 160) \n",
    "\n",
    "model.cuda()\n"
   ]
  },
  {
   "cell_type": "code",
   "execution_count": 64,
   "metadata": {},
   "outputs": [],
   "source": [
    "device = torch.device('cuda')\n",
    "\n",
    "quantiles = torch.tensor([0.1, 0.5, 0.9]).float().type(torch.cuda.FloatTensor)\n",
    "\n",
    "epochs = 50\n",
    "\n",
    "optimizer = torch.optim.Adam(model.parameters(), lr=5e-5) \n",
    "\n",
    "train_losses, val_losses = [], []  \n",
    "\n",
    "criterion = nn.MSELoss()"
   ]
  },
  {
   "cell_type": "code",
   "execution_count": 67,
   "metadata": {},
   "outputs": [],
   "source": [
    "def evaluate(data_dataloader): \n",
    "    eval_loss = 0 \n",
    "    for step, batch in enumerate(data_dataloader): \n",
    "        past_cont = batch['past_cont'].to(device) \n",
    "        past_disc = batch['past_disc'].to(device) \n",
    "        target_seq = batch['target_seq'].to(device) \n",
    "        future_disc = batch['future_disc'].to(device) \n",
    "        \n",
    "        model.reset(batch_size=past_cont.shape[0], gpu=True)\n",
    "\n",
    "        \n",
    "        with torch.no_grad():\n",
    "            net_out, vs_weights = model(x_past_cont = past_cont, \n",
    "                                        x_past_disc = past_disc,\n",
    "                                        x_future_cont = None, \n",
    "                                        x_future_disc = future_disc) \n",
    "        \n",
    "        # loss = torch.mean(QuantileLoss(net_out, target_seq, quantiles)) \n",
    "        loss = criterion(net_out, target_seq)\n",
    "        eval_loss += loss.item() \n",
    "    \n",
    "    avg_val_loss = eval_loss / len(data_dataloader)\n",
    "        \n",
    "    return avg_val_loss, net_out, vs_weights"
   ]
  },
  {
   "cell_type": "code",
   "execution_count": 68,
   "metadata": {},
   "outputs": [
    {
     "name": "stdout",
     "output_type": "stream",
     "text": [
      "\n",
      "======== Epoch 1 / 50 ========\n",
      "Training...\n"
     ]
    },
    {
     "name": "stderr",
     "output_type": "stream",
     "text": [
      "0it [00:00, ?it/s]/usr/local/lib/python3.6/dist-packages/ipykernel_launcher.py:13: UserWarning: To copy construct from a tensor, it is recommended to use sourceTensor.clone().detach() or sourceTensor.clone().detach().requires_grad_(True), rather than torch.tensor(sourceTensor).\n",
      "  del sys.path[0]\n",
      "/usr/local/lib/python3.6/dist-packages/ipykernel_launcher.py:14: UserWarning: To copy construct from a tensor, it is recommended to use sourceTensor.clone().detach() or sourceTensor.clone().detach().requires_grad_(True), rather than torch.tensor(sourceTensor).\n",
      "  \n",
      "/usr/local/lib/python3.6/dist-packages/ipykernel_launcher.py:15: UserWarning: To copy construct from a tensor, it is recommended to use sourceTensor.clone().detach() or sourceTensor.clone().detach().requires_grad_(True), rather than torch.tensor(sourceTensor).\n",
      "  from ipykernel import kernelapp as app\n",
      "/usr/local/lib/python3.6/dist-packages/ipykernel_launcher.py:16: UserWarning: To copy construct from a tensor, it is recommended to use sourceTensor.clone().detach() or sourceTensor.clone().detach().requires_grad_(True), rather than torch.tensor(sourceTensor).\n",
      "  app.launch_new_instance()\n",
      "200it [01:05,  2.97it/s]/usr/local/lib/python3.6/dist-packages/torch/nn/modules/loss.py:446: UserWarning: Using a target size (torch.Size([128, 1])) that is different to the input size (torch.Size([128, 1, 1])). This will likely lead to incorrect results due to broadcasting. Please ensure they have the same size.\n",
      "  return F.mse_loss(input, target, reduction=self.reduction)\n",
      "/usr/local/lib/python3.6/dist-packages/torch/nn/modules/loss.py:446: UserWarning: Using a target size (torch.Size([45, 1])) that is different to the input size (torch.Size([45, 1, 1])). This will likely lead to incorrect results due to broadcasting. Please ensure they have the same size.\n",
      "  return F.mse_loss(input, target, reduction=self.reduction)\n"
     ]
    },
    {
     "name": "stdout",
     "output_type": "stream",
     "text": [
      "saving best checkpoint!\n"
     ]
    },
    {
     "name": "stderr",
     "output_type": "stream",
     "text": [
      "400it [02:15,  3.04it/s]"
     ]
    },
    {
     "name": "stdout",
     "output_type": "stream",
     "text": [
      "saving best checkpoint!\n"
     ]
    },
    {
     "name": "stderr",
     "output_type": "stream",
     "text": [
      "600it [03:23,  2.90it/s]"
     ]
    },
    {
     "name": "stdout",
     "output_type": "stream",
     "text": [
      "saving best checkpoint!\n"
     ]
    },
    {
     "name": "stderr",
     "output_type": "stream",
     "text": [
      "800it [04:34,  3.02it/s]"
     ]
    },
    {
     "name": "stdout",
     "output_type": "stream",
     "text": [
      "saving best checkpoint!\n"
     ]
    },
    {
     "name": "stderr",
     "output_type": "stream",
     "text": [
      "1000it [05:41,  3.01it/s]"
     ]
    },
    {
     "name": "stdout",
     "output_type": "stream",
     "text": [
      "saving best checkpoint!\n"
     ]
    },
    {
     "name": "stderr",
     "output_type": "stream",
     "text": [
      "1200it [06:53,  2.64it/s]"
     ]
    },
    {
     "name": "stdout",
     "output_type": "stream",
     "text": [
      "saving best checkpoint!\n"
     ]
    },
    {
     "name": "stderr",
     "output_type": "stream",
     "text": [
      "1400it [08:02,  2.96it/s]"
     ]
    },
    {
     "name": "stdout",
     "output_type": "stream",
     "text": [
      "saving best checkpoint!\n"
     ]
    },
    {
     "name": "stderr",
     "output_type": "stream",
     "text": [
      "1600it [09:10,  3.06it/s]"
     ]
    },
    {
     "name": "stdout",
     "output_type": "stream",
     "text": [
      "saving best checkpoint!\n"
     ]
    },
    {
     "name": "stderr",
     "output_type": "stream",
     "text": [
      "1800it [10:21,  2.88it/s]"
     ]
    },
    {
     "name": "stdout",
     "output_type": "stream",
     "text": [
      "saving best checkpoint!\n"
     ]
    },
    {
     "name": "stderr",
     "output_type": "stream",
     "text": [
      "2000it [11:32,  3.27it/s]"
     ]
    },
    {
     "name": "stdout",
     "output_type": "stream",
     "text": [
      "saving best checkpoint!\n"
     ]
    },
    {
     "name": "stderr",
     "output_type": "stream",
     "text": [
      "2200it [12:39,  3.17it/s]"
     ]
    },
    {
     "name": "stdout",
     "output_type": "stream",
     "text": [
      "saving best checkpoint!\n"
     ]
    },
    {
     "name": "stderr",
     "output_type": "stream",
     "text": [
      "2497it [14:22,  2.90it/s]\n"
     ]
    },
    {
     "name": "stdout",
     "output_type": "stream",
     "text": [
      "\n",
      "======== Epoch 2 / 50 ========\n",
      "Training...\n"
     ]
    },
    {
     "name": "stderr",
     "output_type": "stream",
     "text": [
      "200it [01:06,  2.49it/s]"
     ]
    },
    {
     "name": "stdout",
     "output_type": "stream",
     "text": [
      "saving best checkpoint!\n"
     ]
    },
    {
     "name": "stderr",
     "output_type": "stream",
     "text": [
      "1000it [05:44,  3.10it/s]"
     ]
    },
    {
     "name": "stdout",
     "output_type": "stream",
     "text": [
      "saving best checkpoint!\n"
     ]
    },
    {
     "name": "stderr",
     "output_type": "stream",
     "text": [
      "1200it [06:54,  2.75it/s]"
     ]
    },
    {
     "name": "stdout",
     "output_type": "stream",
     "text": [
      "saving best checkpoint!\n"
     ]
    },
    {
     "name": "stderr",
     "output_type": "stream",
     "text": [
      "2497it [14:23,  2.89it/s]\n"
     ]
    },
    {
     "name": "stdout",
     "output_type": "stream",
     "text": [
      "\n",
      "======== Epoch 3 / 50 ========\n",
      "Training...\n"
     ]
    },
    {
     "name": "stderr",
     "output_type": "stream",
     "text": [
      "200it [01:05,  3.64it/s]"
     ]
    },
    {
     "name": "stdout",
     "output_type": "stream",
     "text": [
      "saving best checkpoint!\n"
     ]
    },
    {
     "name": "stderr",
     "output_type": "stream",
     "text": [
      "600it [03:21,  2.86it/s]"
     ]
    },
    {
     "name": "stdout",
     "output_type": "stream",
     "text": [
      "saving best checkpoint!\n"
     ]
    },
    {
     "name": "stderr",
     "output_type": "stream",
     "text": [
      "2497it [14:23,  2.89it/s]\n"
     ]
    },
    {
     "name": "stdout",
     "output_type": "stream",
     "text": [
      "\n",
      "======== Epoch 4 / 50 ========\n",
      "Training...\n"
     ]
    },
    {
     "name": "stderr",
     "output_type": "stream",
     "text": [
      "800it [04:38,  3.02it/s]"
     ]
    },
    {
     "name": "stdout",
     "output_type": "stream",
     "text": [
      "saving best checkpoint!\n"
     ]
    },
    {
     "name": "stderr",
     "output_type": "stream",
     "text": [
      "1400it [08:05,  2.74it/s]"
     ]
    },
    {
     "name": "stdout",
     "output_type": "stream",
     "text": [
      "saving best checkpoint!\n"
     ]
    },
    {
     "name": "stderr",
     "output_type": "stream",
     "text": [
      "1800it [10:13,  3.18it/s]"
     ]
    },
    {
     "name": "stdout",
     "output_type": "stream",
     "text": [
      "saving best checkpoint!\n"
     ]
    },
    {
     "name": "stderr",
     "output_type": "stream",
     "text": [
      "2497it [14:01,  2.97it/s]\n"
     ]
    },
    {
     "name": "stdout",
     "output_type": "stream",
     "text": [
      "\n",
      "======== Epoch 5 / 50 ========\n",
      "Training...\n"
     ]
    },
    {
     "name": "stderr",
     "output_type": "stream",
     "text": [
      "2497it [15:01,  2.77it/s]\n"
     ]
    },
    {
     "name": "stdout",
     "output_type": "stream",
     "text": [
      "\n",
      "======== Epoch 27 / 50 ========\n",
      "Training...\n"
     ]
    },
    {
     "name": "stderr",
     "output_type": "stream",
     "text": [
      "2497it [15:05,  2.76it/s]\n"
     ]
    },
    {
     "name": "stdout",
     "output_type": "stream",
     "text": [
      "\n",
      "======== Epoch 28 / 50 ========\n",
      "Training...\n"
     ]
    },
    {
     "name": "stderr",
     "output_type": "stream",
     "text": [
      "2497it [15:09,  2.75it/s]\n"
     ]
    },
    {
     "name": "stdout",
     "output_type": "stream",
     "text": [
      "\n",
      "======== Epoch 29 / 50 ========\n",
      "Training...\n"
     ]
    },
    {
     "name": "stderr",
     "output_type": "stream",
     "text": [
      "2497it [15:27,  2.69it/s]\n"
     ]
    },
    {
     "name": "stdout",
     "output_type": "stream",
     "text": [
      "\n",
      "======== Epoch 30 / 50 ========\n",
      "Training...\n"
     ]
    },
    {
     "name": "stderr",
     "output_type": "stream",
     "text": [
      "2497it [14:46,  2.82it/s]\n"
     ]
    },
    {
     "name": "stdout",
     "output_type": "stream",
     "text": [
      "\n",
      "======== Epoch 39 / 50 ========\n",
      "Training...\n"
     ]
    },
    {
     "name": "stderr",
     "output_type": "stream",
     "text": [
      "2163it [12:48,  2.95it/s]IOPub message rate exceeded.\n",
      "The notebook server will temporarily stop sending output\n",
      "to the client in order to avoid crashing it.\n",
      "To change this limit, set the config variable\n",
      "`--NotebookApp.iopub_msg_rate_limit`.\n",
      "\n",
      "Current values:\n",
      "NotebookApp.iopub_msg_rate_limit=1000.0 (msgs/sec)\n",
      "NotebookApp.rate_limit_window=3.0 (secs)\n",
      "\n",
      "2497it [15:05,  2.76it/s]\n"
     ]
    },
    {
     "name": "stdout",
     "output_type": "stream",
     "text": [
      "\n",
      "======== Epoch 42 / 50 ========\n",
      "Training...\n"
     ]
    },
    {
     "name": "stderr",
     "output_type": "stream",
     "text": [
      "1687it [10:03,  2.77it/s]IOPub message rate exceeded.\n",
      "The notebook server will temporarily stop sending output\n",
      "to the client in order to avoid crashing it.\n",
      "To change this limit, set the config variable\n",
      "`--NotebookApp.iopub_msg_rate_limit`.\n",
      "\n",
      "Current values:\n",
      "NotebookApp.iopub_msg_rate_limit=1000.0 (msgs/sec)\n",
      "NotebookApp.rate_limit_window=3.0 (secs)\n",
      "\n",
      "2497it [15:08,  2.75it/s]\n"
     ]
    },
    {
     "name": "stdout",
     "output_type": "stream",
     "text": [
      "\n",
      "======== Epoch 45 / 50 ========\n",
      "Training...\n"
     ]
    },
    {
     "name": "stderr",
     "output_type": "stream",
     "text": [
      "739it [04:27,  2.79it/s]IOPub message rate exceeded.\n",
      "The notebook server will temporarily stop sending output\n",
      "to the client in order to avoid crashing it.\n",
      "To change this limit, set the config variable\n",
      "`--NotebookApp.iopub_msg_rate_limit`.\n",
      "\n",
      "Current values:\n",
      "NotebookApp.iopub_msg_rate_limit=1000.0 (msgs/sec)\n",
      "NotebookApp.rate_limit_window=3.0 (secs)\n",
      "\n",
      "2497it [15:07,  2.75it/s]\n"
     ]
    },
    {
     "name": "stdout",
     "output_type": "stream",
     "text": [
      "\n",
      "======== Epoch 47 / 50 ========\n",
      "Training...\n"
     ]
    },
    {
     "name": "stderr",
     "output_type": "stream",
     "text": [
      "2479it [15:02,  2.81it/s]IOPub message rate exceeded.\n",
      "The notebook server will temporarily stop sending output\n",
      "to the client in order to avoid crashing it.\n",
      "To change this limit, set the config variable\n",
      "`--NotebookApp.iopub_msg_rate_limit`.\n",
      "\n",
      "Current values:\n",
      "NotebookApp.iopub_msg_rate_limit=1000.0 (msgs/sec)\n",
      "NotebookApp.rate_limit_window=3.0 (secs)\n",
      "\n",
      "2497it [15:27,  2.69it/s]\n"
     ]
    },
    {
     "name": "stdout",
     "output_type": "stream",
     "text": [
      "\n",
      "======== Epoch 50 / 50 ========\n",
      "Training...\n"
     ]
    },
    {
     "name": "stderr",
     "output_type": "stream",
     "text": [
      "1705it [10:39,  2.91it/s]IOPub message rate exceeded.\n",
      "The notebook server will temporarily stop sending output\n",
      "to the client in order to avoid crashing it.\n",
      "To change this limit, set the config variable\n",
      "`--NotebookApp.iopub_msg_rate_limit`.\n",
      "\n",
      "Current values:\n",
      "NotebookApp.iopub_msg_rate_limit=1000.0 (msgs/sec)\n",
      "NotebookApp.rate_limit_window=3.0 (secs)\n",
      "\n"
     ]
    }
   ],
   "source": [
    "# plot figures every epoch \n",
    "fig = plt.figure()\n",
    "ax = fig.add_subplot(411)\n",
    "ax1 = fig.add_subplot(412)\n",
    "# ax2 = fig.add_subplot(413)\n",
    "ax3 = fig.add_subplot(414)\n",
    "plt.ion()\n",
    "\n",
    "\n",
    "for i in range(epochs):\n",
    "    print(\"\")\n",
    "    print('======== Epoch {:} / {:} ========'.format(i + 1, epochs))\n",
    "    print('Training...')\n",
    "    total_loss = 0 \n",
    "    model.train() \n",
    "    \n",
    "    for step, batch in tqdm(enumerate(train_dataloader)): \n",
    "        if step%200 == 0 and not step == 0: \n",
    "            model.eval() \n",
    "            val_loss, _, _ = evaluate(val_dataloader) \n",
    "            val_losses.append(val_loss) \n",
    "            if np.min(val_losses) == val_losses[-1]: \n",
    "                print(\"saving best checkpoint!\") \n",
    "                torch.save(model.state_dict(), \"TFT_binance_prototype.pt\") \n",
    "            model.train()  \n",
    "    \n",
    "        \n",
    "        past_cont = batch['past_cont'].to(device) \n",
    "        past_disc = batch['past_disc'].to(device) \n",
    "        target_seq = batch['target_seq'].to(device) \n",
    "        future_disc = batch['future_disc'].to(device) \n",
    "        model.reset(batch_size=past_cont.shape[0], gpu=True)\n",
    "                \n",
    "        optimizer.zero_grad() \n",
    "\n",
    "        net_out, vs_weights = model(x_past_cont = past_cont, \n",
    "                                    x_past_disc = past_disc, \n",
    "                                    x_future_cont = None, \n",
    "                                    x_future_disc = future_disc) \n",
    "        \n",
    "        # net_out = net_out.cpu().detach()[0]\n",
    "        #loss = torch.mean(QuantileLoss(net_out, target_seq, quantiles))  \n",
    "        net_out = torch.reshape(net_out, (-1,1))\n",
    "        loss = criterion(net_out, target_seq)\n",
    "        # backward pass \n",
    "        train_losses.append(loss.item()) \n",
    "        loss.backward() \n",
    "        optimizer.step() \n",
    "\n",
    "        # loss graphs\n",
    "        fig.tight_layout(pad=0.1) \n",
    "        ax.clear()\n",
    "        ax.title.set_text(\"Training Loss\")\n",
    "        ax.plot(train_losses)\n",
    "        \n",
    "        ax1.clear() \n",
    "        ax1.title.set_text(\"Val Loss\")\n",
    "        ax1.plot(val_losses) \n",
    "        \n",
    "        # visualise variable selection weights \n",
    "        vs_weights = torch.mean(torch.mean(vs_weights, dim=0), dim=0).squeeze()  \n",
    "        vs_weights = vs_weights.cpu().detach().numpy()\n",
    "        ax3.clear() \n",
    "        ax3.title.set_text(\"Variable Selection Weights\") \n",
    "        plt.xticks(rotation=-30) \n",
    "        x = [\"BTC Open\", \"BTC High\", \"BTC Low\", \"BTC Close\", \"BTC Volume\",\n",
    "            \"ETH Open\", \"ETH High\", \"ETH Low\", \"ETH Close\", \"ETH Volume\", \"Hours\"] \n",
    "        ax3.bar(x=x, height=vs_weights) \n",
    "        fig.canvas.draw() "
   ]
  },
  {
   "cell_type": "code",
   "execution_count": 70,
   "metadata": {},
   "outputs": [
    {
     "name": "stdout",
     "output_type": "stream",
     "text": [
      "hi\n"
     ]
    }
   ],
   "source": [
    "print(\"hi\")"
   ]
  },
  {
   "cell_type": "code",
   "execution_count": 71,
   "metadata": {},
   "outputs": [
    {
     "data": {
      "image/png": "[encoded data removed]",
      "text/plain": [
       "<Figure size 432x288 with 1 Axes>"
      ]
     },
     "metadata": {
      "needs_background": "light"
     },
     "output_type": "display_data"
    }
   ],
   "source": [
    "fig = plt.figure()\n",
    "ax = fig.add_subplot(411)\n",
    "\n",
    "# loss graphs\n",
    "fig.tight_layout(pad=0.1) \n",
    "ax.clear()\n",
    "ax.title.set_text(\"Training Loss\")\n",
    "ax.plot(train_losses)\n",
    "        \n",
    "fig.canvas.draw() "
   ]
  },
  {
   "cell_type": "code",
   "execution_count": 72,
   "metadata": {},
   "outputs": [
    {
     "data": {
      "image/png": "[encoded data removed]",
      "text/plain": [
       "<Figure size 432x288 with 1 Axes>"
      ]
     },
     "metadata": {
      "needs_background": "light"
     },
     "output_type": "display_data"
    }
   ],
   "source": [
    "fig = plt.figure()\n",
    "ax1 = fig.add_subplot(412) \n",
    "fig.tight_layout(pad=0.1)\n",
    "ax1.clear() \n",
    "ax1.title.set_text(\"Val Loss\") \n",
    "ax1.plot(val_losses) \n",
    "fig.canvas.draw()"
   ]
  },
  {
   "cell_type": "code",
   "execution_count": 73,
   "metadata": {},
   "outputs": [
    {
     "data": {
      "image/png": "[encoded data removed]",
      "text/plain": [
       "<Figure size 432x288 with 1 Axes>"
      ]
     },
     "metadata": {
      "needs_background": "light"
     },
     "output_type": "display_data"
    }
   ],
   "source": [
    "fig = plt.figure() \n",
    "ax3 = fig.add_subplot(413)\n",
    "# visualise variable selection weights \n",
    "ax3.title.set_text(\"Variable Selection Weights\") \n",
    "plt.xticks(rotation=-30) \n",
    "x = [\"BTC Open\", \"BTC High\", \"BTC Low\", \"BTC Close\", \"BTC Volume\",\n",
    "            \"ETH Open\", \"ETH High\", \"ETH Low\", \"ETH Close\", \"ETH Volume\", \"Hours\"] \n",
    "ax3.bar(x=x, height=vs_weights) \n",
    "fig.canvas.draw()"
   ]
  },
  {
   "cell_type": "markdown",
   "metadata": {},
   "source": [
    "# Evaluation\n",
    "N+K Prediction"
   ]
  },
  {
   "cell_type": "code",
   "execution_count": 74,
   "metadata": {},
   "outputs": [
    {
     "data": {
      "text/plain": [
       "TFN(\n",
       "  (vs_past): VSN(\n",
       "    (fc): Linear(in_features=1, out_features=160, bias=False)\n",
       "    (input_grn): GRN(\n",
       "      (fc1): Linear(in_features=160, out_features=10, bias=True)\n",
       "      (fc2): Linear(in_features=10, out_features=160, bias=True)\n",
       "      (dropout): Dropout(p=0.1, inplace=False)\n",
       "      (gate): GLU(\n",
       "        (fc1): Linear(in_features=160, out_features=160, bias=True)\n",
       "        (fc2): Linear(in_features=160, out_features=160, bias=True)\n",
       "      )\n",
       "      (norm): LayerNorm((160,), eps=1e-05, elementwise_affine=True)\n",
       "    )\n",
       "    (vs_grn): GRN(\n",
       "      (skip): Linear(in_features=1760, out_features=11, bias=True)\n",
       "      (fc1): Linear(in_features=1760, out_features=10, bias=True)\n",
       "      (fc2): Linear(in_features=10, out_features=11, bias=True)\n",
       "      (dropout): Dropout(p=0.1, inplace=False)\n",
       "      (gate): GLU(\n",
       "        (fc1): Linear(in_features=11, out_features=11, bias=True)\n",
       "        (fc2): Linear(in_features=11, out_features=11, bias=True)\n",
       "      )\n",
       "      (norm): LayerNorm((11,), eps=1e-05, elementwise_affine=True)\n",
       "    )\n",
       "  )\n",
       "  (vs_future): VSN(\n",
       "    (fc): Linear(in_features=1, out_features=160, bias=False)\n",
       "    (input_grn): GRN(\n",
       "      (fc1): Linear(in_features=160, out_features=10, bias=True)\n",
       "      (fc2): Linear(in_features=10, out_features=160, bias=True)\n",
       "      (dropout): Dropout(p=0.1, inplace=False)\n",
       "      (gate): GLU(\n",
       "        (fc1): Linear(in_features=160, out_features=160, bias=True)\n",
       "        (fc2): Linear(in_features=160, out_features=160, bias=True)\n",
       "      )\n",
       "      (norm): LayerNorm((160,), eps=1e-05, elementwise_affine=True)\n",
       "    )\n",
       "    (vs_grn): GRN(\n",
       "      (skip): Linear(in_features=160, out_features=1, bias=True)\n",
       "      (fc1): Linear(in_features=160, out_features=10, bias=True)\n",
       "      (fc2): Linear(in_features=10, out_features=1, bias=True)\n",
       "      (dropout): Dropout(p=0.1, inplace=False)\n",
       "      (gate): GLU(\n",
       "        (fc1): Linear(in_features=1, out_features=1, bias=True)\n",
       "        (fc2): Linear(in_features=1, out_features=1, bias=True)\n",
       "      )\n",
       "      (norm): LayerNorm((1,), eps=1e-05, elementwise_affine=True)\n",
       "    )\n",
       "  )\n",
       "  (enc): LSTMLayer(\n",
       "    (lstm): LSTM(160, 160, batch_first=True)\n",
       "    (dropout): Dropout(p=0.1, inplace=False)\n",
       "  )\n",
       "  (dec): LSTMLayer(\n",
       "    (lstm): LSTM(160, 160, batch_first=True)\n",
       "    (dropout): Dropout(p=0.1, inplace=False)\n",
       "  )\n",
       "  (gate1): GLU(\n",
       "    (fc1): Linear(in_features=160, out_features=160, bias=True)\n",
       "    (fc2): Linear(in_features=160, out_features=160, bias=True)\n",
       "  )\n",
       "  (norm1): LayerNorm((160,), eps=1e-05, elementwise_affine=True)\n",
       "  (static_enrich_grn): GRN(\n",
       "    (fc1): Linear(in_features=160, out_features=10, bias=True)\n",
       "    (fc2): Linear(in_features=10, out_features=160, bias=True)\n",
       "    (dropout): Dropout(p=0.1, inplace=False)\n",
       "    (gate): GLU(\n",
       "      (fc1): Linear(in_features=160, out_features=160, bias=True)\n",
       "      (fc2): Linear(in_features=160, out_features=160, bias=True)\n",
       "    )\n",
       "    (norm): LayerNorm((160,), eps=1e-05, elementwise_affine=True)\n",
       "  )\n",
       "  (norm2): LayerNorm((160,), eps=1e-05, elementwise_affine=True)\n",
       "  (positionwise_grn): GRN(\n",
       "    (fc1): Linear(in_features=160, out_features=10, bias=True)\n",
       "    (fc2): Linear(in_features=10, out_features=160, bias=True)\n",
       "    (dropout): Dropout(p=0.1, inplace=False)\n",
       "    (gate): GLU(\n",
       "      (fc1): Linear(in_features=160, out_features=160, bias=True)\n",
       "      (fc2): Linear(in_features=160, out_features=160, bias=True)\n",
       "    )\n",
       "    (norm): LayerNorm((160,), eps=1e-05, elementwise_affine=True)\n",
       "  )\n",
       "  (norm3): LayerNorm((160,), eps=1e-05, elementwise_affine=True)\n",
       "  (dropout): Dropout(p=0.1, inplace=False)\n",
       "  (fc_out): Linear(in_features=160, out_features=1, bias=True)\n",
       ")"
      ]
     },
     "execution_count": 74,
     "metadata": {},
     "output_type": "execute_result"
    }
   ],
   "source": [
    "test_model = TFN(n_var_past_cont = 10,\n",
    "                 n_var_future_cont = 0, \n",
    "                 n_var_past_disc = [24],\n",
    "                 n_var_future_disc = [24],\n",
    "                 dim_model = 160)  \n",
    "\n",
    "test_model.cuda() \n",
    "test_model.eval() # to eval mode"
   ]
  },
  {
   "cell_type": "code",
   "execution_count": 75,
   "metadata": {},
   "outputs": [
    {
     "data": {
      "text/plain": [
       "<All keys matched successfully>"
      ]
     },
     "execution_count": 75,
     "metadata": {},
     "output_type": "execute_result"
    }
   ],
   "source": [
    "checkpoint = torch.load(\"TFT_binance_prototype.pt\") \n",
    "test_model.load_state_dict(checkpoint)"
   ]
  },
  {
   "cell_type": "code",
   "execution_count": 175,
   "metadata": {},
   "outputs": [],
   "source": [
    "cont_ins, disc_ins = [], [] \n",
    "cont_targets, disc_targets = [], [] \n",
    "\n",
    "for i in range(100,106): \n",
    "    cont_ins.append(full_val[con_cols].values[i:i+N])  \n",
    "    disc_ins.append(full_val[disc_cols].values[i:i+N]) \n",
    "    \n",
    "    cont_targets.append(full_val[con_cols].values[i+N+K]) \n",
    "    disc_targets.append(full_val[disc_cols].values[i+N+K]) \n",
    "    \n",
    "    "
   ]
  },
  {
   "cell_type": "code",
   "execution_count": null,
   "metadata": {},
   "outputs": [],
   "source": []
  },
  {
   "cell_type": "code",
   "execution_count": 176,
   "metadata": {},
   "outputs": [
    {
     "name": "stderr",
     "output_type": "stream",
     "text": [
      "100%|██████████| 1/1 [00:00<00:00, 1501.72it/s]\n"
     ]
    },
    {
     "data": {
      "text/plain": [
       "torch.Size([6, 30, 24])"
      ]
     },
     "execution_count": 176,
     "metadata": {},
     "output_type": "execute_result"
    }
   ],
   "source": [
    "cont_ins = torch.tensor(cont_ins, dtype=torch.float32) \n",
    "cont_ins = torch.reshape(cont_ins, (K, N, 10, 1))\n",
    "\n",
    "cont_targets = torch.tensor(cont_targets, dtype=torch.float32) \n",
    "cont_targets = torch.reshape(cont_targets, (K,1,10,1)) \n",
    "\n",
    "disc_ins = torch.tensor(disc_ins, dtype=torch.float32) \n",
    "disc_ins = one_hot(disc_ins, dims=[24]) \n",
    "disc_ins = disc_ins[0] \n",
    "disc_ins.shape"
   ]
  },
  {
   "cell_type": "code",
   "execution_count": 177,
   "metadata": {},
   "outputs": [
    {
     "name": "stderr",
     "output_type": "stream",
     "text": [
      "100%|██████████| 1/1 [00:00<00:00, 1416.52it/s]\n"
     ]
    },
    {
     "data": {
      "text/plain": [
       "torch.Size([6, 1, 1, 24])"
      ]
     },
     "execution_count": 177,
     "metadata": {},
     "output_type": "execute_result"
    }
   ],
   "source": [
    "disc_ins = torch.reshape(disc_ins, (-1,30,1,24)) \n",
    "\n",
    "disc_targets = torch.tensor(disc_targets, dtype=torch.float32) \n",
    "disc_targets = torch.reshape(disc_targets, (-1,1,1))\n",
    "disc_targets = one_hot(disc_targets, dims=[24]) \n",
    "disc_targets = disc_targets[0] \n",
    "disc_targets = torch.reshape(disc_targets, (-1,1,1,24))  \n",
    "\n",
    "disc_targets.shape"
   ]
  },
  {
   "cell_type": "code",
   "execution_count": 178,
   "metadata": {},
   "outputs": [
    {
     "data": {
      "text/plain": [
       "(torch.Size([6, 30, 10, 1]),\n",
       " torch.Size([6, 30, 1, 24]),\n",
       " torch.Size([6, 1, 10, 1]),\n",
       " torch.Size([6, 1, 1, 24]))"
      ]
     },
     "execution_count": 178,
     "metadata": {},
     "output_type": "execute_result"
    }
   ],
   "source": [
    "cont_ins.shape, disc_ins.shape, cont_targets.shape, disc_targets.shape"
   ]
  },
  {
   "cell_type": "code",
   "execution_count": 179,
   "metadata": {},
   "outputs": [],
   "source": [
    "cont_ins = cont_ins.to(device)\n",
    "disc_ins = disc_ins.to(device)\n",
    "cont_targets = cont_targets.to(device) \n",
    "disc_targets = disc_targets.to(device) "
   ]
  },
  {
   "cell_type": "code",
   "execution_count": 180,
   "metadata": {},
   "outputs": [],
   "source": [
    "test_model.reset(batch_size=cont_ins.shape[0], gpu=True)\n",
    "net_out, vs_weights = test_model(x_past_cont = cont_ins, \n",
    "                                 x_past_disc = disc_ins, \n",
    "                                 x_future_cont = None, \n",
    "                                 x_future_disc = disc_targets) "
   ]
  },
  {
   "cell_type": "code",
   "execution_count": 181,
   "metadata": {},
   "outputs": [
    {
     "data": {
      "text/plain": [
       "[<matplotlib.lines.Line2D at 0x7f6d89d1d860>]"
      ]
     },
     "execution_count": 181,
     "metadata": {},
     "output_type": "execute_result"
    },
    {
     "data": {
      "image/png": "[encoded data removed]",
      "text/plain": [
       "<Figure size 432x288 with 1 Axes>"
      ]
     },
     "metadata": {
      "needs_background": "light"
     },
     "output_type": "display_data"
    }
   ],
   "source": [
    "result = net_out.detach().cpu().numpy()\n",
    "\n",
    "result_flat = [] \n",
    "for x in result: \n",
    "    result_flat.append(x.item()) \n",
    "    \n",
    "plt.plot(result_flat)\n"
   ]
  },
  {
   "cell_type": "code",
   "execution_count": 184,
   "metadata": {},
   "outputs": [
    {
     "data": {
      "text/plain": [
       "[<matplotlib.lines.Line2D at 0x7f6d7c392ef0>]"
      ]
     },
     "execution_count": 184,
     "metadata": {},
     "output_type": "execute_result"
    },
    {
     "data": {
      "image/png": "[encoded data removed]",
      "text/plain": [
       "<Figure size 1440x720 with 1 Axes>"
      ]
     },
     "metadata": {
      "needs_background": "light"
     },
     "output_type": "display_data"
    }
   ],
   "source": [
    "input_sequence = full_val[con_cols].values[100:136, 3]\n",
    "target_sequence = full_val[con_cols].values[136:142, 3]\n",
    "\n",
    "\n",
    "diff = -1\n",
    "if input_sequence[-1] > result_flat[0]: \n",
    "    diff = input_sequence[-1] - result_flat[0] \n",
    "    result_flat += diff \n",
    "elif input_sequence[-1] < result_flat[0]: \n",
    "    diff = result_flat[0] - input_sequence[-1] \n",
    "    result_flat -= diff\n",
    "\n",
    "\n",
    "target_diff = -1\n",
    "if input_sequence[-1] > target_sequence[0]: \n",
    "    target_diff = input_sequence[-1] - target_sequence[0] \n",
    "    target_sequence += target_diff \n",
    "elif input_sequence[-1] < target_sequence[0]: \n",
    "    target_diff = target_sequence[0] - input_sequence[-1] \n",
    "    target_sequence -= target_diff\n",
    "    \n",
    "    \n",
    "\n",
    "\n",
    "plt.figure(figsize=(20,10))\n",
    "plt.plot(input_sequence, label = \"input_series\", color=\"blue\") \n",
    "plt.plot(np.arange(N+K, N+K+K), target_sequence, label=\"target_sequence\", color=\"red\")\n",
    "plt.plot(np.arange(N+K, N+K+K), result_flat, label='predicted', color='green')"
   ]
  },
  {
   "cell_type": "code",
   "execution_count": null,
   "metadata": {},
   "outputs": [],
   "source": []
  },
  {
   "cell_type": "code",
   "execution_count": null,
   "metadata": {},
   "outputs": [],
   "source": []
  },
  {
   "cell_type": "code",
   "execution_count": null,
   "metadata": {},
   "outputs": [],
   "source": []
  },
  {
   "cell_type": "code",
   "execution_count": null,
   "metadata": {},
   "outputs": [],
   "source": []
  }
 ],
 "metadata": {
  "kernelspec": {
   "display_name": "Python 3",
   "language": "python",
   "name": "python3"
  },
  "language_info": {
   "codemirror_mode": {
    "name": "ipython",
    "version": 3
   },
   "file_extension": ".py",
   "mimetype": "text/x-python",
   "name": "python",
   "nbconvert_exporter": "python",
   "pygments_lexer": "ipython3",
   "version": "3.6.9"
  }
 },
 "nbformat": 4,
 "nbformat_minor": 4
}
